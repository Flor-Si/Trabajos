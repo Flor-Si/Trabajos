{
  "nbformat": 4,
  "nbformat_minor": 0,
  "metadata": {
    "kernelspec": {
      "display_name": "Python 3",
      "language": "python",
      "name": "python3"
    },
    "language_info": {
      "codemirror_mode": {
        "name": "ipython",
        "version": 3
      },
      "file_extension": ".py",
      "mimetype": "text/x-python",
      "name": "python",
      "nbconvert_exporter": "python",
      "pygments_lexer": "ipython3",
      "version": "3.7.3"
    },
    "colab": {
      "provenance": [],
      "include_colab_link": true
    }
  },
  "cells": [
    {
      "cell_type": "markdown",
      "metadata": {
        "id": "view-in-github",
        "colab_type": "text"
      },
      "source": [
        "<a href=\"https://colab.research.google.com/github/Flor-Si/Trabajos/blob/main/TP4-%20Notebook_4.ipynb\" target=\"_parent\"><img src=\"https://colab.research.google.com/assets/colab-badge.svg\" alt=\"Open In Colab\"/></a>"
      ]
    },
    {
      "cell_type": "markdown",
      "metadata": {
        "id": "Gp2WddtV9IwG"
      },
      "source": [
        "# Programa Ingenias+ Data Science"
      ]
    },
    {
      "cell_type": "markdown",
      "metadata": {
        "id": "H4M1yVbf9IwH"
      },
      "source": [
        "Como dijimos en clases anteriores, Python tiene implementadas muchas librerias para poder trabajar con datos. En la clase de hoy trabajaremos con una de ellas: `Numpy`."
      ]
    },
    {
      "cell_type": "markdown",
      "source": [],
      "metadata": {
        "id": "cSLGQVwY6VSQ"
      }
    },
    {
      "cell_type": "markdown",
      "metadata": {
        "id": "GdTT8WeL9IwI"
      },
      "source": [
        "Antes de comenzar, vamos a hablar un poco de esta libreria.\n",
        "\n",
        "**Numpy** es una librería optimizada para realizar cálculos numéricos con vectores y matrices. A diferencia de otros lenguajes de programación, Python no posee en su estructura central la figura de matrices. Eso quiere decir que para poder trabajar con esta estructura de datos deberiamos trabajar con listas de listas. NumPy introduce el concepto de arrays o matrices."
      ]
    },
    {
      "cell_type": "markdown",
      "metadata": {
        "id": "qWkq3EHK9IwK"
      },
      "source": [
        "Al ser de código abierto, `numpy` posee una documentación muy amplia que es **SIEMPRE RECOMENDABLE** consultar."
      ]
    },
    {
      "cell_type": "markdown",
      "metadata": {
        "id": "nxe3KLUO9IwL"
      },
      "source": [
        "- [Documentacion NumPy](https://devdocs.io/numpy/)"
      ]
    },
    {
      "cell_type": "markdown",
      "metadata": {
        "id": "l1Ay3nSs9IwN"
      },
      "source": [
        "## Clase 4: Introduccion a NumPy"
      ]
    },
    {
      "cell_type": "markdown",
      "metadata": {
        "id": "1SOPXukc9IwO"
      },
      "source": [
        "NumPy no pertenece al _core_ de Python y es por eso que debemos importarlo para poder usarlo."
      ]
    },
    {
      "cell_type": "markdown",
      "metadata": {
        "id": "D9O1UmgD9IwP"
      },
      "source": [
        "Para importar una libreria en Python se usa la siguiente sintaxis:\n",
        "    \n",
        "`import libreria as alias`\n",
        "\n",
        "Para importar una funcion en particular de un modulo o libreria, utilizamos la sintaxis:\n",
        "    \n",
        "`from libreria import funcion`"
      ]
    },
    {
      "cell_type": "markdown",
      "metadata": {
        "id": "i9dlKZ1v9IwP"
      },
      "source": [
        "Como convencion, cuando se importa `numpy` se le asigna el alias `np`. Pero esto no es obligatorio, solo me facilita muchas veces la escritura del codigo."
      ]
    },
    {
      "cell_type": "code",
      "metadata": {
        "id": "bILSO0jr9IwQ"
      },
      "source": [
        "#Importar numpy\n",
        "import numpy as np"
      ],
      "execution_count": 2,
      "outputs": []
    },
    {
      "cell_type": "markdown",
      "metadata": {
        "id": "ksBsqePu9IwU"
      },
      "source": [
        "De ahora en mas para utilizar una función de Numpy solo tengo que usar `np` y luego llamar función. Por ejemplo, si quiero llamar la función `.mean()`, debo escribir: `np.mean()`."
      ]
    },
    {
      "cell_type": "markdown",
      "metadata": {
        "id": "VepZgbG69IwV"
      },
      "source": [
        "Comenzemos a ver que funciones se pueden utilizar en NumPy."
      ]
    },
    {
      "cell_type": "markdown",
      "metadata": {
        "id": "bA7MFSiS9IwV"
      },
      "source": [
        "- `.array()`"
      ]
    },
    {
      "cell_type": "markdown",
      "metadata": {
        "id": "FnPfh-Qa9IwW"
      },
      "source": [
        "Esta función me permite crear un array. Es posible crear arrays a partir de listas."
      ]
    },
    {
      "cell_type": "code",
      "metadata": {
        "id": "gr5IX5Zn9IwX"
      },
      "source": [
        "#creo un array\n",
        "arreglo = np.array([10, 11, 12, 13, 14, 15, 16, 17, 18, 19])"
      ],
      "execution_count": 3,
      "outputs": []
    },
    {
      "cell_type": "code",
      "source": [
        "creo = np.array([1, 2, 3, 4, 5, 6, 7, 8, 9, 10])"
      ],
      "metadata": {
        "id": "eCWQ1ddGnhVu"
      },
      "execution_count": 4,
      "outputs": []
    },
    {
      "cell_type": "code",
      "source": [
        "la_lista = [10, 11, 12, 11, 14, 15, 16, 17, 18, 19]\n",
        "tu_array = np.array(la_lista)\n",
        "print(tu_array)\n",
        "type(tu_array)\n"
      ],
      "metadata": {
        "colab": {
          "base_uri": "https://localhost:8080/"
        },
        "id": "JdR4GDxUn-fH",
        "outputId": "989f6b95-c3c7-44bb-e155-a910f506ff98"
      },
      "execution_count": 5,
      "outputs": [
        {
          "output_type": "stream",
          "name": "stdout",
          "text": [
            "[10 11 12 11 14 15 16 17 18 19]\n"
          ]
        },
        {
          "output_type": "execute_result",
          "data": {
            "text/plain": [
              "numpy.ndarray"
            ]
          },
          "metadata": {},
          "execution_count": 5
        }
      ]
    },
    {
      "cell_type": "code",
      "metadata": {
        "id": "CJGrumM49Iwa",
        "outputId": "47c981a7-d14e-4fc1-ddd1-e734f1b957d2",
        "colab": {
          "base_uri": "https://localhost:8080/"
        }
      },
      "source": [
        "#crea una lista llamada mi_lista que contenga 10 numeros\n",
        "\n",
        "mi_lista = [45,123,89,3,45,2,99,56,34,10]\n",
        "\n",
        "#Ahora transforma tu lista en un array usando np.array y asignalo a la variable mi_array\n",
        "\n",
        "mi_array = np.array(mi_lista)\n",
        "\n",
        "#Imprimi mi_array\n",
        "print(mi_array)"
      ],
      "execution_count": 6,
      "outputs": [
        {
          "output_type": "stream",
          "name": "stdout",
          "text": [
            "[ 45 123  89   3  45   2  99  56  34  10]\n"
          ]
        }
      ]
    },
    {
      "cell_type": "markdown",
      "metadata": {
        "id": "pkmckzMD9Iwc"
      },
      "source": [
        "Podemos usar `type` para obtener el tipo de estructura de datos que estamos trabajando."
      ]
    },
    {
      "cell_type": "code",
      "metadata": {
        "id": "W60TBE9t9Iwd",
        "outputId": "4391b029-2c3d-447a-e702-d2cab5332603",
        "colab": {
          "base_uri": "https://localhost:8080/"
        }
      },
      "source": [
        "#Aplica type sobre mi_array para mostrar que tipo de estructura de datos es\n",
        "type(mi_array)\n"
      ],
      "execution_count": 7,
      "outputs": [
        {
          "output_type": "execute_result",
          "data": {
            "text/plain": [
              "numpy.ndarray"
            ]
          },
          "metadata": {},
          "execution_count": 7
        }
      ]
    },
    {
      "cell_type": "markdown",
      "metadata": {
        "id": "EbksvAhu9Iwg"
      },
      "source": [
        "Los arrays y las listas se comportan diferente frente operaciones matematicas con números."
      ]
    },
    {
      "cell_type": "code",
      "source": [
        "dos = [2]\n",
        "print(la_lista + dos)\n",
        "# print(la_lista + 2) No se puede sumar un numero asi a una lista\n",
        "# Esto funciona porque dos es una lista"
      ],
      "metadata": {
        "colab": {
          "base_uri": "https://localhost:8080/"
        },
        "id": "t-4FoQ9aovrh",
        "outputId": "1424d093-b7f5-4ff6-8a0a-828853eca256"
      },
      "execution_count": null,
      "outputs": [
        {
          "output_type": "stream",
          "name": "stdout",
          "text": [
            "[10, 11, 12, 11, 14, 15, 16, 17, 18, 19, 2]\n"
          ]
        }
      ]
    },
    {
      "cell_type": "code",
      "metadata": {
        "id": "ieN2Van39Iwh"
      },
      "source": [
        "#Corre el siguiente codigo\n",
        "#print(mi_lista + 2) # A MI LISTA NO PUEDO AGREGAR O CONTATENAR UN 2"
      ],
      "execution_count": null,
      "outputs": []
    },
    {
      "cell_type": "markdown",
      "metadata": {
        "id": "nYV_cab39Iwl"
      },
      "source": [
        "No es posible sumar un numero a cada uno de los elementos de una lista. Sin embargo, esto funciona distinto en Numpy."
      ]
    },
    {
      "cell_type": "code",
      "source": [
        "la_lista2 = [i + 2 for i in la_lista]\n",
        "print(la_lista2)\n",
        "array_4=np.array(la_lista2)\n",
        "print(array_4)\n",
        "print(la_lista2 * 2)\n",
        "print(array_4 * 2)\n"
      ],
      "metadata": {
        "colab": {
          "base_uri": "https://localhost:8080/"
        },
        "id": "bQgA7WAppV_Z",
        "outputId": "55fbbd9b-3786-4e0f-a9e8-e21227ba23b7"
      },
      "execution_count": 8,
      "outputs": [
        {
          "output_type": "stream",
          "name": "stdout",
          "text": [
            "[12, 13, 14, 13, 16, 17, 18, 19, 20, 21]\n",
            "[12 13 14 13 16 17 18 19 20 21]\n",
            "[12, 13, 14, 13, 16, 17, 18, 19, 20, 21, 12, 13, 14, 13, 16, 17, 18, 19, 20, 21]\n",
            "[24 26 28 26 32 34 36 38 40 42]\n"
          ]
        }
      ]
    },
    {
      "cell_type": "code",
      "source": [
        "#realizamos la conversión con array\n",
        "import numpy as np\n",
        "\n",
        "la_lista = [10, 11, 12, 13, 14, 15, 16, 17, 18, 19]\n",
        "arr = np.array(la_lista)    # suponiendo la_lista como antes\n",
        "arr2 = arr + 2              # suma 2 a cada elemento\n",
        "print(arr2)                 # imprime: [12, 13, 14, 15, 16, 17, 18, 19, 20, 21]\n",
        "\n",
        "print(arr2 * 2)             # multiplica por dos a cada elemento"
      ],
      "metadata": {
        "colab": {
          "base_uri": "https://localhost:8080/"
        },
        "id": "E1gHXcDFc1eP",
        "outputId": "c8b1121d-5c79-4bf0-e169-c63573774d42"
      },
      "execution_count": null,
      "outputs": [
        {
          "output_type": "stream",
          "name": "stdout",
          "text": [
            "[12 13 14 15 16 17 18 19 20 21]\n",
            "[24 26 28 30 32 34 36 38 40 42]\n"
          ]
        }
      ]
    },
    {
      "cell_type": "code",
      "metadata": {
        "id": "PleL40BL9Iwl",
        "outputId": "97d3ed45-1042-4d52-eb4c-bdf8ca5e6024",
        "colab": {
          "base_uri": "https://localhost:8080/"
        }
      },
      "source": [
        "#Suma 2 a cada elemento de mi_array\n",
        "mi_lista = [45,123,89,3,45,2,99,56,34,10]\n",
        "mi_lista2 = [i + 5 for i in mi_lista]\n",
        "mi_array = np.array(mi_lista)\n",
        "mi_array3 = mi_array + 2\n",
        "print(mi_lista2)\n",
        "print(mi_array3)# Esto me devuelve mi_array sumandole dos elementos a cada valor\n",
        "mi_array2 = mi_array + 5\n"
      ],
      "execution_count": 10,
      "outputs": [
        {
          "output_type": "stream",
          "name": "stdout",
          "text": [
            "[50, 128, 94, 8, 50, 7, 104, 61, 39, 15]\n",
            "[ 47 125  91   5  47   4 101  58  36  12]\n"
          ]
        }
      ]
    },
    {
      "cell_type": "markdown",
      "metadata": {
        "id": "B5fXUiPh9Iwo"
      },
      "source": [
        "El comportamiento tambien es distinto para la operacion de multiplicacion."
      ]
    },
    {
      "cell_type": "code",
      "metadata": {
        "id": "Xv_O7QVH9Iwo",
        "outputId": "8db94e90-44dd-46c0-893f-a08ddd6988a7",
        "colab": {
          "base_uri": "https://localhost:8080/"
        }
      },
      "source": [
        "#Corre el siguiente codigo y fijate que pasa\n",
        "print(mi_lista * 2)\n",
        "# duplica los elementos de la lista"
      ],
      "execution_count": 11,
      "outputs": [
        {
          "output_type": "stream",
          "name": "stdout",
          "text": [
            "[45, 123, 89, 3, 45, 2, 99, 56, 34, 10, 45, 123, 89, 3, 45, 2, 99, 56, 34, 10]\n"
          ]
        }
      ]
    },
    {
      "cell_type": "code",
      "source": [
        "la_lista = [10, 11, 12, 13, 14, 15, 16, 17, 18, 19]\n",
        "la_lista3 = [i * 1 for i in la_lista]\n",
        "print(la_lista3)"
      ],
      "metadata": {
        "colab": {
          "base_uri": "https://localhost:8080/"
        },
        "id": "tyh5muxcqCtc",
        "outputId": "08685b54-3a52-4b82-bbb5-45dcd1ee34b9"
      },
      "execution_count": null,
      "outputs": [
        {
          "output_type": "stream",
          "name": "stdout",
          "text": [
            "[10, 11, 12, 13, 14, 15, 16, 17, 18, 19]\n"
          ]
        }
      ]
    },
    {
      "cell_type": "code",
      "metadata": {
        "id": "B9rBbXW59Iwr",
        "outputId": "3258d8ac-633a-4c47-aa5d-51d1f0833773",
        "colab": {
          "base_uri": "https://localhost:8080/"
        }
      },
      "source": [
        "#Ahora multiplica por dos cada elemento de mi_array\n",
        "mi_lista3 = [1,2,3,4,5,6,7,8,9,10]\n",
        "arr = np.array(mi_lista3)\n",
        "arr2 = arr * 2\n",
        "print(mi_lista3)\n",
        "print(arr2)\n",
        "print(mi_lista3*2)"
      ],
      "execution_count": 14,
      "outputs": [
        {
          "output_type": "stream",
          "name": "stdout",
          "text": [
            "[1, 2, 3, 4, 5, 6, 7, 8, 9, 10]\n",
            "[ 2  4  6  8 10 12 14 16 18 20]\n",
            "[1, 2, 3, 4, 5, 6, 7, 8, 9, 10, 1, 2, 3, 4, 5, 6, 7, 8, 9, 10]\n"
          ]
        }
      ]
    },
    {
      "cell_type": "markdown",
      "metadata": {
        "id": "EuWM5oic9Iwt"
      },
      "source": [
        "Los arrays y las listas se comportan diferente frente a operaciones con otros arrays/listas"
      ]
    },
    {
      "cell_type": "code",
      "metadata": {
        "id": "GQ505ALF9Iwt"
      },
      "source": [
        "#Corre el siguiente codigo\n",
        "lista1 = [1, 2, 3, 4, 5]\n",
        "lista2 = [5, 4, 3, 2, 1]\n",
        "\n",
        "arr1 = np.array(lista1)\n",
        "arr2 = np.array(lista2)"
      ],
      "execution_count": 16,
      "outputs": []
    },
    {
      "cell_type": "code",
      "source": [
        "liste1 = [1, 2, 3, 4, 5]\n",
        "liste2 = [5, 4, 3, 2, 1]\n",
        "liste1 + liste2"
      ],
      "metadata": {
        "colab": {
          "base_uri": "https://localhost:8080/"
        },
        "id": "K4i_aoPmqWh7",
        "outputId": "5638ae50-1d97-43d5-cb6e-25141e41cc1d"
      },
      "execution_count": 17,
      "outputs": [
        {
          "output_type": "execute_result",
          "data": {
            "text/plain": [
              "[1, 2, 3, 4, 5, 5, 4, 3, 2, 1]"
            ]
          },
          "metadata": {},
          "execution_count": 17
        }
      ]
    },
    {
      "cell_type": "code",
      "metadata": {
        "id": "CFhhBc0r9Iww",
        "outputId": "c5b9f1b3-14c7-4edd-a4f3-26e5b6e2b268",
        "colab": {
          "base_uri": "https://localhost:8080/"
        }
      },
      "source": [
        "#Concatena las dos listas\n",
        "lista1 + lista2"
      ],
      "execution_count": 18,
      "outputs": [
        {
          "output_type": "execute_result",
          "data": {
            "text/plain": [
              "[1, 2, 3, 4, 5, 5, 4, 3, 2, 1]"
            ]
          },
          "metadata": {},
          "execution_count": 18
        }
      ]
    },
    {
      "cell_type": "code",
      "source": [
        "liste1 = [1, 2, 3, 4, 5]\n",
        "liste2 = [5, 4, 3, 2, 1]\n",
        "liste3 = [i + j for i in liste1 for j in liste2]\n",
        "liste3.append(liste1[0]+liste2[0])\n",
        "# esto suma el primer elemento de cada lista por ejemplo el 1 con cada uno de los numeros de la lista 2 y luego el 2 con cada uno de la lista 2\n",
        "print(liste3)"
      ],
      "metadata": {
        "colab": {
          "base_uri": "https://localhost:8080/"
        },
        "id": "IL_dh1R0qs9I",
        "outputId": "f3a9f4d3-dd55-428e-f06b-bd76a37a1172"
      },
      "execution_count": 19,
      "outputs": [
        {
          "output_type": "stream",
          "name": "stdout",
          "text": [
            "[6, 5, 4, 3, 2, 7, 6, 5, 4, 3, 8, 7, 6, 5, 4, 9, 8, 7, 6, 5, 10, 9, 8, 7, 6, 6]\n"
          ]
        }
      ]
    },
    {
      "cell_type": "code",
      "metadata": {
        "id": "xCz2gztf9Iwy",
        "outputId": "5d81c0eb-59ab-416c-95ff-138d879b9afa",
        "colab": {
          "base_uri": "https://localhost:8080/"
        }
      },
      "source": [
        "#Suma los elementos de los dos arrays\n",
        "\n",
        "lista6 = []\n",
        "for i in lista4:\n",
        "  for j in lista5:\n",
        "    lista6.append(i + j)\n",
        "print(lista6)\n",
        "print(lista4+lista5)\n",
        "\n",
        "lista4 = [1,2,3,4]\n",
        "lista5 = [9,2,3,4]\n",
        "array1 = np.array(lista4)\n",
        "array2 = np.array(lista5)\n",
        "\n",
        "print(array1 + array2)"
      ],
      "execution_count": 21,
      "outputs": [
        {
          "output_type": "stream",
          "name": "stdout",
          "text": [
            "[10, 3, 4, 5, 11, 4, 5, 6, 12, 5, 6, 7, 13, 6, 7, 8]\n",
            "[1, 2, 3, 4, 9, 2, 3, 4]\n",
            "[10  4  6  8]\n"
          ]
        }
      ]
    },
    {
      "cell_type": "code",
      "metadata": {
        "id": "RtdR2N8W9Iw0",
        "colab": {
          "base_uri": "https://localhost:8080/"
        },
        "outputId": "f911371a-0ac8-49d7-f499-a082d436c810"
      },
      "source": [
        "#Multiplica los elementos de cada arreglo\n",
        "lista4 = [1,2,3,4]\n",
        "lista5 = [9,2,3,4]\n",
        "array1 = np.array(lista4)\n",
        "array2 = np.array(lista5)\n",
        "lista=[]\n",
        "for i in array1:\n",
        " for j in array2:\n",
        "  arreglo_f = array1 * array2\n",
        "print(arreglo_f)"
      ],
      "execution_count": 22,
      "outputs": [
        {
          "output_type": "stream",
          "name": "stdout",
          "text": [
            "[ 9  4  9 16]\n"
          ]
        }
      ]
    },
    {
      "cell_type": "code",
      "metadata": {
        "id": "NSIEt1ni9Iw2",
        "colab": {
          "base_uri": "https://localhost:8080/"
        },
        "outputId": "90558530-9bb7-46a7-da49-e185e010e0e0"
      },
      "source": [
        "#lista=[]\n",
        "lista4 = [1,2,3,4]\n",
        "lista5 = [9,2,3,4]\n",
        "array1 = np.array(lista4)\n",
        "array2 = np.array(lista5)\n",
        "for i in array1:\n",
        " for j in array2:\n",
        "  arreglo_f = array1 - array2\n",
        "print(arreglo_f)"
      ],
      "execution_count": null,
      "outputs": [
        {
          "output_type": "stream",
          "name": "stdout",
          "text": [
            "[-8  0  0  0]\n"
          ]
        }
      ]
    },
    {
      "cell_type": "code",
      "metadata": {
        "id": "rfU5a4JT9Iw5",
        "colab": {
          "base_uri": "https://localhost:8080/"
        },
        "outputId": "1eb35dbf-db27-477b-ffac-2f773cc6992a"
      },
      "source": [
        "#Dividi los dos arrays\n",
        "lista=[]\n",
        "lista4 = [1,2,3,4]\n",
        "lista5 = [9,2,3,4]\n",
        "array1 = np.array(lista4)\n",
        "array2 = np.array(lista5)\n",
        "for i in array1:\n",
        " for j in array2:\n",
        "  arreglo_f = array1 // array2\n",
        "print(arreglo_f)"
      ],
      "execution_count": null,
      "outputs": [
        {
          "output_type": "stream",
          "name": "stdout",
          "text": [
            "[0 1 1 1]\n"
          ]
        }
      ]
    },
    {
      "cell_type": "code",
      "metadata": {
        "id": "vsK1bh2t9Iw_",
        "colab": {
          "base_uri": "https://localhost:8080/"
        },
        "outputId": "133e8bb5-1a5e-427c-dc72-932e5476fc3c"
      },
      "source": [
        "#Eleva el array1 al array2\n",
        "lista=[]\n",
        "lista4 = [1,2,3,4]\n",
        "lista5 = [9,2,3,4]\n",
        "array1 = np.array(lista4)\n",
        "array2 = np.array(lista5)\n",
        "for i in array1:\n",
        " for j in array2:\n",
        "  arreglo_f = array1 ** array2\n",
        "print(arreglo_f)"
      ],
      "execution_count": null,
      "outputs": [
        {
          "output_type": "stream",
          "name": "stdout",
          "text": [
            "[  1   4  27 256]\n"
          ]
        }
      ]
    },
    {
      "cell_type": "markdown",
      "metadata": {
        "id": "xHrtSrCs9IxC"
      },
      "source": [
        "Para acceder a los elementos de los arrays de una dimension se utilizan los indices como las listas."
      ]
    },
    {
      "cell_type": "code",
      "source": [
        "lista1= [1,2,3,4]"
      ],
      "metadata": {
        "id": "IdLBX_D8B8rr"
      },
      "execution_count": 23,
      "outputs": []
    },
    {
      "cell_type": "code",
      "source": [
        "arr1=[9,8,7,6]"
      ],
      "metadata": {
        "id": "UaMZj3c7CUNU"
      },
      "execution_count": 24,
      "outputs": []
    },
    {
      "cell_type": "code",
      "metadata": {
        "id": "_AlcV5K09IxC",
        "outputId": "5c31bfae-e71a-492c-e297-74ed864f4d55",
        "colab": {
          "base_uri": "https://localhost:8080/"
        }
      },
      "source": [
        "#Corre el siguiente codigo\n",
        "print(lista1[0], arr1[0])"
      ],
      "execution_count": null,
      "outputs": [
        {
          "output_type": "stream",
          "name": "stdout",
          "text": [
            "1 9\n"
          ]
        }
      ]
    },
    {
      "cell_type": "code",
      "metadata": {
        "id": "rKRYd4OK9IxG",
        "outputId": "0c38960e-3dad-44fa-c5d1-f659d04cd127",
        "colab": {
          "base_uri": "https://localhost:8080/"
        }
      },
      "source": [
        "#Obtene el 3er elemento de arr1\n",
        "print(lista1[2], arr1[2])"
      ],
      "execution_count": null,
      "outputs": [
        {
          "output_type": "stream",
          "name": "stdout",
          "text": [
            "3 7\n"
          ]
        }
      ]
    },
    {
      "cell_type": "code",
      "source": [
        "arr2=[9,99,88,7,65]"
      ],
      "metadata": {
        "id": "qBRIuNDqCnHw"
      },
      "execution_count": null,
      "outputs": []
    },
    {
      "cell_type": "code",
      "metadata": {
        "id": "HihzUNA09IxI",
        "outputId": "98829a90-4160-40ca-fd92-94e414d75126",
        "colab": {
          "base_uri": "https://localhost:8080/"
        }
      },
      "source": [
        "#Obtene el 5to elemento de arr2\n",
        "print (arr2[4])"
      ],
      "execution_count": null,
      "outputs": [
        {
          "output_type": "stream",
          "name": "stdout",
          "text": [
            "65\n"
          ]
        }
      ]
    },
    {
      "cell_type": "code",
      "metadata": {
        "id": "4uvf6wfu9IxL",
        "colab": {
          "base_uri": "https://localhost:8080/"
        },
        "outputId": "81854290-fd3f-4df4-de9c-98a3841bd9a5"
      },
      "source": [
        "#Obtene el ultimo elemento de arr1\n",
        "print(arr1[-1])"
      ],
      "execution_count": null,
      "outputs": [
        {
          "output_type": "stream",
          "name": "stdout",
          "text": [
            "6\n"
          ]
        }
      ]
    },
    {
      "cell_type": "markdown",
      "metadata": {
        "id": "Mavn6y_Q9IxN"
      },
      "source": [
        "Asi tambien obtenemos una porción del array de la misma manera que obtenemos una parte de una lista. A su vez podemos reasignar nuevos valores a una porción del array."
      ]
    },
    {
      "cell_type": "code",
      "metadata": {
        "id": "FBjVCpWo9IxN",
        "colab": {
          "base_uri": "https://localhost:8080/"
        },
        "outputId": "dbb1e519-6a94-49cb-de15-4b7a49a015a8"
      },
      "source": [
        "#Corre el siguiente codigo\n",
        "# Array1 tiene 4 elementos [0:3]\n",
        "lista1 = [1,2,3,4]\n",
        "lista2 = [9,2,3,4]\n",
        "array1 = np.array(lista1)\n",
        "array2 = np.array(lista2)\n",
        "\n",
        "array1[1:4] = [23, 24,21]    # Acordarse que tomamos hasta N-1 entonces si queremos 3 numeros debemos poner 1:4 en este caso\n",
        "\n",
        "print(array1)"
      ],
      "execution_count": null,
      "outputs": [
        {
          "output_type": "stream",
          "name": "stdout",
          "text": [
            "[ 1 23 24 21]\n"
          ]
        }
      ]
    },
    {
      "cell_type": "code",
      "metadata": {
        "id": "9F9vBgU69IxP",
        "outputId": "83b73dd0-71de-406c-f60a-4e6564004bb6",
        "colab": {
          "base_uri": "https://localhost:8080/"
        }
      },
      "source": [
        "#Imprimi el arr1\n",
        "print(array1)"
      ],
      "execution_count": null,
      "outputs": [
        {
          "output_type": "stream",
          "name": "stdout",
          "text": [
            "[ 1 23 24 21]\n"
          ]
        }
      ]
    },
    {
      "cell_type": "markdown",
      "metadata": {
        "id": "89rDeEhV9IxR"
      },
      "source": [
        "## Arreglos multidimensionales"
      ]
    },
    {
      "cell_type": "markdown",
      "metadata": {
        "id": "CRUXEDm49IxR"
      },
      "source": [
        "Las listas son cadenas unidimensionales de elementos. Los arreglos pueden ser multidimensionales. Para comprender mejor que son, miremos el siguiente ejemplo:"
      ]
    },
    {
      "cell_type": "code",
      "metadata": {
        "id": "kuzYsFb99IxS",
        "outputId": "4398ba3a-9026-4d9a-9044-a556b6fcc3cf",
        "colab": {
          "base_uri": "https://localhost:8080/"
        }
      },
      "source": [
        "#Corre el siguiente codigo\n",
        "lista = [[[0, 1, 3]]]\n",
        "arr2d = np.array(lista)\n",
        "print(arr2d)"
      ],
      "execution_count": null,
      "outputs": [
        {
          "output_type": "stream",
          "name": "stdout",
          "text": [
            "[[[0 1 3]]]\n"
          ]
        }
      ]
    },
    {
      "cell_type": "code",
      "metadata": {
        "id": "oNqrJJbi9IxU",
        "outputId": "e6166e09-9746-4842-e933-ae2e329e4308",
        "colab": {
          "base_uri": "https://localhost:8080/"
        }
      },
      "source": [
        "#Veamos cuantas dimensiones tiene el array\n",
        "print(arr2d.ndim) # Dos filas"
      ],
      "execution_count": null,
      "outputs": [
        {
          "output_type": "stream",
          "name": "stdout",
          "text": [
            "3\n"
          ]
        }
      ]
    },
    {
      "cell_type": "code",
      "metadata": {
        "id": "Vj0qCMcu9IxW",
        "outputId": "f5122999-c1e6-46f1-8a38-dcdc88e4f4b6",
        "colab": {
          "base_uri": "https://localhost:8080/"
        }
      },
      "source": [
        "#Veamos cuantos elementos tiene el array\n",
        "print(arr2d.size) # 6 elementos"
      ],
      "execution_count": null,
      "outputs": [
        {
          "output_type": "stream",
          "name": "stdout",
          "text": [
            "3\n"
          ]
        }
      ]
    },
    {
      "cell_type": "code",
      "metadata": {
        "id": "VFKyjgth9IxY",
        "outputId": "7885d9fe-8558-434c-aaf9-5055a60e1458",
        "colab": {
          "base_uri": "https://localhost:8080/"
        }
      },
      "source": [
        "#Arma ahora un array de 3 dimensiones.\n",
        "coso = [[[2,4,6],[1,3,5],[8,10,12]]]\n",
        "arr3d = np.array(coso)\n",
        "print(arr3d)"
      ],
      "execution_count": null,
      "outputs": [
        {
          "output_type": "stream",
          "name": "stdout",
          "text": [
            "[[[ 2  4  6]\n",
            "  [ 1  3  5]\n",
            "  [ 8 10 12]]]\n"
          ]
        }
      ]
    },
    {
      "cell_type": "code",
      "metadata": {
        "id": "wfHd2SMX9Ixa",
        "outputId": "33687dc9-4cb5-4a91-9304-8ea038c93305",
        "colab": {
          "base_uri": "https://localhost:8080/"
        }
      },
      "source": [
        "#Chequea usando ndim que efectivamente tenga tres dimensiones\n",
        "print(arr3d.ndim)"
      ],
      "execution_count": null,
      "outputs": [
        {
          "output_type": "stream",
          "name": "stdout",
          "text": [
            "3\n"
          ]
        }
      ]
    },
    {
      "cell_type": "markdown",
      "metadata": {
        "id": "fmEhCwq49Ixb"
      },
      "source": [
        "**¿Como accedemos entonces a un array de mas de una dimension?**"
      ]
    },
    {
      "cell_type": "code",
      "metadata": {
        "id": "-9c0rOTg9Ixc",
        "colab": {
          "base_uri": "https://localhost:8080/"
        },
        "outputId": "01f2b2ff-0fd4-44e6-c8d8-63b539e311ef"
      },
      "source": [
        "# Definamos un nuevo array\n",
        "\n",
        "lista2 = [[0, 1, 3], [3, 4, 5], [9, 10, 4], [2, 5, 6]]\n",
        "nuevo_array = np.array(lista2)\n",
        "\n",
        "# Mostrar el nuevo array\n",
        "print(nuevo_array.ndim)\n",
        "\n",
        "print(nuevo_array)"
      ],
      "execution_count": null,
      "outputs": [
        {
          "output_type": "stream",
          "name": "stdout",
          "text": [
            "2\n",
            "[[ 0  1  3]\n",
            " [ 3  4  5]\n",
            " [ 9 10  4]\n",
            " [ 2  5  6]]\n"
          ]
        }
      ]
    },
    {
      "cell_type": "markdown",
      "metadata": {
        "id": "BRDLHnGA9Ixj"
      },
      "source": [
        "Si para un array de 1 dimension, usabamos un indice, para un array de n dimensiones tenemos que usar n indices. En el caso de 2 dimensiones, usaremos 2 indices. El primero indica la fila y el segundo la columna."
      ]
    },
    {
      "cell_type": "code",
      "metadata": {
        "id": "gR50Ev219Ixk",
        "outputId": "360c190e-843f-41ac-acf3-653ea4f019d5",
        "colab": {
          "base_uri": "https://localhost:8080/"
        }
      },
      "source": [
        "#Corre el siguiente codigo\n",
        "print(nuevo_array[0,1])"
      ],
      "execution_count": null,
      "outputs": [
        {
          "output_type": "stream",
          "name": "stdout",
          "text": [
            "1\n"
          ]
        }
      ]
    },
    {
      "cell_type": "code",
      "metadata": {
        "id": "Vlrqe2DZ9Ixo",
        "outputId": "a917f796-eb7a-454f-b56e-a6faf6845838",
        "colab": {
          "base_uri": "https://localhost:8080/"
        }
      },
      "source": [
        "#Accede al tercer elemento de la segunda fila de nuevo_array\n",
        "print(nuevo_array[1,2])"
      ],
      "execution_count": null,
      "outputs": [
        {
          "output_type": "stream",
          "name": "stdout",
          "text": [
            "5\n"
          ]
        }
      ]
    },
    {
      "cell_type": "code",
      "metadata": {
        "id": "A9jsjXoK9Ixs",
        "outputId": "104ffe3b-c2c3-4d52-e5c9-2fbd86ee84c2",
        "colab": {
          "base_uri": "https://localhost:8080/"
        }
      },
      "source": [
        "#Accede al cuarto elemento de la segunda columna de nuevo_array\n",
        "print(nuevo_array[3,2])"
      ],
      "execution_count": null,
      "outputs": [
        {
          "output_type": "stream",
          "name": "stdout",
          "text": [
            "6\n"
          ]
        }
      ]
    },
    {
      "cell_type": "code",
      "metadata": {
        "id": "sGc4P3E19Ixt",
        "outputId": "a4ae52ad-dac1-4ab7-f28c-caf2601cdbe5",
        "colab": {
          "base_uri": "https://localhost:8080/"
        }
      },
      "source": [
        "#Accedo a toda la segunda columna\n",
        "nuevo_array[:,1]"
      ],
      "execution_count": null,
      "outputs": [
        {
          "output_type": "execute_result",
          "data": {
            "text/plain": [
              "array([1, 4])"
            ]
          },
          "metadata": {},
          "execution_count": 160
        }
      ]
    },
    {
      "cell_type": "code",
      "metadata": {
        "id": "1pxpVLmO9Ixw",
        "outputId": "0209b894-c3b6-46c9-f55d-98d7c806520b",
        "colab": {
          "base_uri": "https://localhost:8080/"
        }
      },
      "source": [
        "# Accede a un subarray que vaya desde el segundo elemento de la primer columna hasta el cuarto elemento de la tercer\n",
        "# columna de nuevo_array}\n",
        "filas = len(nuevo_array)            # cantidad de filas\n",
        "columnas = len(nuevo_array[0])      # Cantidad de columnas\n",
        "for i in range(filas):\n",
        "    for j in range(columnas):\n",
        "        if not (i == 3 and j == 2):  # evitamos esa posición\n",
        "            print(nuevo_array[i, j])\n",
        "\n",
        "\n"
      ],
      "execution_count": null,
      "outputs": [
        {
          "output_type": "stream",
          "name": "stdout",
          "text": [
            "0\n",
            "1\n",
            "3\n",
            "3\n",
            "4\n",
            "5\n",
            "9\n",
            "10\n",
            "4\n",
            "2\n",
            "5\n"
          ]
        }
      ]
    },
    {
      "cell_type": "code",
      "metadata": {
        "id": "p9fDidG99Ixy",
        "colab": {
          "base_uri": "https://localhost:8080/",
          "height": 176
        },
        "outputId": "370363b1-45e7-4277-9c91-0d6cf28fcd1a"
      },
      "source": [
        "# Accede a un subarray que vaya desde el primer elemento de la segunda fila hasta el segundo elemento de la cuarta\n",
        "#fila de nuevo_array\n",
        "\n",
        "print(nuevo_array[1:5 , 0:2])"
      ],
      "execution_count": null,
      "outputs": [
        {
          "output_type": "error",
          "ename": "NameError",
          "evalue": "name 'nuevo_array' is not defined",
          "traceback": [
            "\u001b[0;31m---------------------------------------------------------------------------\u001b[0m",
            "\u001b[0;31mNameError\u001b[0m                                 Traceback (most recent call last)",
            "\u001b[0;32m<ipython-input-1-dc2a6653e1af>\u001b[0m in \u001b[0;36m<cell line: 0>\u001b[0;34m()\u001b[0m\n\u001b[1;32m      2\u001b[0m \u001b[0;31m#fila de nuevo_array\u001b[0m\u001b[0;34m\u001b[0m\u001b[0;34m\u001b[0m\u001b[0m\n\u001b[1;32m      3\u001b[0m \u001b[0;34m\u001b[0m\u001b[0m\n\u001b[0;32m----> 4\u001b[0;31m \u001b[0mprint\u001b[0m\u001b[0;34m(\u001b[0m\u001b[0mnuevo_array\u001b[0m\u001b[0;34m[\u001b[0m\u001b[0;36m1\u001b[0m\u001b[0;34m:\u001b[0m\u001b[0;36m5\u001b[0m \u001b[0;34m,\u001b[0m \u001b[0;36m0\u001b[0m\u001b[0;34m:\u001b[0m\u001b[0;36m2\u001b[0m\u001b[0;34m]\u001b[0m\u001b[0;34m)\u001b[0m\u001b[0;34m\u001b[0m\u001b[0;34m\u001b[0m\u001b[0m\n\u001b[0m",
            "\u001b[0;31mNameError\u001b[0m: name 'nuevo_array' is not defined"
          ]
        }
      ]
    },
    {
      "cell_type": "markdown",
      "metadata": {
        "id": "YpXEjKk09Ix0"
      },
      "source": [
        "## Creación de arreglos"
      ]
    },
    {
      "cell_type": "markdown",
      "metadata": {
        "id": "tD-27Se19Ix1"
      },
      "source": [
        "- **np.zeros(shape, dtype, order)**: Crea un array con todos ceros en sus posiciones"
      ]
    },
    {
      "cell_type": "code",
      "metadata": {
        "id": "Kcdzl_U-9Ix2",
        "colab": {
          "base_uri": "https://localhost:8080/",
          "height": 158
        },
        "outputId": "d29bfee4-d646-43d6-9584-5430dd665b34"
      },
      "source": [
        "#Corre el siguiente codigo\n",
        "print(np.zeros((2, 2, 2)))"
      ],
      "execution_count": null,
      "outputs": [
        {
          "output_type": "error",
          "ename": "NameError",
          "evalue": "name 'np' is not defined",
          "traceback": [
            "\u001b[0;31m---------------------------------------------------------------------------\u001b[0m",
            "\u001b[0;31mNameError\u001b[0m                                 Traceback (most recent call last)",
            "\u001b[0;32m<ipython-input-3-9b9bb0b554a9>\u001b[0m in \u001b[0;36m<cell line: 0>\u001b[0;34m()\u001b[0m\n\u001b[1;32m      1\u001b[0m \u001b[0;31m#Corre el siguiente codigo\u001b[0m\u001b[0;34m\u001b[0m\u001b[0;34m\u001b[0m\u001b[0m\n\u001b[0;32m----> 2\u001b[0;31m \u001b[0mprint\u001b[0m\u001b[0;34m(\u001b[0m\u001b[0mnp\u001b[0m\u001b[0;34m.\u001b[0m\u001b[0mzeros\u001b[0m\u001b[0;34m(\u001b[0m\u001b[0;34m(\u001b[0m\u001b[0;36m2\u001b[0m\u001b[0;34m,\u001b[0m \u001b[0;36m2\u001b[0m\u001b[0;34m,\u001b[0m \u001b[0;36m2\u001b[0m\u001b[0;34m)\u001b[0m\u001b[0;34m)\u001b[0m\u001b[0;34m)\u001b[0m\u001b[0;34m\u001b[0m\u001b[0;34m\u001b[0m\u001b[0m\n\u001b[0m",
            "\u001b[0;31mNameError\u001b[0m: name 'np' is not defined"
          ]
        }
      ]
    },
    {
      "cell_type": "markdown",
      "metadata": {
        "id": "Pbfo4SMN9Ix4"
      },
      "source": [
        "- **np.ones(shape, dtype, order)**: Crea un array con todos unos en sus posiciones"
      ]
    },
    {
      "cell_type": "code",
      "metadata": {
        "id": "XHnqDg3F9Ix5"
      },
      "source": [
        "#Corre el siguiente codigo\n",
        "print(np.ones(10))"
      ],
      "execution_count": null,
      "outputs": []
    },
    {
      "cell_type": "markdown",
      "metadata": {
        "id": "CYwoyqUz9Ix7"
      },
      "source": [
        "- **np.random.rand(d0, d1, ..., dn)**: Genera un array con valores al azar con una distribución `[0, 1)` y segun las dimensiones pasada como argumento."
      ]
    },
    {
      "cell_type": "code",
      "metadata": {
        "id": "WZL0bOTF9Ix7"
      },
      "source": [
        "#Genera un array con valores al azar\n",
        "print(np.random.randn(2,2,10))"
      ],
      "execution_count": null,
      "outputs": []
    },
    {
      "cell_type": "markdown",
      "metadata": {
        "id": "uL9DAYO-9Ix8"
      },
      "source": [
        "- **np.random.randint(low, high, size)**: Devuelve un array con enteros al azar. Cuando se especifica un solo entero como argumento este entero es entendido como el mayor valor que ese numero random puede tomar. Si se pasan dos, uno es el menor valor y el otro es el mayor valor. Con size se le puede decir que dimensiones tiene el array. Si no le paso ningun valor, devolvera solo un numero entero."
      ]
    },
    {
      "cell_type": "code",
      "metadata": {
        "id": "KeLDVrWI9Ix9"
      },
      "source": [
        "#Genera un array con enteros al azar\n",
        "np.random.randint(1,10)"
      ],
      "execution_count": null,
      "outputs": []
    },
    {
      "cell_type": "markdown",
      "metadata": {
        "id": "vnNsy9gw9Ix_"
      },
      "source": [
        "- **np.arange([start, ]stop, [step, ])**: Devuelve numero simetricamente distribuidos segun los valores datos. El primer valor es el comienzo, el segundo el final y el tercero representa cada cuanto queremos esos valores."
      ]
    },
    {
      "cell_type": "code",
      "metadata": {
        "id": "vOuXCx4D9Ix_"
      },
      "source": [
        "#Corre esta linea de codigo y comprende como funciona np.arange\n",
        "np.arange(2, 20, 4)"
      ],
      "execution_count": null,
      "outputs": []
    },
    {
      "cell_type": "markdown",
      "metadata": {
        "id": "ad8MpgsK9IyB"
      },
      "source": [
        "## Funciones estadisticas"
      ]
    },
    {
      "cell_type": "markdown",
      "metadata": {
        "id": "hkKe1XHu9IyB"
      },
      "source": [
        "NumPy nos facilita varias funciones que nos permitiran obtener algunos parametros estadisticos de nuestros arrays. Veamos cuales son estas funciones."
      ]
    },
    {
      "cell_type": "code",
      "metadata": {
        "id": "nXp_uV3j9IyC",
        "colab": {
          "base_uri": "https://localhost:8080/",
          "height": 106
        },
        "outputId": "debc864d-716f-495b-877e-555b24216ff1"
      },
      "source": [
        "#Volvamos a ver como era nuestro array nuevo_array\n",
        "nuevo_array [[ 0  1  3],[ 3  4  5],[ 9 10  4] ,[ int(nuevo_array)"
      ],
      "execution_count": null,
      "outputs": [
        {
          "output_type": "error",
          "ename": "SyntaxError",
          "evalue": "invalid syntax. Perhaps you forgot a comma? (<ipython-input-5-7a7dadbabaaf>, line 2)",
          "traceback": [
            "\u001b[0;36m  File \u001b[0;32m\"<ipython-input-5-7a7dadbabaaf>\"\u001b[0;36m, line \u001b[0;32m2\u001b[0m\n\u001b[0;31m    nuevo_array [[ 0  1  3],[ 3  4  5],[ 9 10  4] ,[ 2  5  6]]\u001b[0m\n\u001b[0m                   ^\u001b[0m\n\u001b[0;31mSyntaxError\u001b[0m\u001b[0;31m:\u001b[0m invalid syntax. Perhaps you forgot a comma?\n"
          ]
        }
      ]
    },
    {
      "cell_type": "markdown",
      "metadata": {
        "id": "2Pn6RQZU9IyE"
      },
      "source": [
        "- `np.mean()`: Media o Promedio."
      ]
    },
    {
      "cell_type": "code",
      "metadata": {
        "id": "nRBJGUd39IyF"
      },
      "source": [
        "#usa la funcion mean para obtener el promedio de los valores en nuevo_array\n",
        "np.mean(nuevo_array)"
      ],
      "execution_count": null,
      "outputs": []
    },
    {
      "cell_type": "markdown",
      "metadata": {
        "id": "Zc1r1TvP9IyG"
      },
      "source": [
        "- `np.var()`: Devuelve la dispersión de los valores alrededor de la media"
      ]
    },
    {
      "cell_type": "code",
      "metadata": {
        "id": "WJGJTzY89IyI"
      },
      "source": [
        "#usa la funcion var para obtener la varianza de los valores en nuevo_array\n",
        "np.var(nuevo_array)"
      ],
      "execution_count": null,
      "outputs": []
    },
    {
      "cell_type": "markdown",
      "metadata": {
        "id": "9eM5HfIk9IyK"
      },
      "source": [
        "- `np.sum()`: devuelve la suma de todos los valores en el array.\n",
        "- `np.min()`: devuelve el menor valor en el array\n",
        "- `np.max()`: devuelve el maximo valor en el array"
      ]
    },
    {
      "cell_type": "code",
      "metadata": {
        "id": "MMaX3qaq9IyK"
      },
      "source": [
        "#Muestra la suma de los valores en nuevo_array\n",
        "print(np.sum(nuevo_array))\n",
        "\n",
        "#Muestra el minimo y maximo valor en nuevo array\n",
        "\n",
        "print(np.min(nuevo_array))\n",
        "print(np.max(nuevo_array))"
      ],
      "execution_count": null,
      "outputs": []
    }
  ]
}