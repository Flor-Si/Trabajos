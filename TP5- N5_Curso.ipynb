{
  "nbformat": 4,
  "nbformat_minor": 0,
  "metadata": {
    "kernelspec": {
      "display_name": "Python 3",
      "language": "python",
      "name": "python3"
    },
    "language_info": {
      "codemirror_mode": {
        "name": "ipython",
        "version": 3
      },
      "file_extension": ".py",
      "mimetype": "text/x-python",
      "name": "python",
      "nbconvert_exporter": "python",
      "pygments_lexer": "ipython3",
      "version": "3.7.3"
    },
    "colab": {
      "provenance": [],
      "include_colab_link": true
    }
  },
  "cells": [
    {
      "cell_type": "markdown",
      "metadata": {
        "id": "view-in-github",
        "colab_type": "text"
      },
      "source": [
        "<a href=\"https://colab.research.google.com/github/Flor-Si/Trabajos/blob/main/TP5-%20N5_Curso.ipynb\" target=\"_parent\"><img src=\"https://colab.research.google.com/assets/colab-badge.svg\" alt=\"Open In Colab\"/></a>"
      ]
    },
    {
      "cell_type": "markdown",
      "metadata": {
        "id": "Gp2WddtV9IwG"
      },
      "source": [
        "# Programa Ingenias+ Data Science"
      ]
    },
    {
      "cell_type": "markdown",
      "metadata": {
        "id": "X03mviQS9IyL"
      },
      "source": [
        "# Ejercicios\n",
        "\n",
        "1. Crear un arreglo de ceros de longitud 12\n",
        "2. Crear un arreglo de longitud 10 con ceros en todas sus posiciones y un 10 en la posición número 5\n",
        "3. Crear un arreglo que tenga los números del 10 al 49\n",
        "4. Crear una arreglo 2d de shape (3, 3) que tenga los números del 0 al 8\n",
        "5. Crear un arreglo de números aleatorios de longitud 100 y obtener su media y varianza\n",
        "6. Calcular la media de un arreglo usando np.sum\n",
        "7. Calcular la varianza de un arreglo usando np.sum y np.mean\n",
        "8. Crear un array de números aleatorios usando np.random.randn.\n"
      ]
    },
    {
      "cell_type": "code",
      "source": [
        "#Importar numpy\n",
        "import numpy as np"
      ],
      "metadata": {
        "id": "MWpardoSTVr5"
      },
      "execution_count": null,
      "outputs": []
    },
    {
      "cell_type": "code",
      "source": [
        "#Ejercicio 1 - Arreglo de Ceros con una longitud de 12"
      ],
      "metadata": {
        "id": "oiolufQ9Tese"
      },
      "execution_count": null,
      "outputs": []
    },
    {
      "cell_type": "code",
      "source": [
        "array_1=np.zeros(12)\n",
        "print(array_1)\n",
        "print(np.zeros(12, dtype=int)) # Le agrege para esta función dtype para que imprima los valores en formato entero y no float \"con decimales\"\n",
        "len (array_1)# función LEN cuenta la longitud del arreglo= 12"
      ],
      "metadata": {
        "id": "bDHUnDG-e0TB",
        "colab": {
          "base_uri": "https://localhost:8080/"
        },
        "outputId": "798c35c7-add9-4167-9905-4eae88b0d85c"
      },
      "execution_count": null,
      "outputs": [
        {
          "output_type": "stream",
          "name": "stdout",
          "text": [
            "[0. 0. 0. 0. 0. 0. 0. 0. 0. 0. 0. 0.]\n",
            "[0 0 0 0 0 0 0 0 0 0 0 0]\n"
          ]
        },
        {
          "output_type": "execute_result",
          "data": {
            "text/plain": [
              "12"
            ]
          },
          "metadata": {},
          "execution_count": 17
        }
      ]
    },
    {
      "cell_type": "code",
      "source": [
        "#Ejercicio 2-Arreglo de Log 10 con cero en todas sus posiciones y unn 10 en la posición n°5"
      ],
      "metadata": {
        "id": "0i9Np3jeaQOG"
      },
      "execution_count": null,
      "outputs": []
    },
    {
      "cell_type": "code",
      "source": [
        "array_2=np.zeros(10) #Creamos un array \"con todos los elementos en cero excepto la posicion 5 que tenian que tener el valor 10 en dicha posición\"\n",
        "array_2[5]=10 # determino la posición 5 sea igual a 10\n",
        "print(array_2)\n",
        "print(np.zeros(10, dtype=int)) # me imprime el array con numeros enteros esto lo realizo por practica\n",
        "len (array_2)# función LEN cuenta la longitud del arreglo= 10"
      ],
      "metadata": {
        "id": "tsFPO3rRaUzc",
        "outputId": "eb257bb2-f69d-40a7-c1bd-e8d9a493796b",
        "colab": {
          "base_uri": "https://localhost:8080/"
        }
      },
      "execution_count": null,
      "outputs": [
        {
          "output_type": "stream",
          "name": "stdout",
          "text": [
            "[ 0.  0.  0.  0.  0. 10.  0.  0.  0.  0.]\n",
            "[0 0 0 0 0 0 0 0 0 0]\n"
          ]
        },
        {
          "output_type": "execute_result",
          "data": {
            "text/plain": [
              "10"
            ]
          },
          "metadata": {},
          "execution_count": 18
        }
      ]
    },
    {
      "cell_type": "code",
      "source": [
        "#Ejercicio 3-Arreglo que tenga los números del 10 al 49"
      ],
      "metadata": {
        "id": "w6dbHK66bFAd"
      },
      "execution_count": null,
      "outputs": []
    },
    {
      "cell_type": "code",
      "source": [
        "array_3=np.arange(10,50) # Con la funcion Arrage me muestra todo lo que se encuentra entre el rango 10 al 50 excluyendo en este caso el ultimo valor por eso ponemos 50\n",
        "print(array_3)\n",
        "len(array_3)#Longitud del array"
      ],
      "metadata": {
        "id": "qOwau9nUeQrU",
        "outputId": "29d3f3fa-8a97-4ee9-f538-fb0df5b4f373",
        "colab": {
          "base_uri": "https://localhost:8080/"
        }
      },
      "execution_count": null,
      "outputs": [
        {
          "output_type": "stream",
          "name": "stdout",
          "text": [
            "[10 11 12 13 14 15 16 17 18 19 20 21 22 23 24 25 26 27 28 29 30 31 32 33\n",
            " 34 35 36 37 38 39 40 41 42 43 44 45 46 47 48 49]\n"
          ]
        },
        {
          "output_type": "execute_result",
          "data": {
            "text/plain": [
              "40"
            ]
          },
          "metadata": {},
          "execution_count": 20
        }
      ]
    },
    {
      "cell_type": "code",
      "source": [
        "#Ejercicio 4-Arreglo 2d de shape (3, 3) que tenga los números del 0 al 8"
      ],
      "metadata": {
        "id": "TOw9ClAygou9"
      },
      "execution_count": null,
      "outputs": []
    },
    {
      "cell_type": "code",
      "source": [
        "#Acá primero vamos a definir el rango de los valor a utilizar como en el ejercicio anterior con ARANGE\n",
        "np.arange(9)\n",
        "print(np.arange(9))# vemos que el arreglo esta en 1 dimension , pero nos esta solicitando la consigna que sea en 2 D de (3X3 ) entonces utilizamos \"rshape\" para que lo ponga como matriz\n",
        "array_4= np.arange(9).reshape(3,3)\n",
        "print(array_4) # Obtuvimo un Arreglo de 2 dimensiones con tres filas y tres columnas con los valores de \"Cero al 8\""
      ],
      "metadata": {
        "id": "6TZjyOv8iNGn",
        "outputId": "8ca03f27-7cfd-4667-8d5e-8713f6791a1a",
        "colab": {
          "base_uri": "https://localhost:8080/"
        }
      },
      "execution_count": null,
      "outputs": [
        {
          "output_type": "stream",
          "name": "stdout",
          "text": [
            "[0 1 2 3 4 5 6 7 8]\n",
            "[[0 1 2]\n",
            " [3 4 5]\n",
            " [6 7 8]]\n"
          ]
        }
      ]
    },
    {
      "cell_type": "code",
      "source": [
        "#Ejercicio 5- Arreglo de números aleatorios de longitud 100 y obtener su media y varianza"
      ],
      "metadata": {
        "id": "HebCQkIVj5tW"
      },
      "execution_count": null,
      "outputs": []
    },
    {
      "cell_type": "code",
      "source": [
        "array_5=np.random.rand(100) #utilizamos la función aleatoria=random y rand termina hasta que valor toma\n",
        "print(array_5)\n",
        "array_media=np.median(array_5) #utilizamos la función media contemplando el array_5 hasta 100 para determinar la media de dicho arreglo\n",
        "print(array_media)\n",
        "array_varianza=np.var(array_5) #utilizamos la función varianza contemplando el array_5 hasta 100 para determinar la media de dicho arreglo\n",
        "print(array_varianza)\n"
      ],
      "metadata": {
        "id": "X8v1UArSkIO0",
        "outputId": "24b2a919-f1a1-475e-cede-afbbda2f0327",
        "colab": {
          "base_uri": "https://localhost:8080/"
        }
      },
      "execution_count": null,
      "outputs": [
        {
          "output_type": "stream",
          "name": "stdout",
          "text": [
            "[0.92937112 0.38183862 0.05803091 0.90751139 0.01413377 0.06729283\n",
            " 0.02648012 0.84943504 0.38764921 0.30293053 0.96417038 0.29962321\n",
            " 0.07190479 0.85151211 0.36068747 0.86644661 0.24556556 0.95277845\n",
            " 0.10822129 0.43792576 0.34473834 0.24016036 0.4107513  0.48549546\n",
            " 0.25820752 0.65022949 0.57979267 0.42102856 0.31864075 0.88107379\n",
            " 0.1031796  0.34770891 0.62836885 0.6735373  0.91736668 0.3389014\n",
            " 0.63018599 0.11130696 0.51965735 0.17787623 0.6704807  0.07476998\n",
            " 0.72319109 0.72132961 0.53590395 0.73805859 0.75217811 0.9342498\n",
            " 0.41792842 0.71882247 0.2059053  0.04874267 0.11154231 0.43159932\n",
            " 0.97560422 0.05687194 0.98545351 0.32208959 0.78342107 0.36179249\n",
            " 0.15615759 0.8870857  0.83523068 0.78210452 0.00348341 0.35613591\n",
            " 0.35835063 0.09937503 0.14359607 0.86517236 0.37060911 0.74359626\n",
            " 0.53711362 0.28658603 0.99216938 0.89191805 0.76962699 0.06125807\n",
            " 0.78186431 0.33604927 0.58253934 0.03079195 0.0184593  0.95119808\n",
            " 0.07614402 0.24264244 0.73537103 0.7357561  0.8277678  0.69935361\n",
            " 0.58484988 0.58939456 0.98356473 0.21171182 0.310286   0.83732715\n",
            " 0.53077265 0.89117782 0.20176622 0.9779952 ]\n",
            "0.46171061231871113\n",
            "0.09681901666574179\n"
          ]
        }
      ]
    },
    {
      "cell_type": "code",
      "source": [
        "#Ejercicio 6- Calcular la media de un arreglo usando np.sum"
      ],
      "metadata": {
        "id": "qqvxOok4k_7Q"
      },
      "execution_count": null,
      "outputs": []
    },
    {
      "cell_type": "code",
      "source": [
        "lista1=[1,2,3,4,5,6] #Acá partimos desde crear la lista luego la transformamos en un arreglo , sumamos los valores que tenemos dentro del arreglo y determinamos la media del mismo\n",
        "array_6=np.array(lista1)\n",
        "print(array_6)\n",
        "suma=np.sum(array_6)# Funcion Suma del arreglo \"6\" relizamos la validación\n",
        "print(suma)\n",
        "media=np.mean(array_6)#Funcion media del arreglo \"6\"\n",
        "print(media)\n",
        "media_2=suma/len(array_6)\n",
        "print(media_2)\n",
        "\n",
        "array_media=np.sum(array_6)/len(array_6) #Ejecutamos lo que nos solicita el enunciado por lo que utilizamos la suma del arreglo y dividimos dicha suma por la funcion LEN que en este caso es \"6\" cant elementos\n",
        "print(array_media)\n"
      ],
      "metadata": {
        "id": "M33yDUPDp52W",
        "outputId": "932e34e9-83fd-48b1-9da0-4323c8c93ef1",
        "colab": {
          "base_uri": "https://localhost:8080/"
        }
      },
      "execution_count": null,
      "outputs": [
        {
          "output_type": "stream",
          "name": "stdout",
          "text": [
            "[1 2 3 4 5 6]\n",
            "21\n",
            "3.5\n",
            "3.5\n",
            "3.5\n"
          ]
        }
      ]
    },
    {
      "cell_type": "code",
      "source": [
        "#Ejercicio 7- Calcular la varianza de un arreglo usando np.sum y np.mean"
      ],
      "metadata": {
        "id": "4USqrrTlso31"
      },
      "execution_count": null,
      "outputs": []
    },
    {
      "cell_type": "code",
      "source": [
        "lista2=[8,9,10,11,12,13]\n",
        "array_7=np.array(lista2)\n",
        "\n",
        "print(array_7)\n",
        "len(array_7)\n",
        "print(np.var(array_7))\n",
        "#realizamos un paso a paso de la función\n",
        "array_suma=np.sum(array_7)\n",
        "print(array_suma)\n",
        "array_media=np.mean(array_7)\n",
        "print(array_media)\n",
        "diferencia=array_7-array_media\n",
        "print(diferencia)\n",
        "diferencia_cuadrada=diferencia**2\n",
        "print(diferencia_cuadrada)\n",
        "suma_cuadrada=np.sum(diferencia_cuadrada)\n",
        "print(suma_cuadrada)\n",
        "varianza=suma_cuadrada/len(array_7)\n",
        "print(varianza)\n",
        "#Sabemos que la función varianza es igual a la diferencia del arreglo menos la media elevada al cuadrado , dividio por el total de elementos\n",
        "\n",
        "#Volvemos a replicar lo calculado pero con las formulas de manera más compacta como lo pide el enunciado ,utilizando np. sumy np.mean\n",
        "varianza=np.sum((array_7 - np.mean(array_7)) ** 2) / len(array_7)\n",
        "print(varianza)\n"
      ],
      "metadata": {
        "id": "N8GF6y56v933",
        "outputId": "ab28ce74-a3f1-4bf7-c865-f3e5be64f69a",
        "colab": {
          "base_uri": "https://localhost:8080/"
        }
      },
      "execution_count": 35,
      "outputs": [
        {
          "output_type": "stream",
          "name": "stdout",
          "text": [
            "[ 8  9 10 11 12 13]\n",
            "2.9166666666666665\n",
            "63\n",
            "10.5\n",
            "[-2.5 -1.5 -0.5  0.5  1.5  2.5]\n",
            "[6.25 2.25 0.25 0.25 2.25 6.25]\n",
            "17.5\n",
            "2.9166666666666665\n",
            "2.9166666666666665\n"
          ]
        }
      ]
    }
  ]
}