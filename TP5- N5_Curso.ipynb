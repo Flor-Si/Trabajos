{
  "nbformat": 4,
  "nbformat_minor": 0,
  "metadata": {
    "kernelspec": {
      "display_name": "Python 3",
      "language": "python",
      "name": "python3"
    },
    "language_info": {
      "codemirror_mode": {
        "name": "ipython",
        "version": 3
      },
      "file_extension": ".py",
      "mimetype": "text/x-python",
      "name": "python",
      "nbconvert_exporter": "python",
      "pygments_lexer": "ipython3",
      "version": "3.7.3"
    },
    "colab": {
      "provenance": [],
      "include_colab_link": true
    }
  },
  "cells": [
    {
      "cell_type": "markdown",
      "metadata": {
        "id": "view-in-github",
        "colab_type": "text"
      },
      "source": [
        "<a href=\"https://colab.research.google.com/github/Flor-Si/Trabajos/blob/main/TP5-%20N5_Curso.ipynb\" target=\"_parent\"><img src=\"https://colab.research.google.com/assets/colab-badge.svg\" alt=\"Open In Colab\"/></a>"
      ]
    },
    {
      "cell_type": "markdown",
      "metadata": {
        "id": "Gp2WddtV9IwG"
      },
      "source": [
        "# Programa Ingenias+ Data Science"
      ]
    },
    {
      "cell_type": "markdown",
      "metadata": {
        "id": "X03mviQS9IyL"
      },
      "source": [
        "# Ejercicios\n",
        "\n",
        "1. Crear un arreglo de ceros de longitud 12\n",
        "2. Crear un arreglo de longitud 10 con ceros en todas sus posiciones y un 10 en la posición número 5\n",
        "3. Crear un arreglo que tenga los números del 10 al 49\n",
        "4. Crear una arreglo 2d de shape (3, 3) que tenga los números del 0 al 8\n",
        "5. Crear un arreglo de números aleatorios de longitud 100 y obtener su media y varianza\n",
        "6. Calcular la media de un arreglo usando np.sum\n",
        "7. Calcular la varianza de un arreglo usando np.sum y np.mean\n",
        "8. Crear un array de números aleatorios usando np.random.randn.\n"
      ]
    },
    {
      "cell_type": "code",
      "source": [
        "#Importar numpy\n",
        "import numpy as np"
      ],
      "metadata": {
        "id": "MWpardoSTVr5"
      },
      "execution_count": null,
      "outputs": []
    },
    {
      "cell_type": "code",
      "source": [
        "#Ejercicio1 - Arreglo de Ceros con una longitud de 12"
      ],
      "metadata": {
        "id": "oiolufQ9Tese"
      },
      "execution_count": null,
      "outputs": []
    },
    {
      "cell_type": "code",
      "source": [
        "array_1=np.zeros(12)\n",
        "print(array_1)\n",
        "print(np.zeros(12, dtype=int)) # Le agrege para esta función dtype para que imprima los valores en formato entero y no float \"con decimales\"\n",
        "len (array_1)"
      ],
      "metadata": {
        "id": "bDHUnDG-e0TB",
        "colab": {
          "base_uri": "https://localhost:8080/"
        },
        "outputId": "798c35c7-add9-4167-9905-4eae88b0d85c"
      },
      "execution_count": 17,
      "outputs": [
        {
          "output_type": "stream",
          "name": "stdout",
          "text": [
            "[0. 0. 0. 0. 0. 0. 0. 0. 0. 0. 0. 0.]\n",
            "[0 0 0 0 0 0 0 0 0 0 0 0]\n"
          ]
        },
        {
          "output_type": "execute_result",
          "data": {
            "text/plain": [
              "12"
            ]
          },
          "metadata": {},
          "execution_count": 17
        }
      ]
    },
    {
      "cell_type": "code",
      "source": [
        "#Ejercicio2-Arreglo de Log 10 con cero en todas sus posiciones y unn 10 en la posición n°5"
      ],
      "metadata": {
        "id": "0i9Np3jeaQOG"
      },
      "execution_count": null,
      "outputs": []
    },
    {
      "cell_type": "code",
      "source": [
        "array_2=np.zeros(10) #Creamos un array \"con todos los elementos en cero excepto la posicion 5 que tenian que tener el valor 10 en dicha posición\"\n",
        "array_2[5]=10 # determino la posición 5 sea igual a 10\n",
        "print(array_2)\n",
        "print(np.zeros(10, dtype=int)) # me imprime el array con numeros enteros esto lo realizo por practica\n",
        "len (array_2)# función LEN cuenta la longitud del arreglo= 10"
      ],
      "metadata": {
        "id": "tsFPO3rRaUzc",
        "outputId": "eb257bb2-f69d-40a7-c1bd-e8d9a493796b",
        "colab": {
          "base_uri": "https://localhost:8080/"
        }
      },
      "execution_count": 18,
      "outputs": [
        {
          "output_type": "stream",
          "name": "stdout",
          "text": [
            "[ 0.  0.  0.  0.  0. 10.  0.  0.  0.  0.]\n",
            "[0 0 0 0 0 0 0 0 0 0]\n"
          ]
        },
        {
          "output_type": "execute_result",
          "data": {
            "text/plain": [
              "10"
            ]
          },
          "metadata": {},
          "execution_count": 18
        }
      ]
    },
    {
      "cell_type": "code",
      "source": [
        "#Ejercicio3-Arreglo que tenga los números del 10 al 49"
      ],
      "metadata": {
        "id": "w6dbHK66bFAd"
      },
      "execution_count": null,
      "outputs": []
    },
    {
      "cell_type": "code",
      "source": [],
      "metadata": {
        "id": "qOwau9nUeQrU"
      },
      "execution_count": null,
      "outputs": []
    }
  ]
}