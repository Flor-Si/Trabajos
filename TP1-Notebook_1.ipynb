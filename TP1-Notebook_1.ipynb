{
  "cells": [
    {
      "cell_type": "markdown",
      "metadata": {
        "id": "view-in-github",
        "colab_type": "text"
      },
      "source": [
        "<a href=\"https://colab.research.google.com/github/Flor-Si/Trabajos/blob/main/TP1-Notebook_1.ipynb\" target=\"_parent\"><img src=\"https://colab.research.google.com/assets/colab-badge.svg\" alt=\"Open In Colab\"/></a>"
      ]
    },
    {
      "cell_type": "markdown",
      "metadata": {
        "id": "p3qOd2lCIBTD"
      },
      "source": [
        "Uno de los motivos por el cual Python ha crecido en los ultimos años es su gran comunidad de código abierto. Existen muchos eventos a los que se puede asistir para aprender más acerca de lo que se trabaja en Python. Todos ellos son inclusivos y abiertos al público."
      ]
    },
    {
      "cell_type": "markdown",
      "metadata": {
        "id": "HUYjQZ-hIBS_"
      },
      "source": [
        "# Programa Ingenias+ Data Science"
      ]
    },
    {
      "cell_type": "markdown",
      "metadata": {
        "id": "qx96wLzTjCwq"
      },
      "source": [
        "[link text](https:// [link text](https://))"
      ]
    },
    {
      "cell_type": "markdown",
      "metadata": {
        "id": "Zv_cCGTKIBTE"
      },
      "source": [
        "# Clase 1: Introducción a Python"
      ]
    },
    {
      "cell_type": "markdown",
      "metadata": {
        "id": "o7ZVxqDnzrPi"
      },
      "source": []
    },
    {
      "cell_type": "markdown",
      "metadata": {
        "id": "FfQFHyRfIBTC"
      },
      "source": [
        "Antes de poder sumergirnos de lleno en aprender conceptos especificos del mundo de Data Science, hay una habilidad que debemos adquirir o mejorar: **Programación**. De todos los lenguajes de programación existentes, hay dos que dominan el mundo de Data Science.  \n",
        "El primero de ellos es **R</t>**, un lenguaje que se utiliza mucho en investigación y estadistica. El otro es **Python**.\n",
        "Si bien ambos son muy utiles, **Python** es el más utilizado hoy en día, y debido a esto más módulos han sido desarrollados."
      ]
    },
    {
      "cell_type": "markdown",
      "source": [],
      "metadata": {
        "id": "hgrk6liXB5gG"
      }
    },
    {
      "cell_type": "markdown",
      "metadata": {
        "id": "EQtl33aqIBTE"
      },
      "source": [
        "Python es un lenguaje de programación de propósito general muy poderoso y\n",
        "\n",
        "*   Elemento de lista\n",
        "*   Elemento de lista\n",
        "\n",
        "flexible, a la vez que sencillo y fácil de aprender."
      ]
    },
    {
      "cell_type": "markdown",
      "metadata": {
        "id": "KDwws6ELIBTE"
      },
      "source": [
        "\n",
        "\n",
        "```\n",
        "# Tiene formato de código\n",
        "```\n",
        "\n",
        "**¿Donde recurro cuando estoy trabada o no se qué hacer?**"
      ]
    },
    {
      "cell_type": "markdown",
      "metadata": {
        "id": "uzxslsUVIBTF"
      },
      "source": [
        "Python posee una amplia documentación que nos permite investigar cada función que contiene el lenguaje. Podes chequearla [acá](https://docs.python.org/3/)\n",
        "\n",
        "Otra fuente para obtener respuestas es [Stackoverflow](https://es.stackoverflow.com/) o por supuesto, Google."
      ]
    },
    {
      "cell_type": "markdown",
      "metadata": {
        "id": "tao9huSrIBTF"
      },
      "source": [
        "## Conceptos básicos de Python"
      ]
    },
    {
      "cell_type": "markdown",
      "metadata": {
        "id": "E-Ws_92DIBTG"
      },
      "source": [
        "En estas clases utilizaremos **Jupyter Notebook**. La ventaja de jupyter notebook es que permite mezclar celdas `Markdown` con celdas de código."
      ]
    },
    {
      "cell_type": "markdown",
      "metadata": {
        "id": "DNWhdMWZIBTG"
      },
      "source": [
        "1) **Markdown** es un lenguaje de marcado que permite dar formato a un texto de manera rápida y fácil.\n",
        "\n",
        "Para utilizarlo debes seguir ciertas convenciones que puedas consultar en la siguiente página web: [Guía Markdown](https://joedicastro.com/pages/markdown.html)"
      ]
    },
    {
      "cell_type": "markdown",
      "metadata": {
        "id": "2q5qlavbIBTH"
      },
      "source": [
        "2) Por otro lado, en las celdas de código es donde vamos a escribir el código **Python**.  \n",
        "\n",
        "Prestale atención a los corchetes que se encuentran al lado de cada celda de Python. Cuando tienen un número significa que esa celda ha sido corrida. Cuando tienen `*` implica que la celda esta corriendo."
      ]
    },
    {
      "cell_type": "markdown",
      "metadata": {
        "id": "CrCkrNfwIBTH"
      },
      "source": [
        "Python posee una guía de estilo, que si bien no es obligatoria, se **RECOMIENDA** seguir. Podes leer acerca de las convenciones establecidas en el [PEP8](https://www.python.org/dev/peps/pep-0008/)."
      ]
    },
    {
      "cell_type": "markdown",
      "metadata": {
        "id": "UfGOTT9TIBTI"
      },
      "source": [
        "La filosofía de Python hace hincapié en una sintaxis que favorezca un código legible. Esta filosofía se resumen en lo que se conoce como el **ZEN de Python**."
      ]
    },
    {
      "cell_type": "code",
      "execution_count": null,
      "metadata": {
        "id": "NPu8DjQOIBTI",
        "colab": {
          "base_uri": "https://localhost:8080/"
        },
        "outputId": "9e0714a1-0d08-49f4-b078-641308be884c"
      },
      "outputs": [
        {
          "output_type": "stream",
          "name": "stdout",
          "text": [
            "The Zen of Python, by Tim Peters\n",
            "\n",
            "Beautiful is better than ugly.\n",
            "Explicit is better than implicit.\n",
            "Simple is better than complex.\n",
            "Complex is better than complicated.\n",
            "Flat is better than nested.\n",
            "Sparse is better than dense.\n",
            "Readability counts.\n",
            "Special cases aren't special enough to break the rules.\n",
            "Although practicality beats purity.\n",
            "Errors should never pass silently.\n",
            "Unless explicitly silenced.\n",
            "In the face of ambiguity, refuse the temptation to guess.\n",
            "There should be one-- and preferably only one --obvious way to do it.\n",
            "Although that way may not be obvious at first unless you're Dutch.\n",
            "Now is better than never.\n",
            "Although never is often better than *right* now.\n",
            "If the implementation is hard to explain, it's a bad idea.\n",
            "If the implementation is easy to explain, it may be a good idea.\n",
            "Namespaces are one honking great idea -- let's do more of those!\n"
          ]
        }
      ],
      "source": [
        "#Corre esta linea para descubrir el zen de Python\n",
        "import this"
      ]
    },
    {
      "cell_type": "markdown",
      "metadata": {
        "id": "x-U2ymfsIBTJ"
      },
      "source": [
        "Empecemos con una función muy simple de Python: `print()`. Esta función imprime la variable que se le pase."
      ]
    },
    {
      "cell_type": "code",
      "execution_count": null,
      "metadata": {
        "colab": {
          "base_uri": "https://localhost:8080/"
        },
        "id": "C6BFwKs-IBTJ",
        "outputId": "2ef4c372-a9b0-42fb-8d5b-2eee16e10f42"
      },
      "outputs": [
        {
          "output_type": "stream",
          "name": "stdout",
          "text": [
            "Python es muy fácil de aprender\n"
          ]
        }
      ],
      "source": [
        "#Corre esta celda para descrubir el output\n",
        "print(\"Python es muy fácil de aprender\")"
      ]
    },
    {
      "cell_type": "code",
      "execution_count": null,
      "metadata": {
        "colab": {
          "base_uri": "https://localhost:8080/"
        },
        "id": "Qtm2wvaMIBTK",
        "outputId": "322d67d5-daa6-4301-84fd-eba0cd2a77e3"
      },
      "outputs": [
        {
          "output_type": "stream",
          "name": "stdout",
          "text": [
            "Python es muy fácil de aprender\n"
          ]
        }
      ],
      "source": [
        "print (\"Python es muy fácil de aprender\")"
      ]
    },
    {
      "cell_type": "markdown",
      "metadata": {
        "id": "Dql9P9cTIBTK"
      },
      "source": [
        "### Sintaxis: Indentación y Comentarios"
      ]
    },
    {
      "cell_type": "markdown",
      "metadata": {
        "id": "r-ATaA8sIBTK"
      },
      "source": [
        "La clave de la sintaxis de Python es la INDENTACIÓN. La indentación es la sangría inicial de un bloque de código, compuesta por 4 espacios o un tab"
      ]
    },
    {
      "cell_type": "code",
      "execution_count": null,
      "metadata": {
        "id": "93by5ynyIBTK"
      },
      "outputs": [],
      "source": [
        "def suma(a, b):\n",
        "    # esta linea suma a y b\n",
        "    c = a + b\n",
        "    # esta linea suma a y c\n",
        "    d = a + c\n",
        "    return c\n",
        "\n",
        "def resta(a, b):\n",
        "    return a - b"
      ]
    },
    {
      "cell_type": "code",
      "execution_count": null,
      "metadata": {
        "colab": {
          "base_uri": "https://localhost:8080/"
        },
        "id": "ToIi6d2QIBTL",
        "outputId": "3276aee0-8539-4171-e969-1e5f574669a1"
      },
      "outputs": [
        {
          "output_type": "execute_result",
          "data": {
            "text/plain": [
              "2"
            ]
          },
          "metadata": {},
          "execution_count": 7
        }
      ],
      "source": [
        "resta(5, 3)"
      ]
    },
    {
      "cell_type": "code",
      "source": [
        " resta(43,10)\n",
        "\n",
        "\n",
        "\n"
      ],
      "metadata": {
        "colab": {
          "base_uri": "https://localhost:8080/"
        },
        "id": "GHkpK44X4X01",
        "outputId": "1e89bf98-9a43-418e-ed8f-1b78fafe38b5"
      },
      "execution_count": null,
      "outputs": [
        {
          "output_type": "execute_result",
          "data": {
            "text/plain": [
              "33"
            ]
          },
          "metadata": {},
          "execution_count": 12
        }
      ]
    },
    {
      "cell_type": "code",
      "execution_count": null,
      "metadata": {
        "id": "VJJPE1ARrdtR",
        "colab": {
          "base_uri": "https://localhost:8080/"
        },
        "outputId": "ca7a8f0b-833e-456d-b9c2-5f3115c91159"
      },
      "outputs": [
        {
          "output_type": "execute_result",
          "data": {
            "text/plain": [
              "33"
            ]
          },
          "metadata": {},
          "execution_count": 9
        }
      ],
      "source": [
        "resta(43,10)"
      ]
    },
    {
      "cell_type": "code",
      "source": [
        "# esto es un comentario\n",
        "print(5)"
      ],
      "metadata": {
        "colab": {
          "base_uri": "https://localhost:8080/"
        },
        "id": "HvduLYdv48Al",
        "outputId": "6a319ad1-57f1-485e-ee9d-3e561afe472c"
      },
      "execution_count": null,
      "outputs": [
        {
          "output_type": "stream",
          "name": "stdout",
          "text": [
            "5\n"
          ]
        }
      ]
    },
    {
      "cell_type": "code",
      "execution_count": null,
      "metadata": {
        "colab": {
          "base_uri": "https://localhost:8080/"
        },
        "id": "cs6Q2r3sIBTL",
        "outputId": "9832322b-ad78-4025-ed49-7e6a1c9ac6b0"
      },
      "outputs": [
        {
          "output_type": "stream",
          "name": "stdout",
          "text": [
            "1\n"
          ]
        }
      ],
      "source": [
        "# esto es un comentario\n",
        "print(1)"
      ]
    },
    {
      "cell_type": "code",
      "execution_count": null,
      "metadata": {
        "colab": {
          "base_uri": "https://localhost:8080/"
        },
        "id": "_ogl3mo50rKq",
        "outputId": "77847d3d-4526-42fb-ee26-d563d01589ec"
      },
      "outputs": [
        {
          "output_type": "stream",
          "name": "stdout",
          "text": [
            "38\n"
          ]
        }
      ],
      "source": [
        "#comentario\n",
        "print(38)"
      ]
    },
    {
      "cell_type": "markdown",
      "metadata": {
        "id": "CeJ3kCI9IBTL"
      },
      "source": [
        "El simbolo `#` se utiliza para determinar un comentario. Esto significa que al verlo, Python entendera que esa línea no corresponde a código que debe correrse."
      ]
    },
    {
      "cell_type": "markdown",
      "metadata": {
        "id": "-s0U6l_YIBTL"
      },
      "source": [
        "Comentar el código es una practica muy útil para explicar que hace una linea de código. La convención es que el comentario se haga en la línea anterior a la linea de código correspondiente."
      ]
    },
    {
      "cell_type": "code",
      "execution_count": null,
      "metadata": {
        "id": "93Vf8OTRIBTM"
      },
      "outputs": [],
      "source": []
    },
    {
      "cell_type": "code",
      "execution_count": null,
      "metadata": {
        "id": "hOxalfP3IBTM"
      },
      "outputs": [],
      "source": []
    },
    {
      "cell_type": "code",
      "execution_count": null,
      "metadata": {
        "colab": {
          "base_uri": "https://localhost:8080/"
        },
        "id": "bbdcpBvUIBTM",
        "outputId": "e92efc67-0aca-4ecd-8b62-8a574d1c3804"
      },
      "outputs": [
        {
          "output_type": "stream",
          "name": "stdout",
          "text": [
            "194.87171000000012\n"
          ]
        }
      ],
      "source": [
        "#Reemplaza las lineas de puntos con la función correspondiente.\n",
        "print(100*(1.1**7))"
      ]
    },
    {
      "cell_type": "code",
      "execution_count": null,
      "metadata": {
        "colab": {
          "base_uri": "https://localhost:8080/"
        },
        "id": "k_mRurYlMJr9",
        "outputId": "dabb8865-5fde-4bf5-ce4a-16d21766c64f"
      },
      "outputs": [
        {
          "output_type": "stream",
          "name": "stdout",
          "text": [
            "172.79999999999998\n"
          ]
        }
      ],
      "source": [
        "print(100*(1.2**3))\n"
      ]
    },
    {
      "cell_type": "markdown",
      "metadata": {
        "id": "mKF0Tbn5IBTM"
      },
      "source": [
        "## Variables y Estructura de datos"
      ]
    },
    {
      "cell_type": "markdown",
      "metadata": {
        "id": "ofppWLIbIBTM"
      },
      "source": [
        "### Asignación de variables:"
      ]
    },
    {
      "cell_type": "markdown",
      "metadata": {
        "id": "0AmUV30GIBTN"
      },
      "source": [
        "En Python, una variable permite referir a un valor utilizando un nombre en especifico. Para crear una variable, se debe usar `=` como en el siguiente ejemplo:"
      ]
    },
    {
      "cell_type": "code",
      "execution_count": null,
      "metadata": {
        "id": "PePgG7rjIBTN"
      },
      "outputs": [],
      "source": [
        "mi_numero = 10"
      ]
    },
    {
      "cell_type": "code",
      "execution_count": null,
      "metadata": {
        "colab": {
          "base_uri": "https://localhost:8080/"
        },
        "id": "w4KelmHKIBTN",
        "outputId": "5b799f3d-8359-475d-94fb-3110abd39ec5"
      },
      "outputs": [
        {
          "name": "stdout",
          "output_type": "stream",
          "text": [
            "10\n"
          ]
        }
      ],
      "source": [
        "print(mi_numero)"
      ]
    },
    {
      "cell_type": "code",
      "execution_count": null,
      "metadata": {
        "colab": {
          "base_uri": "https://localhost:8080/"
        },
        "id": "VnEfwXHfMcvl",
        "outputId": "92b5d3ac-8787-4f25-c0c5-550955c9be1b"
      },
      "outputs": [
        {
          "output_type": "stream",
          "name": "stdout",
          "text": [
            "40\n"
          ]
        }
      ],
      "source": [
        "mi_numero = 40\n",
        "print(mi_numero)"
      ]
    },
    {
      "cell_type": "markdown",
      "metadata": {
        "id": "M0o3mdGCIBTN"
      },
      "source": [
        "Ahora, sigue las instrucciones de los comentarios."
      ]
    },
    {
      "cell_type": "code",
      "execution_count": null,
      "metadata": {
        "id": "1Eg2R-wmIBTN"
      },
      "outputs": [],
      "source": [
        "#Asigna 100 a la variable mi_variable\n",
        "mi_variable = 250"
      ]
    },
    {
      "cell_type": "code",
      "execution_count": null,
      "metadata": {
        "colab": {
          "base_uri": "https://localhost:8080/"
        },
        "id": "0zS96SokMr17",
        "outputId": "4a6deefd-c0c4-418a-e800-4751cb88d7dc"
      },
      "outputs": [
        {
          "name": "stdout",
          "output_type": "stream",
          "text": [
            "100\n"
          ]
        }
      ],
      "source": [
        "mi_variable=100\n",
        "print(mi_variable)"
      ]
    },
    {
      "cell_type": "code",
      "execution_count": null,
      "metadata": {
        "colab": {
          "base_uri": "https://localhost:8080/"
        },
        "id": "4gWvtyQMIBTN",
        "outputId": "cacce921-8646-4ff2-edbc-497038517363"
      },
      "outputs": [
        {
          "output_type": "stream",
          "name": "stdout",
          "text": [
            "250\n"
          ]
        }
      ],
      "source": [
        "#Muestra el contenido de la variable\n",
        "print(mi_variable)"
      ]
    },
    {
      "cell_type": "code",
      "execution_count": null,
      "metadata": {
        "id": "sA82GbY_IBTN"
      },
      "outputs": [],
      "source": [
        "mi_numero = 35"
      ]
    },
    {
      "cell_type": "code",
      "execution_count": null,
      "metadata": {
        "colab": {
          "base_uri": "https://localhost:8080/"
        },
        "id": "4GtcWRirIBTO",
        "outputId": "6e5af5be-a48e-47ae-d66f-22f04d0aa809"
      },
      "outputs": [
        {
          "name": "stdout",
          "output_type": "stream",
          "text": [
            "35\n"
          ]
        }
      ],
      "source": [
        "print(mi_numero)"
      ]
    },
    {
      "cell_type": "markdown",
      "metadata": {
        "id": "61Gq151VIBTO"
      },
      "source": [
        "Las variables pueden ser llamadas posteriormente. Además podemos realizar calculos y operaciones con ellas."
      ]
    },
    {
      "cell_type": "code",
      "execution_count": null,
      "metadata": {
        "colab": {
          "base_uri": "https://localhost:8080/"
        },
        "id": "T54_s_40IBTO",
        "outputId": "46020d99-9f7d-4db5-c799-8c5a444a046d"
      },
      "outputs": [
        {
          "output_type": "stream",
          "name": "stdout",
          "text": [
            "4271.484375\n"
          ]
        }
      ],
      "source": [
        "#Crea una variable llamada factor que contenga el numero 1.1\n",
        "factor = 1.5\n",
        "\n",
        "#Calcula el resultado de elevar a la 7 la varible factor multiplicarla\n",
        "#por el numero contenido en mi_varible y asignala a una nueva variable\n",
        "#llamada resultado\n",
        "resultado = factor**7*mi_variable\n",
        "#Imprime el resultado\n",
        "print(resultado)"
      ]
    },
    {
      "cell_type": "code",
      "execution_count": null,
      "metadata": {
        "colab": {
          "base_uri": "https://localhost:8080/"
        },
        "id": "hi-bw7RabFPr",
        "outputId": "545fac86-1717-45f5-a504-05725ac34c87"
      },
      "outputs": [
        {
          "output_type": "stream",
          "name": "stdout",
          "text": [
            "116.92302600000008\n"
          ]
        }
      ],
      "source": [
        "mi_variable = 60\n",
        "factor = 1.1\n",
        "resultado=((factor**7)*mi_variable)\n",
        "print(resultado)\n"
      ]
    },
    {
      "cell_type": "markdown",
      "metadata": {
        "id": "uHpC-ctrIBTO"
      },
      "source": [
        "Hay ciertas reglas que se deben cumplir a la hora de declarar una variable:  \n",
        "\n",
        "- Los nombres de las variables siempre aparecen a la izquierda de `=`.\n",
        "- Python diferencia mayusculas de minusculas en el nombre de las variables.\n",
        "- Los nombres de las variables DEBEN comenzar con una letra. Luego pueden contener nombres y guiones bajos `_`. Pero no pueden contener caracteres especiales (como por ejemplo, `&`, `*`, `#`, etc).\n",
        "- Si bien Python no le importa como llames a tus variables, los nombres de las variables deben ser descriptivos de los valores o datos que contienen para que otras personas puedan interpretarlo.\n",
        "- Lee más acerca de estas convenciones en el **PEP8**."
      ]
    },
    {
      "cell_type": "markdown",
      "metadata": {
        "id": "2BZD4eKxIBTO"
      },
      "source": [
        "**PALABRAS RESERVADAS**: Hay 33 palabras que no podes utilizar como nombres de variables, debido a que estan reservadas para el lenguaje ya que cumplen una función particular en Python."
      ]
    },
    {
      "cell_type": "markdown",
      "metadata": {
        "id": "MMEiFu8PIBTO"
      },
      "source": [
        "_Ellas son_: False, None, True, and, as, assert, break, class, continue, def, del, elif, else, except, finally, for, from, global, if, import, in, is, lambda, nonlocal, not, or, pass, raise, return, try, while, with, yield\n",
        "\n"
      ]
    },
    {
      "cell_type": "code",
      "execution_count": null,
      "metadata": {
        "colab": {
          "base_uri": "https://localhost:8080/"
        },
        "id": "T92qMKQ-eOOP",
        "outputId": "777451f2-bac6-44d7-834d-e960d5adaa8c"
      },
      "outputs": [
        {
          "output_type": "stream",
          "name": "stdout",
          "text": [
            "8\n"
          ]
        }
      ],
      "source": [
        "#codigo incorrecto no se puede utilizar try es una palabra con excepción\n",
        "valor = 8\n",
        "print(valor)\n"
      ]
    },
    {
      "cell_type": "code",
      "execution_count": null,
      "metadata": {
        "id": "3WN5NjwPIBTP"
      },
      "outputs": [],
      "source": []
    },
    {
      "cell_type": "markdown",
      "metadata": {
        "id": "Oj0_9qPQIBTP"
      },
      "source": [
        "### Tipo de Variables:"
      ]
    },
    {
      "cell_type": "markdown",
      "metadata": {
        "id": "laFZopm5IBTP"
      },
      "source": [
        "Python nos provee una función útil para chequear que tipo de variable contiene cada variable definida: `type()` [Chequea la documentación](https://docs.python.org/3/library/functions.html?highlight=type#type)."
      ]
    },
    {
      "cell_type": "markdown",
      "metadata": {
        "id": "efGMi76yIBTP"
      },
      "source": [
        "### ENTEROS"
      ]
    },
    {
      "cell_type": "markdown",
      "metadata": {
        "id": "6SZULLwxIBTP"
      },
      "source": [
        "El primer tipo de datos que podemos tener son enteros, que corresponde al tipo `int` en Python."
      ]
    },
    {
      "cell_type": "code",
      "execution_count": null,
      "metadata": {
        "colab": {
          "base_uri": "https://localhost:8080/"
        },
        "id": "zB7X_gXiIBTP",
        "outputId": "4b9321fb-93d7-4d5c-aae1-853e1356daa7"
      },
      "outputs": [
        {
          "output_type": "stream",
          "name": "stdout",
          "text": [
            "<class 'float'>\n",
            "<class 'int'>\n"
          ]
        }
      ],
      "source": [
        "#Declara la variable mi_numero y asignale el numero 4\n",
        "mi_numero = 2.1\n",
        "\n",
        "#Declara la variable otro_numero y asignale el numero -1\n",
        "otro_numero = 2\n",
        "\n",
        "#Chequea que tipo de variables son mi_numero y otro_numero\n",
        "print(type(mi_numero))\n",
        "print(type(otro_numero))"
      ]
    },
    {
      "cell_type": "code",
      "execution_count": null,
      "metadata": {
        "colab": {
          "base_uri": "https://localhost:8080/"
        },
        "id": "TnyhNVzyIBTP",
        "outputId": "39a4a7c5-6fcb-47a2-dd3a-c74d30d48c5b"
      },
      "outputs": [
        {
          "output_type": "stream",
          "name": "stdout",
          "text": [
            "4.2\n"
          ]
        }
      ],
      "source": [
        "#Imprime el resultado de multiplicar mi_numero y otro_numero\n",
        "print(mi_numero*otro_numero)"
      ]
    },
    {
      "cell_type": "code",
      "execution_count": null,
      "metadata": {
        "colab": {
          "base_uri": "https://localhost:8080/"
        },
        "id": "f-W5sz73dMtS",
        "outputId": "57fff945-ba3b-4574-f0a7-3c0720e399d4"
      },
      "outputs": [
        {
          "output_type": "stream",
          "name": "stdout",
          "text": [
            "<class 'int'>\n",
            "<class 'int'>\n"
          ]
        }
      ],
      "source": [
        "mi_numero =4\n",
        "otro_numero =-1\n",
        "print (type(mi_numero))\n",
        "print (type(otro_numero))\n"
      ]
    },
    {
      "cell_type": "code",
      "execution_count": null,
      "metadata": {
        "colab": {
          "base_uri": "https://localhost:8080/"
        },
        "id": "guj72n_Idpde",
        "outputId": "e6ecad5a-8f4e-4355-8db8-4cbe8dac8513"
      },
      "outputs": [
        {
          "output_type": "stream",
          "name": "stdout",
          "text": [
            "-4\n"
          ]
        }
      ],
      "source": [
        "#Imprimir resultado de multiplicar mi_numero y otro_numero\n",
        "print (mi_numero*otro_numero)"
      ]
    },
    {
      "cell_type": "markdown",
      "metadata": {
        "id": "-R-BiIoDIBTQ"
      },
      "source": [
        "### FLOTANTES"
      ]
    },
    {
      "cell_type": "markdown",
      "metadata": {
        "id": "OoQWsze4IBTQ"
      },
      "source": [
        "Además de enteros, los datos también pueden ser de tipo flotantes. Esto es pueden contener numeros como `5.5`, `7.7`, `9014019401.43`. Este tipo de variable corresponde a `float` en Python."
      ]
    },
    {
      "cell_type": "code",
      "execution_count": null,
      "metadata": {
        "colab": {
          "base_uri": "https://localhost:8080/"
        },
        "id": "-tEcqcTpIBTQ",
        "outputId": "75130fed-2c83-472e-8d64-17da08ac1e30"
      },
      "outputs": [
        {
          "output_type": "stream",
          "name": "stdout",
          "text": [
            "<class 'float'>\n"
          ]
        }
      ],
      "source": [
        "#Declara la variable float_numero y asignale el numero 4.9\n",
        "float_numero = 9.2\n",
        "\n",
        "#Chequea que tipo de variable es float_numero\n",
        "print(type(float_numero))"
      ]
    },
    {
      "cell_type": "code",
      "execution_count": null,
      "metadata": {
        "colab": {
          "base_uri": "https://localhost:8080/"
        },
        "id": "RCOTIpolIBTQ",
        "outputId": "65751d37-c7d5-458c-8d89-523a766ac6b2"
      },
      "outputs": [
        {
          "output_type": "stream",
          "name": "stdout",
          "text": [
            "7163.929599999998\n"
          ]
        }
      ],
      "source": [
        "#Imprime el resultado de elevar float_numero a mi_numero, declarado anteriormente\n",
        "print(float_numero**mi_numero)"
      ]
    },
    {
      "cell_type": "code",
      "execution_count": null,
      "metadata": {
        "colab": {
          "base_uri": "https://localhost:8080/"
        },
        "id": "wljjd9qtf0eZ",
        "outputId": "090cc275-e322-4f26-a878-5c5c63d9170b"
      },
      "outputs": [
        {
          "output_type": "stream",
          "name": "stdout",
          "text": [
            "<class 'float'>\n"
          ]
        }
      ],
      "source": [
        "float_numero =4.9\n",
        "print (type(float_numero))"
      ]
    },
    {
      "cell_type": "code",
      "execution_count": null,
      "metadata": {
        "colab": {
          "base_uri": "https://localhost:8080/"
        },
        "id": "gNIRNuA3gEoy",
        "outputId": "e8c48e90-b55c-48d8-ed3b-38c88f7e872c"
      },
      "outputs": [
        {
          "output_type": "stream",
          "name": "stdout",
          "text": [
            "19.6\n"
          ]
        }
      ],
      "source": [
        "print (float_numero*mi_numero)"
      ]
    },
    {
      "cell_type": "markdown",
      "metadata": {
        "id": "5UVoSCi0IBTQ"
      },
      "source": [
        "### BOOLEANAS"
      ]
    },
    {
      "cell_type": "markdown",
      "metadata": {
        "id": "uWrj3-K5IBTQ"
      },
      "source": [
        "Una variable booleana es una variable lógica que admite solo dos valores `True` y `False`."
      ]
    },
    {
      "cell_type": "code",
      "execution_count": null,
      "metadata": {
        "id": "n--DS2YPIBTQ"
      },
      "outputs": [],
      "source": [
        "#Corre la siguiente linea\n",
        "mi_bool = True"
      ]
    },
    {
      "cell_type": "code",
      "execution_count": null,
      "metadata": {
        "id": "UMc-hN6fIBTR"
      },
      "outputs": [],
      "source": [
        "#Ahora asigna a la variable otra_bool el valor False\n",
        "otra_bool = False"
      ]
    },
    {
      "cell_type": "code",
      "execution_count": null,
      "metadata": {
        "colab": {
          "base_uri": "https://localhost:8080/"
        },
        "id": "Jm084U2AIBTR",
        "outputId": "4f3515de-23a4-41cd-bec9-fbdef238930e"
      },
      "outputs": [
        {
          "output_type": "stream",
          "name": "stdout",
          "text": [
            "<class 'bool'>\n",
            "<class 'bool'>\n"
          ]
        }
      ],
      "source": [
        "#Chequea que tipo de variables son mi_bool y otra_bool\n",
        "print(type(mi_bool))\n",
        "print(type(otra_bool))"
      ]
    },
    {
      "cell_type": "code",
      "execution_count": null,
      "metadata": {
        "id": "TKV3djR1iIra"
      },
      "outputs": [],
      "source": []
    },
    {
      "cell_type": "markdown",
      "metadata": {
        "id": "hf2nka7BIBTR"
      },
      "source": [
        "Pese a que las variables booleanas son definidas con los valores `True` y `False`, Python las trata como numeros."
      ]
    },
    {
      "cell_type": "code",
      "execution_count": null,
      "metadata": {
        "colab": {
          "base_uri": "https://localhost:8080/"
        },
        "id": "dqzecrXfIBTR",
        "outputId": "bf63cef2-3a78-4cc1-c0f1-abe2de58d658"
      },
      "outputs": [
        {
          "output_type": "execute_result",
          "data": {
            "text/plain": [
              "1"
            ]
          },
          "metadata": {},
          "execution_count": 32
        }
      ],
      "source": [
        "#Prueba que ocurre si sumamos mi_bool y otra_bool\n",
        "mi_bool + otra_bool"
      ]
    },
    {
      "cell_type": "markdown",
      "metadata": {
        "id": "WERJJ8p3IBTR"
      },
      "source": [
        "Así es Python devolvera un numero. En lugar de utilizar el operador suma, podemos utilizar los operadores lógicos: `&` o `and`, `|` o `or`, y `not`."
      ]
    },
    {
      "cell_type": "code",
      "execution_count": null,
      "metadata": {
        "colab": {
          "base_uri": "https://localhost:8080/"
        },
        "id": "cGeuzW3kIBTR",
        "outputId": "5230abe6-afe6-4e73-d692-d633a322e48e"
      },
      "outputs": [
        {
          "output_type": "execute_result",
          "data": {
            "text/plain": [
              "False"
            ]
          },
          "metadata": {},
          "execution_count": 33
        }
      ],
      "source": [
        "#Aplica el operador and o & entre las variables mi_bool y otra_bool\n",
        "mi_bool and otra_bool"
      ]
    },
    {
      "cell_type": "code",
      "execution_count": null,
      "metadata": {
        "colab": {
          "base_uri": "https://localhost:8080/"
        },
        "id": "kIwSzQrKIBTS",
        "outputId": "a2286eb7-b2df-4cd8-f8e0-5a6cc247a1a3"
      },
      "outputs": [
        {
          "output_type": "execute_result",
          "data": {
            "text/plain": [
              "True"
            ]
          },
          "metadata": {},
          "execution_count": 34
        }
      ],
      "source": [
        "#Aplica el operador or o | entre las variables mi_bool y otra_bool\n",
        "mi_bool or otra_bool"
      ]
    },
    {
      "cell_type": "code",
      "execution_count": null,
      "metadata": {
        "colab": {
          "base_uri": "https://localhost:8080/"
        },
        "id": "mXYaCZMOIBTS",
        "outputId": "d49cdc4c-1cb2-4fe8-e541-49162a0e4a30"
      },
      "outputs": [
        {
          "output_type": "execute_result",
          "data": {
            "text/plain": [
              "False"
            ]
          },
          "metadata": {},
          "execution_count": 35
        }
      ],
      "source": [
        "#Aplica el operador not a la variable mi_bool\n",
        "not mi_bool"
      ]
    },
    {
      "cell_type": "markdown",
      "metadata": {
        "id": "7HQJdTJsIBTS"
      },
      "source": [
        "### SECUENCIA DE CARACTERES O STRINGS"
      ]
    },
    {
      "cell_type": "markdown",
      "metadata": {
        "id": "yd-UPj3HIBTS"
      },
      "source": [
        "La secuencia de caracteres o `string` es otro tipo de datos que podemos encontrar en Python. Estas variables poseen de particular que se definen utilizando comillas, como en el ejemplo siguiente:"
      ]
    },
    {
      "cell_type": "code",
      "execution_count": null,
      "metadata": {
        "colab": {
          "base_uri": "https://localhost:8080/"
        },
        "id": "NF1n-Qe1IBTS",
        "outputId": "e7a41c12-844a-40a5-b63e-411509e24598"
      },
      "outputs": [
        {
          "output_type": "stream",
          "name": "stdout",
          "text": [
            "Aprender Python es muy sencillo\n",
            "Solo hay que practicar\n"
          ]
        }
      ],
      "source": [
        "#Corre las siguientes lineas\n",
        "mi_frase = \"Aprender Python es muy sencillo\"\n",
        "segunda_frase = 'Solo hay que practicar'\n",
        "print(mi_frase)\n",
        "print(segunda_frase)"
      ]
    },
    {
      "cell_type": "code",
      "execution_count": null,
      "metadata": {
        "id": "-XZW5iajIBTS"
      },
      "outputs": [],
      "source": [
        "mi_frase = \"esta es una frase\""
      ]
    },
    {
      "cell_type": "markdown",
      "metadata": {
        "id": "G8d-4VMeIBTS"
      },
      "source": [
        "##### Comillas"
      ]
    },
    {
      "cell_type": "markdown",
      "metadata": {
        "id": "Pmq_j8hLIBTT"
      },
      "source": [
        "Como habras observado arriba, se pueden utilizar comillas dobles como simples para definir strings. La regla es que utilices las mismas comillas para **abrir y cerrar** el string."
      ]
    },
    {
      "cell_type": "code",
      "execution_count": null,
      "metadata": {
        "colab": {
          "base_uri": "https://localhost:8080/"
        },
        "id": "03KWLMobIBTT",
        "outputId": "5dd290e5-b0d1-42d0-9d2d-fe6728150d41"
      },
      "outputs": [
        {
          "output_type": "stream",
          "name": "stdout",
          "text": [
            "Aca va un string\n",
            "<class 'str'>\n"
          ]
        }
      ],
      "source": [
        "#Define un string que quieras y asignaselo a la variable mi_primer_string\n",
        "mi_primer_string = \"Aca va un string\"\n",
        "\n",
        "#Imprime la variable mi_primer_string\n",
        "print(mi_primer_string)\n",
        "print (type(mi_primer_string))"
      ]
    },
    {
      "cell_type": "code",
      "execution_count": null,
      "metadata": {
        "id": "NAMsr3V_IBTT"
      },
      "outputs": [],
      "source": [
        "#Define un segundo string y asignaselo a la variable segundo_string\n",
        "segundo_string = \" Aca va otro string\""
      ]
    },
    {
      "cell_type": "code",
      "execution_count": null,
      "metadata": {
        "colab": {
          "base_uri": "https://localhost:8080/"
        },
        "id": "qRk5ePK-IBTT",
        "outputId": "5879878c-826d-40de-dd49-3fecc5294933"
      },
      "outputs": [
        {
          "output_type": "stream",
          "name": "stdout",
          "text": [
            "Aca va un string Aca va otro string\n"
          ]
        }
      ],
      "source": [
        "#Ahora aplica el operador suma (+) entre las dos variables y fijate que pasa\n",
        "print(mi_primer_string + segundo_string)"
      ]
    },
    {
      "cell_type": "markdown",
      "metadata": {
        "id": "jO2zL0XpIBTT"
      },
      "source": [
        "Como observaste los strings también pueden sumarse, o en terminos más correctos, concatenarse."
      ]
    },
    {
      "cell_type": "markdown",
      "metadata": {
        "id": "xsES2X43IBTT"
      },
      "source": [
        "Python también nos permite acceder a un elemento del string o una porción de él. Esto se realiza mediante el uso de **indices** que se especifican con corchetes `[]`."
      ]
    },
    {
      "cell_type": "code",
      "execution_count": null,
      "metadata": {
        "colab": {
          "base_uri": "https://localhost:8080/"
        },
        "id": "QUROAaUAIBTT",
        "outputId": "9e31fc47-7e32-4f43-ece3-f6eb8bb6e28f"
      },
      "outputs": [
        {
          "output_type": "stream",
          "name": "stdout",
          "text": [
            "Acceder a un caracter es facil\n"
          ]
        }
      ],
      "source": [
        "#Defino un string\n",
        "prueba_indice = \"Acceder a un caracter es facil\"\n",
        "print(prueba_indice)"
      ]
    },
    {
      "cell_type": "code",
      "execution_count": null,
      "metadata": {
        "id": "_jmrKut2IBTU"
      },
      "outputs": [],
      "source": []
    },
    {
      "cell_type": "code",
      "execution_count": null,
      "metadata": {
        "colab": {
          "base_uri": "https://localhost:8080/"
        },
        "id": "zLNRn9FuIBTU",
        "outputId": "1c402202-6fbd-45f0-d76e-82ba5dbf1140"
      },
      "outputs": [
        {
          "output_type": "stream",
          "name": "stdout",
          "text": [
            "c\n"
          ]
        }
      ],
      "source": [
        "print(prueba_indice[1])"
      ]
    },
    {
      "cell_type": "code",
      "execution_count": null,
      "metadata": {
        "colab": {
          "base_uri": "https://localhost:8080/",
          "height": 35
        },
        "id": "-YPuFh7xIBTU",
        "outputId": "1df9bdf0-9dde-461b-8733-518db4e87a07"
      },
      "outputs": [
        {
          "output_type": "execute_result",
          "data": {
            "text/plain": [
              "'d'"
            ],
            "application/vnd.google.colaboratory.intrinsic+json": {
              "type": "string"
            }
          },
          "metadata": {},
          "execution_count": 44
        }
      ],
      "source": [
        "prueba_indice[4]"
      ]
    },
    {
      "cell_type": "code",
      "execution_count": null,
      "metadata": {
        "colab": {
          "base_uri": "https://localhost:8080/",
          "height": 35
        },
        "id": "-GM8ATm7IBTU",
        "outputId": "09144a69-d0ee-4fa5-b469-d99f55d53651"
      },
      "outputs": [
        {
          "output_type": "execute_result",
          "data": {
            "text/plain": [
              "'r'"
            ],
            "application/vnd.google.colaboratory.intrinsic+json": {
              "type": "string"
            }
          },
          "metadata": {},
          "execution_count": 45
        }
      ],
      "source": [
        "#Accedo al cuarto caracter\n",
        "prueba_indice[6]"
      ]
    },
    {
      "cell_type": "markdown",
      "metadata": {
        "id": "spIEGkIQIBTU"
      },
      "source": [
        "**¿Observaste bien?** Si especifico el indice 3, me trae el 4to caracter. Esto es porque en Python los indices comienzan en 0. Entonces, el primer caracter tiene indice 0, el segundo 1 y asi sucesivamente."
      ]
    },
    {
      "cell_type": "code",
      "execution_count": null,
      "metadata": {
        "colab": {
          "base_uri": "https://localhost:8080/"
        },
        "id": "yfX4AVWdIBTU",
        "outputId": "b3fb68e5-66aa-49ff-d9c7-7a6918df3fde"
      },
      "outputs": [
        {
          "output_type": "stream",
          "name": "stdout",
          "text": [
            " \n",
            "d\n"
          ]
        }
      ],
      "source": [
        "#Accede al octavo caracter del string prueba_indice\n",
        "print(prueba_indice[7])\n",
        "\n",
        "#Accede al quinto caracter del string prueba_indice\n",
        "print(prueba_indice[4])"
      ]
    },
    {
      "cell_type": "markdown",
      "metadata": {
        "id": "Iw1MCkmxIBTU"
      },
      "source": [
        "También es posible acceder a una porción del string. Esto se hace utilizando también corchetes `[]`, pero se especifica el indice donde comienzo, luego `:` y luego el indice donde termino."
      ]
    },
    {
      "cell_type": "code",
      "execution_count": null,
      "metadata": {
        "colab": {
          "base_uri": "https://localhost:8080/"
        },
        "id": "7xHRCLwmIBTV",
        "outputId": "3afbd730-554a-4bba-ea2a-fc67c327a7de"
      },
      "outputs": [
        {
          "output_type": "stream",
          "name": "stdout",
          "text": [
            "ceder a un caracter \n"
          ]
        }
      ],
      "source": [
        "#Corre la siguiente linea\n",
        "print(prueba_indice[2:22])"
      ]
    },
    {
      "cell_type": "code",
      "execution_count": null,
      "metadata": {
        "colab": {
          "base_uri": "https://localhost:8080/"
        },
        "id": "qpcmoVzJIBTV",
        "outputId": "3b9451c4-8c93-4cf0-a649-f220c3d2e9b1"
      },
      "outputs": [
        {
          "output_type": "stream",
          "name": "stdout",
          "text": [
            "licaf se retcarac nu a redeccA\n"
          ]
        }
      ],
      "source": [
        "print(prueba_indice[::-1])"
      ]
    },
    {
      "cell_type": "markdown",
      "metadata": {
        "id": "ew-gPFH0IBTV"
      },
      "source": [
        "**¿Notaste algo en particular?** Para poder traer la porción entre el 9no y el 22do caracter, debo especificar el caracter donde comienza (`8`) y la posición donde termina (`21`).   \n",
        "Sin embargo, especificamos 22. ¿Por qué? Porque Python **SIEMPRE excluye** la última posición que le especifiquemos. Entonces si especificamos hasta 21, traera hasta el 20. Si queremos hasta el 21 inclusive, debemos colocar 22 entonces."
      ]
    },
    {
      "cell_type": "code",
      "execution_count": null,
      "metadata": {
        "id": "fN0sEpSNIBTV"
      },
      "outputs": [],
      "source": [
        "#asigna el string a la variable mi_frase_prueba\n",
        "mi_frase_prueba = \"Es esencial que leas mucho\"\n",
        "mi_segunda_prueba = \"Para muchos era invisible aunque sus ojos se destacaban\""
      ]
    },
    {
      "cell_type": "code",
      "execution_count": null,
      "metadata": {
        "id": "ZJqOimCzIBTV"
      },
      "outputs": [],
      "source": [
        "#Selecciona el substring esencial de la variable mi_frase_prueba y asignalo a la variable primera_palabra\n",
        "primera_palabra = mi_frase_prueba[3:11]\n",
        "\n",
        "#Selecciona el substring invisible de la variable mi_segunda_prueba y asignalo a la variable segunda_palabra\n",
        "segunda_palabra = mi_segunda_prueba[16:25]\n",
        "\n",
        "#Selecciona el substring ojos de la variable mi_segunda_prueba y asignalo a la variable tercera_palabra\n",
        "tercera_palabra = mi_segunda_prueba[37:41]"
      ]
    },
    {
      "cell_type": "code",
      "execution_count": null,
      "metadata": {
        "colab": {
          "base_uri": "https://localhost:8080/"
        },
        "id": "bU1C3L25fm6C",
        "outputId": "c7c1d985-ff34-4441-cbc4-a2a5f2cae756"
      },
      "outputs": [
        {
          "name": "stdout",
          "output_type": "stream",
          "text": [
            "esencial qu\n"
          ]
        }
      ],
      "source": [
        "print(primera_palabra)"
      ]
    },
    {
      "cell_type": "code",
      "execution_count": null,
      "metadata": {
        "colab": {
          "base_uri": "https://localhost:8080/"
        },
        "id": "RNeVNAAjIBTV",
        "outputId": "573f7c5c-0104-43a6-a3b1-8fe2258b236f"
      },
      "outputs": [
        {
          "name": "stdout",
          "output_type": "stream",
          "text": [
            "Lo esencial es invisible a los ojos\n"
          ]
        }
      ],
      "source": [
        "#Concatena los strings \"Lo\", primera_palabra, \"es\", segunda_palabra, \"a los\", tercera_palabra.\n",
        "#Imprime el resultado. No te olvides de especificar espacios usando el string \" \"\n",
        "print(\"Lo\"+\" \"+primera_palabra+\" \"+\"es \"+segunda_palabra+\" \"+\"a los\"+\" \"+tercera_palabra)"
      ]
    },
    {
      "cell_type": "code",
      "execution_count": null,
      "metadata": {
        "colab": {
          "base_uri": "https://localhost:8080/",
          "height": 35
        },
        "id": "AxHgpzxTIBTV",
        "outputId": "c13b8682-2dcf-481d-b5f1-f60bab055d3b"
      },
      "outputs": [
        {
          "data": {
            "application/vnd.google.colaboratory.intrinsic+json": {
              "type": "string"
            },
            "text/plain": [
              "'ojos 4'"
            ]
          },
          "execution_count": 43,
          "metadata": {},
          "output_type": "execute_result"
        }
      ],
      "source": [
        "#Ahora concatena tercera_palabra y la variable mi_numero definida anteriormente\n",
        "tercera_palabra + \" 4\"\n",
        "\n"
      ]
    },
    {
      "cell_type": "markdown",
      "metadata": {
        "id": "8mIkPPfRIBTW"
      },
      "source": [
        "Como podrás ver no es posible concatenar variables de distintos tipos. Sin embargo, hay algunas funciones que nos brinda Python que nos permiten transformar entre tipos de variables."
      ]
    },
    {
      "cell_type": "markdown",
      "metadata": {
        "id": "O1LcOIM4IBTW"
      },
      "source": [
        "\n",
        "\n",
        "```\n",
        "# Tiene formato de código\n",
        "```\n",
        "\n",
        "- `str()` convierte a string una variable o valor"
      ]
    },
    {
      "cell_type": "code",
      "execution_count": null,
      "metadata": {
        "colab": {
          "base_uri": "https://localhost:8080/"
        },
        "id": "Ui6e_FMMIBTW",
        "outputId": "3d94020a-4029-4434-f4bc-480126878056"
      },
      "outputs": [
        {
          "name": "stdout",
          "output_type": "stream",
          "text": [
            "4\n"
          ]
        }
      ],
      "source": [
        "print(mi_numero)"
      ]
    },
    {
      "cell_type": "code",
      "execution_count": null,
      "metadata": {
        "id": "7fcObXuQIBTW"
      },
      "outputs": [],
      "source": [
        "#Aplica la función str a la variable mi_numero y guardala en la variable mi_numero_str\n",
        "mi_numero_str = str(mi_numero)"
      ]
    },
    {
      "cell_type": "code",
      "execution_count": null,
      "metadata": {
        "colab": {
          "base_uri": "https://localhost:8080/"
        },
        "id": "wJRkFVlGIBTW",
        "outputId": "a3164e50-9e08-47f8-8b98-1220939e2f59"
      },
      "outputs": [
        {
          "name": "stdout",
          "output_type": "stream",
          "text": [
            "<class 'str'>\n"
          ]
        }
      ],
      "source": [
        "print(type(mi_numero_str))"
      ]
    },
    {
      "cell_type": "code",
      "execution_count": null,
      "metadata": {
        "colab": {
          "base_uri": "https://localhost:8080/",
          "height": 35
        },
        "id": "d8Zi0HljIBTW",
        "outputId": "87ccaf12-98b9-4f49-ac2a-56771a728edb"
      },
      "outputs": [
        {
          "data": {
            "application/vnd.google.colaboratory.intrinsic+json": {
              "type": "string"
            },
            "text/plain": [
              "'ojos4'"
            ]
          },
          "execution_count": 51,
          "metadata": {},
          "output_type": "execute_result"
        }
      ],
      "source": [
        "#Concatena tercera_palabra y mi_numero_str\n",
        "tercera_palabra + mi_numero_str"
      ]
    },
    {
      "cell_type": "markdown",
      "metadata": {
        "id": "l8gt2qHHIBTW"
      },
      "source": [
        "- `int()` convierte a entero una variable o valor"
      ]
    },
    {
      "cell_type": "code",
      "execution_count": null,
      "metadata": {
        "colab": {
          "base_uri": "https://localhost:8080/"
        },
        "id": "pS_4NoqzIBTW",
        "outputId": "4b13cbd4-5b9c-43ba-de97-c9a50e9f68ea"
      },
      "outputs": [
        {
          "data": {
            "text/plain": [
              "4"
            ]
          },
          "execution_count": 28,
          "metadata": {},
          "output_type": "execute_result"
        }
      ],
      "source": [
        "int(\"4\")"
      ]
    },
    {
      "cell_type": "code",
      "execution_count": null,
      "metadata": {
        "colab": {
          "base_uri": "https://localhost:8080/"
        },
        "id": "r7BIAkemIBTW",
        "outputId": "241bb7e1-8e0d-4025-9b73-cf4025aaae38"
      },
      "outputs": [
        {
          "data": {
            "text/plain": [
              "20.0"
            ]
          },
          "execution_count": 52,
          "metadata": {},
          "output_type": "execute_result"
        }
      ],
      "source": [
        "#Aplica la función int a mi_numero_str y multiplicalo por 5\n",
        "\n",
        "float(mi_numero_str) * 5"
      ]
    },
    {
      "cell_type": "markdown",
      "metadata": {
        "id": "Nnhv8RTBIBTX"
      },
      "source": [
        "Otras funciones similares son: [`float()`](https://docs.python.org/3/library/functions.html#float) y [`bool()`](https://docs.python.org/3/library/functions.html#bool)."
      ]
    },
    {
      "cell_type": "markdown",
      "metadata": {
        "id": "58oKXEo2IBTX"
      },
      "source": [
        "#### Inmutables"
      ]
    },
    {
      "cell_type": "markdown",
      "metadata": {
        "id": "S4-vLYcLIBTX"
      },
      "source": [
        "Todos los tipos de variables que vimos hasta ahora son **inmutables**. Esto significa que no pueden ser alteradas después de haber sido creadas."
      ]
    },
    {
      "cell_type": "code",
      "execution_count": null,
      "metadata": {
        "colab": {
          "base_uri": "https://localhost:8080/"
        },
        "id": "Y0PS_eZ7IBTX",
        "outputId": "23cec65c-7fb0-4eb5-8852-775e0988a19f"
      },
      "outputs": [
        {
          "name": "stdout",
          "output_type": "stream",
          "text": [
            "n\n"
          ]
        }
      ],
      "source": [
        "#Corre la siguiente linea y observa que occurre\n",
        "variable_inmutable = \"Los strings son inmutables en Python\"\n",
        "#variable_inmutable[8] = \"f\"\n",
        "print(variable_inmutable[8])"
      ]
    },
    {
      "cell_type": "code",
      "execution_count": null,
      "metadata": {
        "id": "j2zdu_k9IBTX"
      },
      "outputs": [],
      "source": [
        "from datetime import datetime"
      ]
    },
    {
      "cell_type": "code",
      "execution_count": null,
      "metadata": {
        "id": "Mt1uAcXKIBTX"
      },
      "outputs": [],
      "source": [
        "mi_fecha = 'marzo 2'"
      ]
    },
    {
      "cell_type": "code",
      "execution_count": null,
      "metadata": {
        "colab": {
          "base_uri": "https://localhost:8080/",
          "height": 35
        },
        "id": "mHoq1k4SIMrr",
        "outputId": "8d629cfc-46fd-4469-9af5-105e29e8007e"
      },
      "outputs": [
        {
          "data": {
            "application/vnd.google.colaboratory.intrinsic+json": {
              "type": "string"
            },
            "text/plain": [
              "'2 marzo 2025'"
            ]
          },
          "execution_count": 9,
          "metadata": {},
          "output_type": "execute_result"
        }
      ],
      "source": [
        "str(mi_fecha)\n"
      ]
    },
    {
      "cell_type": "code",
      "execution_count": null,
      "metadata": {
        "colab": {
          "base_uri": "https://localhost:8080/"
        },
        "id": "W5nkwHxiIBTX",
        "outputId": "09b20844-4ed0-472b-a4fb-b3a1b26c602f"
      },
      "outputs": [
        {
          "data": {
            "text/plain": [
              "datetime.datetime(2025, 3, 2, 0, 0)"
            ]
          },
          "execution_count": 12,
          "metadata": {},
          "output_type": "execute_result"
        }
      ],
      "source": [
        "datetime (2025,3,2)"
      ]
    },
    {
      "cell_type": "markdown",
      "metadata": {
        "id": "6obgxdlRIBTX"
      },
      "source": [
        "Lo que nos dice el error, es que una vez asignada una variable, no puedo cambiar parte de ella."
      ]
    },
    {
      "cell_type": "markdown",
      "metadata": {
        "id": "HjuwQ9AAIBTY"
      },
      "source": [
        "Además de los mencionados hasta ahora, Python nos ofrece otras estructura de datos que son más flexibles y permiten agrupar varios valores. Además muchas de ellas son mutables, es decir, permiten que asignemos o alteremos valores una vez definidas."
      ]
    },
    {
      "cell_type": "markdown",
      "metadata": {
        "id": "v_vhEv3VIBTY"
      },
      "source": [
        "### LISTAS"
      ]
    },
    {
      "cell_type": "markdown",
      "metadata": {
        "id": "YdsmqISjIBTY"
      },
      "source": [
        "Una lista es una collección **mutable** de elementos **ORDENADOS**, que pueden ser de distinto tipo. Las listas se crean utilizando corchetes como en el ejemplo."
      ]
    },
    {
      "cell_type": "code",
      "execution_count": null,
      "metadata": {
        "colab": {
          "base_uri": "https://localhost:8080/"
        },
        "id": "rdOeMv3uIBTY",
        "outputId": "602c92ea-3d6f-4110-a815-15b56f4e2d5b"
      },
      "outputs": [
        {
          "name": "stdout",
          "output_type": "stream",
          "text": [
            "['mi', 'lista', 3, 4.5, True]\n",
            "<class 'list'>\n"
          ]
        }
      ],
      "source": [
        "#Corre la siguiente linea para declarar la lista mi_lista\n",
        "mi_lista = [\"mi\", \"lista\", 3, 4.5, True]\n",
        "\n",
        "#Muestra el contenido de la variable mi_lista\n",
        "print(mi_lista)\n",
        "\n",
        "#Chequea el tipo de variable de mi_lista\n",
        "print(type(mi_lista))"
      ]
    },
    {
      "cell_type": "code",
      "execution_count": null,
      "metadata": {
        "colab": {
          "base_uri": "https://localhost:8080/"
        },
        "id": "H-SbcwVqTgMV",
        "outputId": "6415ede3-bfa1-4118-9998-413eef251619"
      },
      "outputs": [
        {
          "name": "stdout",
          "output_type": "stream",
          "text": [
            "['musica', 4]\n"
          ]
        }
      ],
      "source": [
        "listi = [\"musica\", 4]\n",
        "print(listi)"
      ]
    },
    {
      "cell_type": "code",
      "execution_count": null,
      "metadata": {
        "colab": {
          "base_uri": "https://localhost:8080/"
        },
        "id": "eozNbOpmUkVq",
        "outputId": "6af0a737-c1d6-498f-d332-39f3c080827c"
      },
      "outputs": [
        {
          "name": "stdout",
          "output_type": "stream",
          "text": [
            "4\n"
          ]
        }
      ],
      "source": [
        "print(listi[1])"
      ]
    },
    {
      "cell_type": "code",
      "execution_count": null,
      "metadata": {
        "colab": {
          "base_uri": "https://localhost:8080/"
        },
        "id": "M9dpSh0KIBTY",
        "outputId": "c6824acd-8cdc-4282-e6ff-da1f21f22b62"
      },
      "outputs": [
        {
          "name": "stdout",
          "output_type": "stream",
          "text": [
            "['mi', 'lista', 3, 4.5, True]\n"
          ]
        }
      ],
      "source": [
        "print(mi_lista)"
      ]
    },
    {
      "cell_type": "code",
      "execution_count": null,
      "metadata": {
        "id": "3STwc44kIBTY"
      },
      "outputs": [],
      "source": [
        "#Define una lista que contenga 10 elementos y asignaselos a la variable primer_lista\n",
        "primer_lista = [3, 4, 5, 14, \"hola\", 4, \"rojo\", False, \"AZUL\", True]"
      ]
    },
    {
      "cell_type": "markdown",
      "metadata": {
        "id": "MKAQxAumIBTY"
      },
      "source": [
        "Para poder acceder a un elemento en una lista, vamos a usar indices al igual que lo hicimos con los strings. También podemos obtener parte de la lista usando la notación `lista[n:m]` como lo hicimos en los strings.  \n",
        "Algo que no dijimos es que si omito el primer indice, `lista[:m]`, esto indica que mi substring comienza con el indice 0, y si omito el segundo indice `lista[n:]` indica que mi substring va hasta el final de la lista."
      ]
    },
    {
      "cell_type": "code",
      "execution_count": null,
      "metadata": {
        "colab": {
          "base_uri": "https://localhost:8080/"
        },
        "id": "32wu0OtvIBTZ",
        "outputId": "17e30e16-b91a-4cf9-b483-3512bb797a0c"
      },
      "outputs": [
        {
          "name": "stdout",
          "output_type": "stream",
          "text": [
            "14\n"
          ]
        }
      ],
      "source": [
        "#Imprime el cuarto elemento de la lista primer_lista\n",
        "print(primer_lista[3])"
      ]
    },
    {
      "cell_type": "code",
      "execution_count": null,
      "metadata": {
        "colab": {
          "base_uri": "https://localhost:8080/"
        },
        "id": "KTya2MHeIBTZ",
        "outputId": "bd21d0c2-d4ed-43e1-a52d-01ffe960499e"
      },
      "outputs": [
        {
          "name": "stdout",
          "output_type": "stream",
          "text": [
            "6\n"
          ]
        }
      ],
      "source": [
        "#Imprime el resultado de sumar los numeros 2 y 4 contenidos en la siguiente lista\n",
        "mis_numeros = [3, 5, 6, 4, 21, 2, 5]\n",
        "\n",
        "print(mis_numeros[3]+mis_numeros[5])"
      ]
    },
    {
      "cell_type": "code",
      "execution_count": null,
      "metadata": {
        "id": "kA-3X2TAIBTZ"
      },
      "outputs": [],
      "source": [
        "primer_lista[5] = 4\n",
        "#acá cambiamos la palabra chau de la lista por el valor 4 para poder obtener la 5 variable"
      ]
    },
    {
      "cell_type": "code",
      "execution_count": null,
      "metadata": {
        "colab": {
          "base_uri": "https://localhost:8080/"
        },
        "id": "1Nj70aSVIBTZ",
        "outputId": "4f603fec-c198-47a7-ea62-8e60a895de72"
      },
      "outputs": [
        {
          "name": "stdout",
          "output_type": "stream",
          "text": [
            "[3, 4, 5, 14, 'hola', 4, 'rojo', False, 'AZUL', True]\n"
          ]
        }
      ],
      "source": [
        "print(primer_lista)"
      ]
    },
    {
      "cell_type": "markdown",
      "metadata": {
        "id": "mpz6p5j1IBTZ"
      },
      "source": [
        "Hasta ahora vimos solo como acceder utilizando indices positivos, pero también podemos acceder usando **indices negativos**. El último caracter tendra el indice -1, el anteultimo -2 y así sucesivamente."
      ]
    },
    {
      "cell_type": "code",
      "execution_count": null,
      "metadata": {
        "colab": {
          "base_uri": "https://localhost:8080/"
        },
        "id": "HUyx-8CGIBTZ",
        "outputId": "a300b4c0-f2db-46c8-f9da-2b33ad57adaf"
      },
      "outputs": [
        {
          "data": {
            "text/plain": [
              "True"
            ]
          },
          "execution_count": 14,
          "metadata": {},
          "output_type": "execute_result"
        }
      ],
      "source": [
        "#Imprime el ultimo elemento de la lista primer_lista\n",
        "primer_lista[-1]"
      ]
    },
    {
      "cell_type": "code",
      "execution_count": null,
      "metadata": {
        "colab": {
          "base_uri": "https://localhost:8080/"
        },
        "id": "Ih9bthW6IBTZ",
        "outputId": "462934c1-2099-4da2-86ce-23caa2e814e3"
      },
      "outputs": [
        {
          "data": {
            "text/plain": [
              "[14, 'hola', 4]"
            ]
          },
          "execution_count": 13,
          "metadata": {},
          "output_type": "execute_result"
        }
      ],
      "source": [
        "#Imprime la sublista que va desde el cuarto elemento hasta el sexto elemento inclusive de la lista primer_lista\n",
        "primer_lista[3:6]"
      ]
    },
    {
      "cell_type": "code",
      "execution_count": null,
      "metadata": {
        "colab": {
          "base_uri": "https://localhost:8080/"
        },
        "id": "7fzCCROQIBTa",
        "outputId": "2c7341f3-80bc-4a88-b57e-f8a5c9a6eab1"
      },
      "outputs": [
        {
          "name": "stdout",
          "output_type": "stream",
          "text": [
            "[3, 4, 5, 14, 'hola']\n",
            "[4, 'rojo', False, 'AZUL', True]\n"
          ]
        }
      ],
      "source": [
        "#Imprime la sublista que contenga los primeros cinco elementos de primer_lista\n",
        "print(primer_lista[:5])\n",
        "\n",
        "#Imprime la sublista que contenga los últimos cinco elementos de primer_lista\n",
        "print(primer_lista[-5:])"
      ]
    },
    {
      "cell_type": "markdown",
      "metadata": {
        "id": "Yculi1vPIBTa"
      },
      "source": [
        "La función `len()` nos permite saber cuantos elementos hay en una lista."
      ]
    },
    {
      "cell_type": "code",
      "execution_count": null,
      "metadata": {
        "colab": {
          "base_uri": "https://localhost:8080/"
        },
        "id": "RaZDvcLGU9OK",
        "outputId": "63e93055-bd02-4fb5-f8ab-c561d17579bb"
      },
      "outputs": [
        {
          "data": {
            "text/plain": [
              "2"
            ]
          },
          "execution_count": 16,
          "metadata": {},
          "output_type": "execute_result"
        }
      ],
      "source": [
        "len(listi)"
      ]
    },
    {
      "cell_type": "code",
      "execution_count": null,
      "metadata": {
        "colab": {
          "base_uri": "https://localhost:8080/"
        },
        "id": "HmcifZipVJGm",
        "outputId": "745223b0-daeb-46da-f276-dec654e3e84b"
      },
      "outputs": [
        {
          "data": {
            "text/plain": [
              "False"
            ]
          },
          "execution_count": 17,
          "metadata": {},
          "output_type": "execute_result"
        }
      ],
      "source": [
        "False in listi"
      ]
    },
    {
      "cell_type": "code",
      "execution_count": null,
      "metadata": {
        "colab": {
          "base_uri": "https://localhost:8080/"
        },
        "id": "7HKXyXgnIBTa",
        "outputId": "3575c8b3-ec2e-4f3b-953b-0c03a4f9305e"
      },
      "outputs": [
        {
          "data": {
            "text/plain": [
              "22"
            ]
          },
          "execution_count": 18,
          "metadata": {},
          "output_type": "execute_result"
        }
      ],
      "source": [
        "#¿Cuantos elementos hay en la siguiente lista?\n",
        "elementos_listas = [12, 241, 141, 5151, \"hola\", \"python\", 41, 141, \"data science\", \"mujeres\", True, 343.98,\n",
        "                    \"hallway\", 11.25, \"kitchen\", 18.0,\n",
        "                    \"living room\", 20.0, \"bedroom\", 10.75, \"bathroom\", 9.50]\n",
        "\n",
        "#Numero elementos en lista\n",
        "len(elementos_listas)"
      ]
    },
    {
      "cell_type": "markdown",
      "metadata": {
        "id": "BDKUyHxGIBTa"
      },
      "source": [
        "El operador `in` nos permite saber si un elemento esta en una lista."
      ]
    },
    {
      "cell_type": "code",
      "execution_count": null,
      "metadata": {
        "colab": {
          "base_uri": "https://localhost:8080/"
        },
        "id": "kZfggC4_IBTa",
        "outputId": "d1e9518e-5a63-4a2a-aca3-5223f5ff892f"
      },
      "outputs": [
        {
          "data": {
            "text/plain": [
              "False"
            ]
          },
          "execution_count": 19,
          "metadata": {},
          "output_type": "execute_result"
        }
      ],
      "source": [
        "#Chequea si False esta en elementos_lista\n",
        "False in elementos_listas"
      ]
    },
    {
      "cell_type": "markdown",
      "metadata": {
        "id": "ukCu6uUYIBTa"
      },
      "source": [
        "Dijimos que las listas son estructuras de datos que pueden alterarse, o son mutables. Eso significa que podemos reasignar valores una vez definida la lista. Para esto especificamos usando el indice que elemento(s) queremos redefinir y le asignamos un nuevo valor."
      ]
    },
    {
      "cell_type": "code",
      "execution_count": null,
      "metadata": {
        "colab": {
          "base_uri": "https://localhost:8080/",
          "height": 35
        },
        "id": "p3P1OQwpIBTa",
        "outputId": "a5acfb72-22fb-4d8d-e13d-c792f29dbad9"
      },
      "outputs": [
        {
          "data": {
            "application/vnd.google.colaboratory.intrinsic+json": {
              "type": "string"
            },
            "text/plain": [
              "'hola'"
            ]
          },
          "execution_count": 20,
          "metadata": {},
          "output_type": "execute_result"
        }
      ],
      "source": [
        "#Imprime el quinto elemento presente en elementos_lista\n",
        "elementos_listas[4]"
      ]
    },
    {
      "cell_type": "code",
      "execution_count": null,
      "metadata": {
        "id": "GPlQD3HRIBTb"
      },
      "outputs": [],
      "source": [
        "#Asigna ahora el valor \"chau\" al quinto elemento de elementos_lista\n",
        "elementos_listas[4] = 'chau'"
      ]
    },
    {
      "cell_type": "code",
      "execution_count": null,
      "metadata": {
        "colab": {
          "base_uri": "https://localhost:8080/"
        },
        "id": "F0Fa1NBmIBTb",
        "outputId": "46d77ea1-3a58-47ab-d6a7-ebabdcde9ab1"
      },
      "outputs": [
        {
          "name": "stdout",
          "output_type": "stream",
          "text": [
            "[12, 241, 141, 5151, 'chau', 'python', 41, 141, 'data science', 'mujeres', True, 343.98, 'hallway', 11.25, 'kitchen', 18.0, 'living room', 20.0, 'bedroom', 10.75, 'bathroom', 9.5]\n"
          ]
        }
      ],
      "source": [
        "#Imprime la lista elementos_lista\n",
        "print(elementos_listas)"
      ]
    },
    {
      "cell_type": "markdown",
      "metadata": {
        "id": "Ttzy9a_bIBTb"
      },
      "source": [
        "Las listas también se pueden concatenar utilizando el operador `+`."
      ]
    },
    {
      "cell_type": "code",
      "execution_count": null,
      "metadata": {
        "colab": {
          "base_uri": "https://localhost:8080/"
        },
        "id": "0szEB-XUIBTb",
        "outputId": "4396d21d-9b71-49df-8a37-6cb2548aed19"
      },
      "outputs": [
        {
          "name": "stdout",
          "output_type": "stream",
          "text": [
            "[12, 241, 141, 5151, 'chau', 'python', 41, 141, 'data science', 'mujeres', True, 343.98, 'hallway', 11.25, 'kitchen', 18.0, 'living room', 20.0, 'bedroom', 10.75, 'bathroom', 9.5, 3, 4, 5, 14, 'hola', 4, 'rojo', False, 'AZUL', True]\n"
          ]
        }
      ],
      "source": [
        "#Concatena las listas elementos_listas y primer_lista. Asignaselo a la variable nueva_lista\n",
        "nueva_lista = elementos_listas + primer_lista\n",
        "\n",
        "#Imprime nueva_lista\n",
        "print(nueva_lista)"
      ]
    },
    {
      "cell_type": "markdown",
      "metadata": {
        "id": "oWR5iUJWIBTb"
      },
      "source": [
        "### Diccionarios"
      ]
    },
    {
      "cell_type": "markdown",
      "metadata": {
        "id": "Zx3ilPX6IBTb"
      },
      "source": [
        "Otra estructura de datos muy útil son los diccionarios. Los diccionarios en Python son un tipo de estructuras de datos que permite guardar un conjunto **no ordenado** de pares **clave-valor**, siendo las claves únicas dentro de un mismo diccionario (es decir que no pueden existir dos elementos con una misma clave).\n",
        "\n",
        "En Python, los diccionarios se definen utilizando llaves `{}` y cada uno de los elementos estan separados por comas. Cada elemento lo definimos con su par clave:valor, pudiendo ser la clave y el valor de cualquier tipo (`int`, `float`, `string`, `bool`)."
      ]
    },
    {
      "cell_type": "code",
      "execution_count": null,
      "metadata": {
        "id": "rbunhNRiIBTb"
      },
      "outputs": [],
      "source": [
        "diccionario = {\n",
        "    #clave : valor\n",
        "    'Alberto' : [10, 87, True],\n",
        "    'John' : False,\n",
        "    'Juan' : 12,\n",
        "    'Amanda' : [43, 5],\n",
        "    'Maria': 45\n",
        "}"
      ]
    },
    {
      "cell_type": "code",
      "execution_count": null,
      "metadata": {
        "id": "hEY2lLyIVcyD"
      },
      "outputs": [],
      "source": [
        "diccionario2 = {\n",
        "    'marta': 34,\n",
        "    'roberto': True,\n",
        "    'solcito': 21,\n",
        "    'luis': 78\n",
        "}"
      ]
    },
    {
      "cell_type": "code",
      "execution_count": null,
      "metadata": {
        "colab": {
          "base_uri": "https://localhost:8080/"
        },
        "id": "4XyFweVsXRnt",
        "outputId": "915056c5-d0b2-4a8e-94e4-aec0fd2bd389"
      },
      "outputs": [
        {
          "data": {
            "text/plain": [
              "dict_keys(['marta', 'roberto', 'solcito', 'luis'])"
            ]
          },
          "execution_count": 26,
          "metadata": {},
          "output_type": "execute_result"
        }
      ],
      "source": [
        "diccionario2.keys()"
      ]
    },
    {
      "cell_type": "code",
      "execution_count": null,
      "metadata": {
        "colab": {
          "base_uri": "https://localhost:8080/"
        },
        "id": "9rS7XgkaXptQ",
        "outputId": "849a72a4-7dee-4162-9c70-818c33359652"
      },
      "outputs": [
        {
          "name": "stdout",
          "output_type": "stream",
          "text": [
            "78\n"
          ]
        }
      ],
      "source": [
        "print(diccionario2 [\"luis\"])"
      ]
    },
    {
      "cell_type": "code",
      "execution_count": null,
      "metadata": {
        "id": "-zzJm4TVIBTc"
      },
      "outputs": [],
      "source": [
        "dictionary = {\n",
        "    9 : 'hola'\n",
        "}"
      ]
    },
    {
      "cell_type": "code",
      "execution_count": null,
      "metadata": {
        "colab": {
          "base_uri": "https://localhost:8080/",
          "height": 35
        },
        "id": "6fLfth-gIBTc",
        "outputId": "384dd59d-2c90-4861-ff16-a0ef04884904"
      },
      "outputs": [
        {
          "data": {
            "application/vnd.google.colaboratory.intrinsic+json": {
              "type": "string"
            },
            "text/plain": [
              "'hola'"
            ]
          },
          "execution_count": 29,
          "metadata": {},
          "output_type": "execute_result"
        }
      ],
      "source": [
        "dictionary[9]"
      ]
    },
    {
      "cell_type": "code",
      "execution_count": null,
      "metadata": {
        "colab": {
          "base_uri": "https://localhost:8080/"
        },
        "id": "TpJzkG_yIBTc",
        "outputId": "5d48bd8b-b259-4682-de12-1a3223603844"
      },
      "outputs": [
        {
          "data": {
            "text/plain": [
              "dict_keys(['Alberto', 'John', 'Juan', 'Amanda', 'Maria'])"
            ]
          },
          "execution_count": 30,
          "metadata": {},
          "output_type": "execute_result"
        }
      ],
      "source": [
        "#Corre la siguiente linea y observa el resultado\n",
        "diccionario.keys()"
      ]
    },
    {
      "cell_type": "markdown",
      "metadata": {
        "id": "e4HTNBICXnev"
      },
      "source": []
    },
    {
      "cell_type": "markdown",
      "metadata": {
        "id": "7T-_Ie0wIBTc"
      },
      "source": [
        "Para acceder a los valores, se hace mediante la clave utilizando también corchetes."
      ]
    },
    {
      "cell_type": "code",
      "execution_count": null,
      "metadata": {
        "colab": {
          "base_uri": "https://localhost:8080/"
        },
        "id": "BhMXJsggIBTc",
        "outputId": "5f304445-cabf-4aa1-846a-6e0345040c3b"
      },
      "outputs": [
        {
          "name": "stdout",
          "output_type": "stream",
          "text": [
            "[10, 87, True]\n"
          ]
        }
      ],
      "source": [
        "#Imprime los valores asociados con la clave 'Alberto'\n",
        "print(diccionario['Alberto'])"
      ]
    },
    {
      "cell_type": "code",
      "execution_count": null,
      "metadata": {
        "colab": {
          "base_uri": "https://localhost:8080/"
        },
        "id": "pVIR3PPfIBTc",
        "outputId": "5c8bf4c5-239c-4539-c50a-dcb1b89e68c8"
      },
      "outputs": [
        {
          "data": {
            "text/plain": [
              "dict_values([[10, 87, True], False, 12, [43, 5], 45])"
            ]
          },
          "execution_count": 32,
          "metadata": {},
          "output_type": "execute_result"
        }
      ],
      "source": [
        "#Corre la siguiente linea y observa el resultado\n",
        "diccionario.values()"
      ]
    },
    {
      "cell_type": "markdown",
      "metadata": {
        "id": "ElGKFrOUIBTc"
      },
      "source": [
        "## Operadores Aritmeticos"
      ]
    },
    {
      "cell_type": "markdown",
      "metadata": {
        "id": "LX6vFGUeIBTd"
      },
      "source": [
        "Python puede usarse para hacer calculos básicos. Veamos alguna de las funciones que pueden ser utilizadas en Python."
      ]
    },
    {
      "cell_type": "code",
      "execution_count": null,
      "metadata": {
        "colab": {
          "base_uri": "https://localhost:8080/"
        },
        "id": "hR4ZBssNIBTd",
        "outputId": "d03f3940-6aab-4d1e-ffb0-698a9dcd7cbb"
      },
      "outputs": [
        {
          "name": "stdout",
          "output_type": "stream",
          "text": [
            "7\n",
            "3\n",
            "15\n",
            "5.0\n"
          ]
        }
      ],
      "source": [
        "#Suma\n",
        "print(4 + 3)\n",
        "#Resta\n",
        "print(5 - 2)\n",
        "#Multiplicacion\n",
        "print(3 * 5)\n",
        "#División\n",
        "print(10 / 2)"
      ]
    },
    {
      "cell_type": "code",
      "execution_count": null,
      "metadata": {
        "colab": {
          "base_uri": "https://localhost:8080/"
        },
        "id": "jOFITeRbIBTd",
        "outputId": "2cf2a411-8b44-4719-d71b-f6211af29f76"
      },
      "outputs": [
        {
          "name": "stdout",
          "output_type": "stream",
          "text": [
            "16\n",
            "4\n",
            "3\n"
          ]
        }
      ],
      "source": [
        "#Corre las siguientes celdas y descubre que funciones se utilizan\n",
        "print(4 ** 2)\n",
        "print(18 % 7)\n",
        "print(7//2)"
      ]
    },
    {
      "cell_type": "markdown",
      "metadata": {
        "id": "xztoOazpIBTd"
      },
      "source": [
        "### EXPLICACION\n",
        "**La primera funcion es la potenciación esto es $4^2$**\n",
        "\n",
        "**El operador % devuelve el resto de la division, en este caso entre 18 y 7**\n",
        "\n",
        "**El operador // devuelve el cociente de la division entre 7 y 3**"
      ]
    },
    {
      "cell_type": "markdown",
      "metadata": {
        "id": "JSNVpm39IBTd"
      },
      "source": [
        "Supongamos que tenemos \\$100, que podemos invertir obteniendo el 10\\% de interes cada año. Luego del primer año, tendremos 100\\*1.1, luego de dos años tendremos 100\\*1.1\\*1.1.\n",
        "**¿Cuanto tendrás luego de 7 años?**"
      ]
    },
    {
      "cell_type": "markdown",
      "metadata": {
        "id": "24TQ2DxdIBTd"
      },
      "source": [
        "Veremos tipos de operadores que nos permiten realizar comparaciones entre variables o valores."
      ]
    },
    {
      "cell_type": "code",
      "execution_count": null,
      "metadata": {
        "colab": {
          "base_uri": "https://localhost:8080/"
        },
        "id": "R81jLwTeOvMa",
        "outputId": "c3dfd1a0-e216-4835-ec38-ba17d7417ae1"
      },
      "outputs": [
        {
          "name": "stdout",
          "output_type": "stream",
          "text": [
            "194.87171000000012\n"
          ]
        }
      ],
      "source": [
        "#calculo de la inversion de acá a 7 años\n",
        "print(100*(1.1**7))"
      ]
    },
    {
      "cell_type": "markdown",
      "metadata": {
        "id": "rYxxQBO1IBTd"
      },
      "source": [
        "### Operadores de comparación"
      ]
    },
    {
      "cell_type": "markdown",
      "metadata": {
        "id": "XjRGmK60IBTe"
      },
      "source": [
        "Hay varios operadores en Python que nos permiten comparar variables o estructura de datos. Observemos la siguiente lista:"
      ]
    },
    {
      "cell_type": "markdown",
      "metadata": {
        "id": "LZvCLmKvIBTe"
      },
      "source": [
        "`==` : los valores son iguales (**OJO!** Es común confundirse y usar `=`, pero acordate que este es usado para asignar variables)  \n",
        "`!=` : los valores no son iguales  \n",
        "`<` : el valor a la izquierda es menor que el valor a la derecha  \n",
        "`>` : el valor a la izquierda es mayor que el valor a la derecha  \n",
        "`<=` : el valor a la izquierda es menor o igual que el valor a la derecha  \n",
        "`>=` : el valor a la izquierda es mayor o igual que el valor a la derecha  "
      ]
    },
    {
      "cell_type": "code",
      "execution_count": null,
      "metadata": {
        "colab": {
          "base_uri": "https://localhost:8080/",
          "height": 141
        },
        "id": "4HplLmBBIBTe",
        "outputId": "4097f8b1-e77c-4c96-fff3-a005e5cd7cba"
      },
      "outputs": [
        {
          "ename": "NameError",
          "evalue": "name 'mi_bool' is not defined",
          "output_type": "error",
          "traceback": [
            "\u001b[0;31m---------------------------------------------------------------------------\u001b[0m",
            "\u001b[0;31mNameError\u001b[0m                                 Traceback (most recent call last)",
            "\u001b[0;32m<ipython-input-36-729810b35105>\u001b[0m in \u001b[0;36m<cell line: 0>\u001b[0;34m()\u001b[0m\n\u001b[0;32m----> 1\u001b[0;31m \u001b[0mprint\u001b[0m\u001b[0;34m(\u001b[0m\u001b[0mmi_bool\u001b[0m\u001b[0;34m)\u001b[0m\u001b[0;34m\u001b[0m\u001b[0;34m\u001b[0m\u001b[0m\n\u001b[0m",
            "\u001b[0;31mNameError\u001b[0m: name 'mi_bool' is not defined"
          ]
        }
      ],
      "source": [
        "print(mi_bool)"
      ]
    },
    {
      "cell_type": "code",
      "execution_count": null,
      "metadata": {
        "colab": {
          "base_uri": "https://localhost:8080/"
        },
        "id": "PNMNXOpZIBTe",
        "outputId": "521bf039-c6d1-4dff-9df2-a7cc6d04caa2"
      },
      "outputs": [
        {
          "name": "stdout",
          "output_type": "stream",
          "text": [
            "False\n"
          ]
        }
      ],
      "source": [
        "print(otra_bool)"
      ]
    },
    {
      "cell_type": "code",
      "execution_count": null,
      "metadata": {
        "colab": {
          "base_uri": "https://localhost:8080/"
        },
        "id": "x-yxh0l8IBTe",
        "outputId": "30ed2a5d-6f7c-4cac-c650-98668205bf2c"
      },
      "outputs": [
        {
          "data": {
            "text/plain": [
              "False"
            ]
          },
          "execution_count": 119,
          "metadata": {},
          "output_type": "execute_result"
        }
      ],
      "source": [
        "#Chequea si las variables mi_bool y otra_bool que definiste mas arriba son iguales\n",
        "mi_bool == otra_bool"
      ]
    },
    {
      "cell_type": "code",
      "execution_count": null,
      "metadata": {
        "colab": {
          "base_uri": "https://localhost:8080/"
        },
        "id": "0hDJV61IIBTe",
        "outputId": "5f92289a-b000-4c8d-d8ed-5b9f3a1bdca7"
      },
      "outputs": [
        {
          "data": {
            "text/plain": [
              "False"
            ]
          },
          "execution_count": 120,
          "metadata": {},
          "output_type": "execute_result"
        }
      ],
      "source": [
        "mi_bool and otra_bool"
      ]
    },
    {
      "cell_type": "code",
      "execution_count": null,
      "metadata": {
        "colab": {
          "base_uri": "https://localhost:8080/"
        },
        "id": "lLyl2WY-IBTf",
        "outputId": "b06b1b54-2ead-4f18-e70c-f079823107f8"
      },
      "outputs": [
        {
          "data": {
            "text/plain": [
              "True"
            ]
          },
          "execution_count": 121,
          "metadata": {},
          "output_type": "execute_result"
        }
      ],
      "source": [
        "mi_bool or otra_bool"
      ]
    },
    {
      "cell_type": "code",
      "execution_count": null,
      "metadata": {
        "colab": {
          "base_uri": "https://localhost:8080/"
        },
        "id": "7EWvXphhIBTf",
        "outputId": "3deba517-3365-4245-e0a9-06509ab140aa"
      },
      "outputs": [
        {
          "name": "stdout",
          "output_type": "stream",
          "text": [
            "9.2\n"
          ]
        }
      ],
      "source": [
        "print(float_numero)"
      ]
    },
    {
      "cell_type": "code",
      "execution_count": null,
      "metadata": {
        "colab": {
          "base_uri": "https://localhost:8080/"
        },
        "id": "A2Fc48JeIBTf",
        "outputId": "46062196-8ffc-4a99-8aea-0786acec2913"
      },
      "outputs": [
        {
          "data": {
            "text/plain": [
              "True"
            ]
          },
          "execution_count": 123,
          "metadata": {},
          "output_type": "execute_result"
        }
      ],
      "source": [
        "#Chequea si la variable float_numero es mayor a 4\n",
        "float_numero > 4"
      ]
    },
    {
      "cell_type": "code",
      "execution_count": null,
      "metadata": {
        "colab": {
          "base_uri": "https://localhost:8080/"
        },
        "id": "Q4Ej49lJIBTf",
        "outputId": "02e85d15-eeec-49d1-f8e3-b332c589407a"
      },
      "outputs": [
        {
          "data": {
            "text/plain": [
              "False"
            ]
          },
          "execution_count": 124,
          "metadata": {},
          "output_type": "execute_result"
        }
      ],
      "source": [
        "#Chequea si la longitud de la variable primer_lista es mayor o igual que la longitud de elementos_listas\n",
        "len(primer_lista) >= len(elementos_listas)"
      ]
    },
    {
      "cell_type": "code",
      "execution_count": null,
      "metadata": {
        "colab": {
          "base_uri": "https://localhost:8080/"
        },
        "id": "C8rfForKIBTf",
        "outputId": "a3a83ce8-57a7-44f2-b1cd-f99ea220f7da"
      },
      "outputs": [
        {
          "data": {
            "text/plain": [
              "False"
            ]
          },
          "execution_count": 42,
          "metadata": {},
          "output_type": "execute_result"
        }
      ],
      "source": [
        "#Chequea si el cuarto elemento de elementos_listas es menor o igual a multiplicar mi_numero por el segundo valor\n",
        "#asociado a la clave Alberto de diccionario\n",
        "mi_numero =5\n",
        "elementos_listas[3] <= mi_numero * diccionario['Alberto'][1]"
      ]
    },
    {
      "cell_type": "code",
      "execution_count": null,
      "metadata": {
        "id": "Yd3XHH95IBTf"
      },
      "outputs": [],
      "source": []
    }
  ],
  "metadata": {
    "colab": {
      "provenance": [],
      "include_colab_link": true
    },
    "kernelspec": {
      "display_name": "Python 3",
      "language": "python",
      "name": "python3"
    },
    "language_info": {
      "codemirror_mode": {
        "name": "ipython",
        "version": 3
      },
      "file_extension": ".py",
      "mimetype": "text/x-python",
      "name": "python",
      "nbconvert_exporter": "python",
      "pygments_lexer": "ipython3",
      "version": "3.7.8"
    }
  },
  "nbformat": 4,
  "nbformat_minor": 0
}