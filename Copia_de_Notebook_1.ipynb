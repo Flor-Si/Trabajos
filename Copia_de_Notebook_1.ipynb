{
  "cells": [
    {
      "cell_type": "markdown",
      "metadata": {
        "id": "view-in-github",
        "colab_type": "text"
      },
      "source": [
        "<a href=\"https://colab.research.google.com/github/Flor-Si/Trabajos/blob/main/Copia_de_Notebook_1.ipynb\" target=\"_parent\"><img src=\"https://colab.research.google.com/assets/colab-badge.svg\" alt=\"Open In Colab\"/></a>"
      ]
    },
    {
      "cell_type": "markdown",
      "metadata": {
        "id": "p3qOd2lCIBTD"
      },
      "source": [
        "Uno de los motivos por el cual Python ha crecido en los ultimos años es su gran comunidad de código abierto. Existen muchos eventos a los que se puede asistir para aprender más acerca de lo que se trabaja en Python. Todos ellos son inclusivos y abiertos al público."
      ]
    },
    {
      "cell_type": "markdown",
      "metadata": {
        "id": "HUYjQZ-hIBS_"
      },
      "source": [
        "# Programa Ingenias+ Data Science"
      ]
    },
    {
      "cell_type": "markdown",
      "metadata": {
        "id": "FfQFHyRfIBTC"
      },
      "source": [
        "Antes de poder sumergirnos de lleno en aprender conceptos especificos del mundo de Data Science, hay una habilidad que debemos adquirir o mejorar: **Programación**. De todos los lenguajes de programación existentes, hay dos que dominan el mundo de Data Science.  \n",
        "El primero de ellos es **R</t>**, un lenguaje que se utiliza mucho en investigación y estadistica. El otro es **Python**.\n",
        "Si bien ambos son muy utiles, **Python** es el más utilizado hoy en día, y debido a esto más módulos han sido desarrollados."
      ]
    },
    {
      "cell_type": "markdown",
      "metadata": {
        "id": "Zv_cCGTKIBTE"
      },
      "source": [
        "# Clase 1: Introducción a Python"
      ]
    },
    {
      "cell_type": "markdown",
      "metadata": {
        "id": "EQtl33aqIBTE"
      },
      "source": [
        "**Python** es un lenguaje de programación de propósito general muy poderoso y flexible, a la vez que sencillo y fácil de aprender."
      ]
    },
    {
      "cell_type": "markdown",
      "metadata": {
        "id": "KDwws6ELIBTE"
      },
      "source": [
        "**¿Donde recurro cuando estoy trabada o no se qué hacer?**"
      ]
    },
    {
      "cell_type": "markdown",
      "metadata": {
        "id": "uzxslsUVIBTF"
      },
      "source": [
        "Python posee una amplia documentación que nos permite investigar cada función que contiene el lenguaje. Podes chequearla [acá](https://docs.python.org/3/)\n",
        "\n",
        "Otra fuente para obtener respuestas es [Stackoverflow](https://es.stackoverflow.com/) o por supuesto, Google."
      ]
    },
    {
      "cell_type": "markdown",
      "metadata": {
        "id": "tao9huSrIBTF"
      },
      "source": [
        "## Conceptos básicos de Python"
      ]
    },
    {
      "cell_type": "markdown",
      "metadata": {
        "id": "E-Ws_92DIBTG"
      },
      "source": [
        "En estas clases utilizaremos **Jupyter Notebook**. La ventaja de jupyter notebook es que permite mezclar celdas `Markdown` con celdas de código."
      ]
    },
    {
      "cell_type": "code",
      "source": [],
      "metadata": {
        "id": "3-LfLlCLWOYX"
      },
      "execution_count": null,
      "outputs": []
    },
    {
      "cell_type": "markdown",
      "metadata": {
        "id": "DNWhdMWZIBTG"
      },
      "source": [
        "1) **Markdown** es un lenguaje de marcado que permite dar formato a un texto de manera rápida y fácil.\n",
        "\n",
        "Para utilizarlo debes seguir ciertas convenciones que puedas consultar en la siguiente página web: [Guía Markdown](https://joedicastro.com/pages/markdown.html)"
      ]
    },
    {
      "cell_type": "markdown",
      "metadata": {
        "id": "2q5qlavbIBTH"
      },
      "source": [
        "2) Por otro lado, en las celdas de código es donde vamos a escribir el código **Python**.  \n",
        "\n",
        "Prestale atención a los corchetes que se encuentran al lado de cada celda de Python. Cuando tienen un número significa que esa celda ha sido corrida. Cuando tienen `*` implica que la celda esta corriendo."
      ]
    },
    {
      "cell_type": "markdown",
      "metadata": {
        "id": "CrCkrNfwIBTH"
      },
      "source": [
        "Python posee una guía de estilo, que si bien no es obligatoria, se **RECOMIENDA** seguir. Podes leer acerca de las convenciones establecidas en el [PEP8](https://www.python.org/dev/peps/pep-0008/)."
      ]
    },
    {
      "cell_type": "markdown",
      "metadata": {
        "id": "UfGOTT9TIBTI"
      },
      "source": [
        "La filosofía de Python hace hincapié en una sintaxis que favorezca un código legible. Esta filosofía se resumen en lo que se conoce como el **ZEN de Python**."
      ]
    },
    {
      "cell_type": "code",
      "execution_count": null,
      "metadata": {
        "id": "NPu8DjQOIBTI",
        "outputId": "ee7c18c7-2dc9-46eb-fddb-3ed7404cb925",
        "colab": {
          "base_uri": "https://localhost:8080/"
        }
      },
      "outputs": [
        {
          "output_type": "stream",
          "name": "stdout",
          "text": [
            "The Zen of Python, by Tim Peters\n",
            "\n",
            "Beautiful is better than ugly.\n",
            "Explicit is better than implicit.\n",
            "Simple is better than complex.\n",
            "Complex is better than complicated.\n",
            "Flat is better than nested.\n",
            "Sparse is better than dense.\n",
            "Readability counts.\n",
            "Special cases aren't special enough to break the rules.\n",
            "Although practicality beats purity.\n",
            "Errors should never pass silently.\n",
            "Unless explicitly silenced.\n",
            "In the face of ambiguity, refuse the temptation to guess.\n",
            "There should be one-- and preferably only one --obvious way to do it.\n",
            "Although that way may not be obvious at first unless you're Dutch.\n",
            "Now is better than never.\n",
            "Although never is often better than *right* now.\n",
            "If the implementation is hard to explain, it's a bad idea.\n",
            "If the implementation is easy to explain, it may be a good idea.\n",
            "Namespaces are one honking great idea -- let's do more of those!\n"
          ]
        }
      ],
      "source": [
        "#Corre esta linea para descubrir el zen de Python\n",
        "import this"
      ]
    },
    {
      "cell_type": "markdown",
      "metadata": {
        "id": "x-U2ymfsIBTJ"
      },
      "source": [
        "Empecemos con una función muy simple de Python: `print()`. Esta función imprime la variable que se le pase."
      ]
    },
    {
      "cell_type": "code",
      "source": [],
      "metadata": {
        "id": "AsqvepYAW8XC"
      },
      "execution_count": null,
      "outputs": []
    },
    {
      "cell_type": "code",
      "execution_count": null,
      "metadata": {
        "id": "C6BFwKs-IBTJ",
        "colab": {
          "base_uri": "https://localhost:8080/"
        },
        "outputId": "b3617c77-509e-428c-b21d-f34e2fcf875f"
      },
      "outputs": [
        {
          "output_type": "stream",
          "name": "stdout",
          "text": [
            "Python es muy fácil de aprender\n"
          ]
        }
      ],
      "source": [
        "#Corre esta celda para descrubir el output\n",
        "print(\"Python es muy fácil de aprender\")"
      ]
    },
    {
      "cell_type": "code",
      "execution_count": null,
      "metadata": {
        "id": "Qtm2wvaMIBTK",
        "colab": {
          "base_uri": "https://localhost:8080/"
        },
        "outputId": "ae1fad9e-8d24-4cf4-ba7b-b5bc887416c5"
      },
      "outputs": [
        {
          "output_type": "stream",
          "name": "stdout",
          "text": [
            "Python es muy fácil de aprender\n"
          ]
        }
      ],
      "source": [
        "print (\"Python es muy fácil de aprender\")"
      ]
    },
    {
      "cell_type": "markdown",
      "metadata": {
        "id": "Dql9P9cTIBTK"
      },
      "source": [
        "### Sintaxis: Indentación y Comentarios"
      ]
    },
    {
      "cell_type": "markdown",
      "metadata": {
        "id": "r-ATaA8sIBTK"
      },
      "source": [
        "La clave de la sintaxis de Python es la INDENTACIÓN. La indentación es la sangría inicial de un bloque de código, compuesta por 4 espacios o un tab"
      ]
    },
    {
      "cell_type": "code",
      "execution_count": null,
      "metadata": {
        "id": "93by5ynyIBTK"
      },
      "outputs": [],
      "source": [
        "def suma(a, b):\n",
        "    # esta linea suma a y b\n",
        "    c = a + b\n",
        "    # esta linea suma a y c\n",
        "    d = a + c\n",
        "    return c\n",
        "\n",
        "def resta(a, b):\n",
        "    return a - b"
      ]
    },
    {
      "cell_type": "code",
      "execution_count": null,
      "metadata": {
        "id": "ToIi6d2QIBTL",
        "colab": {
          "base_uri": "https://localhost:8080/"
        },
        "outputId": "24fd55bf-99a6-4fe1-d3d9-ff1919ab3f16"
      },
      "outputs": [
        {
          "output_type": "execute_result",
          "data": {
            "text/plain": [
              "-1"
            ]
          },
          "metadata": {},
          "execution_count": 2
        }
      ],
      "source": [
        "resta(1, 2)"
      ]
    },
    {
      "cell_type": "code",
      "execution_count": null,
      "metadata": {
        "id": "cs6Q2r3sIBTL",
        "colab": {
          "base_uri": "https://localhost:8080/"
        },
        "outputId": "0533e997-ebd7-4238-c05b-439a7c988a8b"
      },
      "outputs": [
        {
          "output_type": "stream",
          "name": "stdout",
          "text": [
            "1\n"
          ]
        }
      ],
      "source": [
        "# esto es un comentario\n",
        "print(1)"
      ]
    },
    {
      "cell_type": "markdown",
      "metadata": {
        "id": "CeJ3kCI9IBTL"
      },
      "source": [
        "El simbolo `#` se utiliza para determinar un comentario. Esto significa que al verlo, Python entendera que esa línea no corresponde a código que debe correrse."
      ]
    },
    {
      "cell_type": "markdown",
      "metadata": {
        "id": "-s0U6l_YIBTL"
      },
      "source": [
        "Comentar el código es una practica muy útil para explicar que hace una linea de código. La convención es que el comentario se haga en la línea anterior a la linea de código correspondiente."
      ]
    },
    {
      "cell_type": "code",
      "execution_count": null,
      "metadata": {
        "id": "93Vf8OTRIBTM"
      },
      "outputs": [],
      "source": []
    },
    {
      "cell_type": "code",
      "execution_count": null,
      "metadata": {
        "id": "hOxalfP3IBTM"
      },
      "outputs": [],
      "source": []
    },
    {
      "cell_type": "code",
      "execution_count": null,
      "metadata": {
        "id": "bbdcpBvUIBTM",
        "colab": {
          "base_uri": "https://localhost:8080/"
        },
        "outputId": "1e0932ad-7e9c-45ec-bbe2-6c969fb29c82"
      },
      "outputs": [
        {
          "output_type": "stream",
          "name": "stdout",
          "text": [
            "194.87171000000012\n",
            "3\n"
          ]
        }
      ],
      "source": [
        "#Reemplaza las lineas de puntos con la función correspondiente.\n",
        "print(100*(1.1**7))\n",
        "print(1+2)"
      ]
    },
    {
      "cell_type": "markdown",
      "metadata": {
        "id": "mKF0Tbn5IBTM"
      },
      "source": [
        "## Variables y Estructura de datos"
      ]
    },
    {
      "cell_type": "markdown",
      "metadata": {
        "id": "ofppWLIbIBTM"
      },
      "source": [
        "### Asignación de variables:"
      ]
    },
    {
      "cell_type": "markdown",
      "metadata": {
        "id": "0AmUV30GIBTN"
      },
      "source": [
        "En Python, una variable permite referir a un valor utilizando un nombre en especifico. Para crear una variable, se debe usar `=` como en el siguiente ejemplo:"
      ]
    },
    {
      "cell_type": "code",
      "execution_count": null,
      "metadata": {
        "id": "PePgG7rjIBTN"
      },
      "outputs": [],
      "source": [
        "mi_numero = 8"
      ]
    },
    {
      "cell_type": "code",
      "execution_count": null,
      "metadata": {
        "id": "w4KelmHKIBTN"
      },
      "outputs": [],
      "source": [
        "print(mi_numero)"
      ]
    },
    {
      "cell_type": "markdown",
      "metadata": {
        "id": "M0o3mdGCIBTN"
      },
      "source": [
        "Ahora, sigue las instrucciones de los comentarios."
      ]
    },
    {
      "cell_type": "code",
      "execution_count": null,
      "metadata": {
        "id": "1Eg2R-wmIBTN"
      },
      "outputs": [],
      "source": [
        "#Asigna 100 a la variable mi_variable\n",
        "mi_variable = 100"
      ]
    },
    {
      "cell_type": "code",
      "execution_count": null,
      "metadata": {
        "id": "4gWvtyQMIBTN"
      },
      "outputs": [],
      "source": [
        "#Muestra el contenido de la variable\n",
        "print(mi_variable)"
      ]
    },
    {
      "cell_type": "code",
      "execution_count": null,
      "metadata": {
        "id": "sA82GbY_IBTN"
      },
      "outputs": [],
      "source": [
        "mi_numero = 20"
      ]
    },
    {
      "cell_type": "code",
      "execution_count": null,
      "metadata": {
        "id": "4GtcWRirIBTO"
      },
      "outputs": [],
      "source": [
        "print(mi_numero)"
      ]
    },
    {
      "cell_type": "markdown",
      "metadata": {
        "id": "61Gq151VIBTO"
      },
      "source": [
        "Las variables pueden ser llamadas posteriormente. Además podemos realizar calculos y operaciones con ellas."
      ]
    },
    {
      "cell_type": "code",
      "execution_count": null,
      "metadata": {
        "id": "T54_s_40IBTO",
        "colab": {
          "base_uri": "https://localhost:8080/"
        },
        "outputId": "ac8d4798-5019-4759-cdbe-0aa0269ccf3d"
      },
      "outputs": [
        {
          "output_type": "stream",
          "name": "stdout",
          "text": [
            "194.87171000000012\n"
          ]
        }
      ],
      "source": [
        "#Crea una variable llamada factor que contenga el numero 1.1\n",
        "factor = 1.1\n",
        "\n",
        "#Calcula el resultado de elevar a la 7 la varible factor multiplicarla\n",
        "#por el numero contenido en mi_varible y asignala a una nueva variable\n",
        "#llamada resultado\n",
        "resultado = factor**7*mi_variable\n",
        "#Imprime el resultado\n",
        "print(resultado)"
      ]
    },
    {
      "cell_type": "markdown",
      "metadata": {
        "id": "uHpC-ctrIBTO"
      },
      "source": [
        "Hay ciertas reglas que se deben cumplir a la hora de declarar una variable:  \n",
        "\n",
        "- Los nombres de las variables siempre aparecen a la izquierda de `=`.\n",
        "- Python diferencia mayusculas de minusculas en el nombre de las variables.\n",
        "- Los nombres de las variables DEBEN comenzar con una letra. Luego pueden contener nombres y guiones bajos `_`. Pero no pueden contener caracteres especiales (como por ejemplo, `&`, `*`, `#`, etc).\n",
        "- Si bien Python no le importa como llames a tus variables, los nombres de las variables deben ser descriptivos de los valores o datos que contienen para que otras personas puedan interpretarlo.\n",
        "- Lee más acerca de estas convenciones en el **PEP8**."
      ]
    },
    {
      "cell_type": "markdown",
      "metadata": {
        "id": "2BZD4eKxIBTO"
      },
      "source": [
        "**PALABRAS RESERVADAS**: Hay 33 palabras que no podes utilizar como nombres de variables, debido a que estan reservadas para el lenguaje ya que cumplen una función particular en Python."
      ]
    },
    {
      "cell_type": "markdown",
      "metadata": {
        "id": "MMEiFu8PIBTO"
      },
      "source": [
        "_Ellas son_: False, None, True, and, as, assert, break, class, continue, def, del, elif, else, except, finally, for, from, global, if, import, in, is, lambda, nonlocal, not, or, pass, raise, return, try, while, with, yield\n",
        "\n"
      ]
    },
    {
      "cell_type": "code",
      "execution_count": null,
      "metadata": {
        "id": "3WN5NjwPIBTP",
        "colab": {
          "base_uri": "https://localhost:8080/",
          "height": 106
        },
        "outputId": "cc188347-1762-47f7-8aaf-7c3c5dd19592"
      },
      "outputs": [
        {
          "output_type": "error",
          "ename": "SyntaxError",
          "evalue": "expected ':' (<ipython-input-41-5e13b15422c4>, line 2)",
          "traceback": [
            "\u001b[0;36m  File \u001b[0;32m\"<ipython-input-41-5e13b15422c4>\"\u001b[0;36m, line \u001b[0;32m2\u001b[0m\n\u001b[0;31m    try = 6\u001b[0m\n\u001b[0m        ^\u001b[0m\n\u001b[0;31mSyntaxError\u001b[0m\u001b[0;31m:\u001b[0m expected ':'\n"
          ]
        }
      ],
      "source": [
        "#Corre el siguiente codigo y observa que pasa\n",
        "try = 6"
      ]
    },
    {
      "cell_type": "markdown",
      "metadata": {
        "id": "Oj0_9qPQIBTP"
      },
      "source": [
        "### Tipo de Variables:"
      ]
    },
    {
      "cell_type": "markdown",
      "metadata": {
        "id": "laFZopm5IBTP"
      },
      "source": [
        "Python nos provee una función útil para chequear que tipo de variable contiene cada variable definida: `type()` [Chequea la documentación](https://docs.python.org/3/library/functions.html?highlight=type#type)."
      ]
    },
    {
      "cell_type": "markdown",
      "metadata": {
        "id": "efGMi76yIBTP"
      },
      "source": [
        "### ENTEROS"
      ]
    },
    {
      "cell_type": "markdown",
      "metadata": {
        "id": "6SZULLwxIBTP"
      },
      "source": [
        "El primer tipo de datos que podemos tener son enteros, que corresponde al tipo `int` en Python."
      ]
    },
    {
      "cell_type": "code",
      "execution_count": null,
      "metadata": {
        "id": "zB7X_gXiIBTP",
        "colab": {
          "base_uri": "https://localhost:8080/"
        },
        "outputId": "5c478f63-bc9c-4894-f029-e70f6bdeba2c"
      },
      "outputs": [
        {
          "output_type": "stream",
          "name": "stdout",
          "text": [
            "<class 'int'>\n",
            "<class 'int'>\n"
          ]
        }
      ],
      "source": [
        "#Declara la variable mi_numero y asignale el numero 4\n",
        "mi_numero = 4\n",
        "\n",
        "#Declara la variable otro_numero y asignale el numero -1\n",
        "otro_numero = -1\n",
        "\n",
        "#Chequea que tipo de variables son mi_numero y otro_numero\n",
        "print(type(mi_numero))\n",
        "print(type(otro_numero))"
      ]
    },
    {
      "cell_type": "code",
      "execution_count": null,
      "metadata": {
        "id": "TnyhNVzyIBTP",
        "colab": {
          "base_uri": "https://localhost:8080/"
        },
        "outputId": "ab1cb3ca-1e5d-477a-9345-838a01d82d7d"
      },
      "outputs": [
        {
          "output_type": "stream",
          "name": "stdout",
          "text": [
            "-4\n"
          ]
        }
      ],
      "source": [
        "#Imprime el resultado de multiplicar mi_numero y otro_numero\n",
        "print(mi_numero*otro_numero)"
      ]
    },
    {
      "cell_type": "markdown",
      "metadata": {
        "id": "-R-BiIoDIBTQ"
      },
      "source": [
        "### FLOTANTES"
      ]
    },
    {
      "cell_type": "markdown",
      "metadata": {
        "id": "OoQWsze4IBTQ"
      },
      "source": [
        "Además de enteros, los datos también pueden ser de tipo flotantes. Esto es pueden contener numeros como `5.5`, `7.7`, `9014019401.43`. Este tipo de variable corresponde a `float` en Python."
      ]
    },
    {
      "cell_type": "code",
      "execution_count": null,
      "metadata": {
        "id": "-tEcqcTpIBTQ",
        "colab": {
          "base_uri": "https://localhost:8080/"
        },
        "outputId": "15b2b9f0-0cca-49e6-e5a5-1edfce2b96aa"
      },
      "outputs": [
        {
          "output_type": "stream",
          "name": "stdout",
          "text": [
            "<class 'float'>\n"
          ]
        }
      ],
      "source": [
        "#Declara la variable float_numero y asignale el numero 4.9\n",
        "float_numero = 4.9\n",
        "\n",
        "#Chequea que tipo de variable es float_numero\n",
        "print(type(float_numero))"
      ]
    },
    {
      "cell_type": "code",
      "execution_count": null,
      "metadata": {
        "id": "RCOTIpolIBTQ",
        "colab": {
          "base_uri": "https://localhost:8080/"
        },
        "outputId": "607710a1-3cc8-4aba-c179-7f4da156a5e9"
      },
      "outputs": [
        {
          "output_type": "stream",
          "name": "stdout",
          "text": [
            "576.4801000000002\n"
          ]
        }
      ],
      "source": [
        "#Imprime el resultado de elevar float_numero a mi_numero, declarado anteriormente\n",
        "print(float_numero**mi_numero)"
      ]
    },
    {
      "cell_type": "markdown",
      "metadata": {
        "id": "5UVoSCi0IBTQ"
      },
      "source": [
        "### BOOLEANAS"
      ]
    },
    {
      "cell_type": "markdown",
      "metadata": {
        "id": "uWrj3-K5IBTQ"
      },
      "source": [
        "Una variable booleana es una variable lógica que admite solo dos valores `True` y `False`."
      ]
    },
    {
      "cell_type": "code",
      "execution_count": null,
      "metadata": {
        "id": "n--DS2YPIBTQ"
      },
      "outputs": [],
      "source": [
        "#Corre la siguiente linea\n",
        "mi_bool = True"
      ]
    },
    {
      "cell_type": "code",
      "execution_count": null,
      "metadata": {
        "id": "UMc-hN6fIBTR"
      },
      "outputs": [],
      "source": [
        "#Ahora asigna a la variable otra_bool el valor False\n",
        "otra_bool = False"
      ]
    },
    {
      "cell_type": "code",
      "execution_count": null,
      "metadata": {
        "id": "Jm084U2AIBTR",
        "colab": {
          "base_uri": "https://localhost:8080/"
        },
        "outputId": "3d9cb04a-fb6b-4e1f-a8b3-c72ffd2a44a4"
      },
      "outputs": [
        {
          "output_type": "stream",
          "name": "stdout",
          "text": [
            "<class 'bool'>\n",
            "<class 'bool'>\n"
          ]
        }
      ],
      "source": [
        "#Chequea que tipo de variables son mi_bool y otra_bool\n",
        "print(type(mi_bool))\n",
        "print(type(otra_bool))"
      ]
    },
    {
      "cell_type": "markdown",
      "metadata": {
        "id": "hf2nka7BIBTR"
      },
      "source": [
        "Pese a que las variables booleanas son definidas con los valores `True` y `False`, Python las trata como numeros."
      ]
    },
    {
      "cell_type": "code",
      "execution_count": null,
      "metadata": {
        "id": "dqzecrXfIBTR",
        "colab": {
          "base_uri": "https://localhost:8080/"
        },
        "outputId": "135ec907-3260-4261-c6be-957776cdf310"
      },
      "outputs": [
        {
          "output_type": "execute_result",
          "data": {
            "text/plain": [
              "1"
            ]
          },
          "metadata": {},
          "execution_count": 50
        }
      ],
      "source": [
        "#Prueba que ocurre si sumamos mi_bool y otra_bool\n",
        "mi_bool + otra_bool"
      ]
    },
    {
      "cell_type": "markdown",
      "metadata": {
        "id": "WERJJ8p3IBTR"
      },
      "source": [
        "Así es Python devolvera un numero. En lugar de utilizar el operador suma, podemos utilizar los operadores lógicos: `&` o `and`, `|` o `or`, y `not`."
      ]
    },
    {
      "cell_type": "code",
      "execution_count": null,
      "metadata": {
        "id": "cGeuzW3kIBTR"
      },
      "outputs": [],
      "source": [
        "#Aplica el operador and o & entre las variables mi_bool y otra_bool\n",
        "mi_bool and otra_bool"
      ]
    },
    {
      "cell_type": "code",
      "execution_count": null,
      "metadata": {
        "id": "kIwSzQrKIBTS"
      },
      "outputs": [],
      "source": [
        "#Aplica el operador or o | entre las variables mi_bool y otra_bool\n",
        "mi_bool or otra_bool"
      ]
    },
    {
      "cell_type": "code",
      "execution_count": null,
      "metadata": {
        "id": "mXYaCZMOIBTS"
      },
      "outputs": [],
      "source": [
        "#Aplica el operador not a la variable mi_bool\n",
        "not mi_bool"
      ]
    },
    {
      "cell_type": "markdown",
      "metadata": {
        "id": "7HQJdTJsIBTS"
      },
      "source": [
        "### SECUENCIA DE CARACTERES O STRINGS"
      ]
    },
    {
      "cell_type": "markdown",
      "metadata": {
        "id": "yd-UPj3HIBTS"
      },
      "source": [
        "La secuencia de caracteres o `string` es otro tipo de datos que podemos encontrar en Python. Estas variables poseen de particular que se definen utilizando comillas, como en el ejemplo siguiente:"
      ]
    },
    {
      "cell_type": "code",
      "execution_count": null,
      "metadata": {
        "id": "NF1n-Qe1IBTS",
        "colab": {
          "base_uri": "https://localhost:8080/"
        },
        "outputId": "478b6543-0416-4beb-a931-d5da5032055a"
      },
      "outputs": [
        {
          "output_type": "stream",
          "name": "stdout",
          "text": [
            "Aprender Python es muy sencillo\n",
            "Solo hay que practicar\n"
          ]
        }
      ],
      "source": [
        "#Corre las siguientes lineas\n",
        "mi_frase = \"Aprender Python es muy sencillo\"\n",
        "segunda_frase = 'Solo hay que practicar'\n",
        "print(mi_frase)\n",
        "print(segunda_frase)"
      ]
    },
    {
      "cell_type": "code",
      "execution_count": null,
      "metadata": {
        "id": "-XZW5iajIBTS",
        "colab": {
          "base_uri": "https://localhost:8080/",
          "height": 106
        },
        "outputId": "ade7e64c-c05a-4b3a-d27c-e68ff481cf92"
      },
      "outputs": [
        {
          "output_type": "error",
          "ename": "SyntaxError",
          "evalue": "unterminated string literal (detected at line 1) (<ipython-input-52-a1e9e5cfbf33>, line 1)",
          "traceback": [
            "\u001b[0;36m  File \u001b[0;32m\"<ipython-input-52-a1e9e5cfbf33>\"\u001b[0;36m, line \u001b[0;32m1\u001b[0m\n\u001b[0;31m    mi_frase = 'esta es una frase\"\u001b[0m\n\u001b[0m               ^\u001b[0m\n\u001b[0;31mSyntaxError\u001b[0m\u001b[0;31m:\u001b[0m unterminated string literal (detected at line 1)\n"
          ]
        }
      ],
      "source": [
        "mi_frase = 'esta es una frase\""
      ]
    },
    {
      "cell_type": "markdown",
      "metadata": {
        "id": "G8d-4VMeIBTS"
      },
      "source": [
        "##### Comillas"
      ]
    },
    {
      "cell_type": "markdown",
      "metadata": {
        "id": "Pmq_j8hLIBTT"
      },
      "source": [
        "Como habras observado arriba, se pueden utilizar comillas dobles como simples para definir strings. La regla es que utilices las mismas comillas para **abrir y cerrar** el string."
      ]
    },
    {
      "cell_type": "code",
      "execution_count": null,
      "metadata": {
        "id": "03KWLMobIBTT",
        "colab": {
          "base_uri": "https://localhost:8080/"
        },
        "outputId": "dff35e56-41ce-4838-d052-3fb9e4156714"
      },
      "outputs": [
        {
          "output_type": "stream",
          "name": "stdout",
          "text": [
            "Aca va un string\n"
          ]
        }
      ],
      "source": [
        "#Define un string que quieras y asignaselo a la variable mi_primer_string\n",
        "mi_primer_string = \"Aca va un string\"\n",
        "\n",
        "#Imprime la variable mi_primer_string\n",
        "print(mi_primer_string)"
      ]
    },
    {
      "cell_type": "code",
      "execution_count": null,
      "metadata": {
        "id": "NAMsr3V_IBTT"
      },
      "outputs": [],
      "source": [
        "#Define un segundo string y asignaselo a la variable segundo_string\n",
        "segundo_string = \"Aca va otro string\""
      ]
    },
    {
      "cell_type": "code",
      "execution_count": null,
      "metadata": {
        "id": "qRk5ePK-IBTT",
        "colab": {
          "base_uri": "https://localhost:8080/",
          "height": 35
        },
        "outputId": "1acec65f-e71e-4694-dca3-d3913f923d98"
      },
      "outputs": [
        {
          "output_type": "execute_result",
          "data": {
            "text/plain": [
              "'Aca va un stringAca va otro string'"
            ],
            "application/vnd.google.colaboratory.intrinsic+json": {
              "type": "string"
            }
          },
          "metadata": {},
          "execution_count": 55
        }
      ],
      "source": [
        "#Ahora aplica el operador suma (+) entre las dos variables y fijate que pasa\n",
        "mi_primer_string + segundo_string"
      ]
    },
    {
      "cell_type": "markdown",
      "metadata": {
        "id": "jO2zL0XpIBTT"
      },
      "source": [
        "Como observaste los strings también pueden sumarse, o en terminos más correctos, concatenarse."
      ]
    },
    {
      "cell_type": "markdown",
      "metadata": {
        "id": "xsES2X43IBTT"
      },
      "source": [
        "Python también nos permite acceder a un elemento del string o una porción de él. Esto se realiza mediante el uso de **indices** que se especifican con corchetes `[]`."
      ]
    },
    {
      "cell_type": "code",
      "execution_count": null,
      "metadata": {
        "id": "QUROAaUAIBTT",
        "colab": {
          "base_uri": "https://localhost:8080/"
        },
        "outputId": "7e1402f3-3370-47eb-861e-09a86485009e"
      },
      "outputs": [
        {
          "output_type": "stream",
          "name": "stdout",
          "text": [
            "Acceder a un caracter es facil\n"
          ]
        }
      ],
      "source": [
        "#Defino un string\n",
        "prueba_indice = \"Acceder a un caracter es facil\"\n",
        "print(prueba_indice)"
      ]
    },
    {
      "cell_type": "code",
      "execution_count": null,
      "metadata": {
        "id": "_jmrKut2IBTU"
      },
      "outputs": [],
      "source": []
    },
    {
      "cell_type": "code",
      "execution_count": null,
      "metadata": {
        "id": "zLNRn9FuIBTU",
        "colab": {
          "base_uri": "https://localhost:8080/"
        },
        "outputId": "dde93100-607f-4596-fcb0-905753bc1176"
      },
      "outputs": [
        {
          "output_type": "stream",
          "name": "stdout",
          "text": [
            "e\n"
          ]
        }
      ],
      "source": [
        "print(prueba_indice[22])"
      ]
    },
    {
      "cell_type": "code",
      "execution_count": null,
      "metadata": {
        "id": "-YPuFh7xIBTU",
        "colab": {
          "base_uri": "https://localhost:8080/",
          "height": 35
        },
        "outputId": "ccdd7695-283e-43ab-b37a-576418024e7a"
      },
      "outputs": [
        {
          "output_type": "execute_result",
          "data": {
            "text/plain": [
              "'A'"
            ],
            "application/vnd.google.colaboratory.intrinsic+json": {
              "type": "string"
            }
          },
          "metadata": {},
          "execution_count": 5
        }
      ],
      "source": [
        "prueba_indice[0]"
      ]
    },
    {
      "cell_type": "code",
      "execution_count": null,
      "metadata": {
        "id": "-GM8ATm7IBTU",
        "colab": {
          "base_uri": "https://localhost:8080/",
          "height": 35
        },
        "outputId": "92e00b69-487f-440d-a316-dad1bdb0477d"
      },
      "outputs": [
        {
          "output_type": "execute_result",
          "data": {
            "text/plain": [
              "'e'"
            ],
            "application/vnd.google.colaboratory.intrinsic+json": {
              "type": "string"
            }
          },
          "metadata": {},
          "execution_count": 13
        }
      ],
      "source": [
        "#Accedo al cuarto caracter\n",
        "prueba_indice[3]"
      ]
    },
    {
      "cell_type": "markdown",
      "metadata": {
        "id": "spIEGkIQIBTU"
      },
      "source": [
        "**¿Observaste bien?** Si especifico el indice 3, me trae el 4to caracter. Esto es porque en Python los indices comienzan en 0. Entonces, el primer caracter tiene indice 0, el segundo 1 y asi sucesivamente."
      ]
    },
    {
      "cell_type": "code",
      "execution_count": null,
      "metadata": {
        "id": "yfX4AVWdIBTU",
        "colab": {
          "base_uri": "https://localhost:8080/"
        },
        "outputId": "d5ea38b8-dcee-4d85-decd-0de6a1b66d5a"
      },
      "outputs": [
        {
          "output_type": "stream",
          "name": "stdout",
          "text": [
            " \n",
            "d\n"
          ]
        }
      ],
      "source": [
        "#Accede al octavo caracter del string prueba_indice\n",
        "print(prueba_indice[7])\n",
        "\n",
        "#Accede al quinto caracter del string prueba_indice\n",
        "print(prueba_indice[4])"
      ]
    },
    {
      "cell_type": "markdown",
      "metadata": {
        "id": "Iw1MCkmxIBTU"
      },
      "source": [
        "También es posible acceder a una porción del string. Esto se hace utilizando también corchetes `[]`, pero se especifica el indice donde comienzo, luego `:` y luego el indice donde termino."
      ]
    },
    {
      "cell_type": "code",
      "execution_count": null,
      "metadata": {
        "id": "7xHRCLwmIBTV",
        "colab": {
          "base_uri": "https://localhost:8080/"
        },
        "outputId": "218b50ef-0612-4f4f-c0d9-031bbb4bd2a8"
      },
      "outputs": [
        {
          "output_type": "stream",
          "name": "stdout",
          "text": [
            "a un caracter \n"
          ]
        }
      ],
      "source": [
        "#Corre la siguiente linea\n",
        "print(prueba_indice[8:22])"
      ]
    },
    {
      "cell_type": "code",
      "source": [
        "print(prueba_indice[0:-2]) #el numero negativo va quitando caracteres"
      ],
      "metadata": {
        "colab": {
          "base_uri": "https://localhost:8080/"
        },
        "id": "fB-_eQMxcuxL",
        "outputId": "cd0158bc-5674-46e9-b242-e5de71436e82"
      },
      "execution_count": null,
      "outputs": [
        {
          "output_type": "stream",
          "name": "stdout",
          "text": [
            "Acceder a un caracter es fac\n"
          ]
        }
      ]
    },
    {
      "cell_type": "code",
      "execution_count": null,
      "metadata": {
        "id": "qpcmoVzJIBTV",
        "colab": {
          "base_uri": "https://localhost:8080/"
        },
        "outputId": "56d13714-8825-4ca0-b423-deae1d647f27"
      },
      "outputs": [
        {
          "output_type": "stream",
          "name": "stdout",
          "text": [
            "licaf se retcarac nu a redeccA\n"
          ]
        }
      ],
      "source": [
        "print(prueba_indice[::-1])"
      ]
    },
    {
      "cell_type": "markdown",
      "metadata": {
        "id": "ew-gPFH0IBTV"
      },
      "source": [
        "**¿Notaste algo en particular?** Para poder traer la porción entre el 9no y el 22do caracter, debo especificar el caracter donde comienza (`8`) y la posición donde termina (`21`).   \n",
        "Sin embargo, especificamos 22. ¿Por qué? Porque Python **SIEMPRE excluye** la última posición que le especifiquemos. Entonces si especificamos hasta 21, traera hasta el 20. Si queremos hasta el 21 inclusive, debemos colocar 22 entonces."
      ]
    },
    {
      "cell_type": "code",
      "execution_count": null,
      "metadata": {
        "id": "fN0sEpSNIBTV"
      },
      "outputs": [],
      "source": [
        "#asigna el string a la variable mi_frase_prueba\n",
        "mi_frase_prueba = \"Es esencial que leas mucho\"\n",
        "mi_segunda_prueba = \"Para muchos era invisible aunque sus ojos se destacaban\""
      ]
    },
    {
      "cell_type": "code",
      "execution_count": null,
      "metadata": {
        "id": "ZJqOimCzIBTV"
      },
      "outputs": [],
      "source": [
        "#Selecciona el substring esencial de la variable mi_frase_prueba y asignalo a la variable primera_palabra\n",
        "primera_palabra = mi_frase_prueba[3:11]\n",
        "\n",
        "#Selecciona el substring invisible de la variable mi_segunda_prueba y asignalo a la variable segunda_palabra\n",
        "segunda_palabra = mi_segunda_prueba[16:25]\n",
        "\n",
        "#Selecciona el substring ojos de la variable mi_segunda_prueba y asignalo a la variable tercera_palabra\n",
        "tercera_palabra = mi_segunda_prueba[37:41]"
      ]
    },
    {
      "cell_type": "code",
      "execution_count": null,
      "metadata": {
        "id": "RNeVNAAjIBTV"
      },
      "outputs": [],
      "source": [
        "#Concatena los strings \"Lo\", primera_palabra, \"es\", segunda_palabra, \"a los\", tercera_palabra.\n",
        "#Imprime el resultado. No te olvides de especificar espacios usando el string \" \"\n",
        "print(\"Lo\"+\" \"+primera_palabra+\" \"+\"es\"+segunda_palabra+\" \"+\"a los\"+\" \"+tercera_palabra)"
      ]
    },
    {
      "cell_type": "code",
      "execution_count": null,
      "metadata": {
        "id": "AxHgpzxTIBTV"
      },
      "outputs": [],
      "source": [
        "#Ahora concatena tercera_palabra y la variable mi_numero definida anteriormente\n",
        "tercera_palabra + mi_numero"
      ]
    },
    {
      "cell_type": "markdown",
      "metadata": {
        "id": "8mIkPPfRIBTW"
      },
      "source": [
        "Como podrás ver no es posible concatenar variables de distintos tipos. Sin embargo, hay algunas funciones que nos brinda Python que nos permiten transformar entre tipos de variables."
      ]
    },
    {
      "cell_type": "markdown",
      "metadata": {
        "id": "O1LcOIM4IBTW"
      },
      "source": [
        "- `str()` convierte a string una variable o valor"
      ]
    },
    {
      "cell_type": "code",
      "execution_count": null,
      "metadata": {
        "id": "Ui6e_FMMIBTW"
      },
      "outputs": [],
      "source": [
        "print(mi_numero)"
      ]
    },
    {
      "cell_type": "code",
      "execution_count": null,
      "metadata": {
        "id": "7fcObXuQIBTW"
      },
      "outputs": [],
      "source": [
        "#Aplica la función str a la variable mi_numero y guardala en la variable mi_numero_str\n",
        "mi_numero_str = str(mi_numero)"
      ]
    },
    {
      "cell_type": "code",
      "execution_count": null,
      "metadata": {
        "id": "wJRkFVlGIBTW"
      },
      "outputs": [],
      "source": [
        "print(type(mi_numero_str))"
      ]
    },
    {
      "cell_type": "code",
      "execution_count": null,
      "metadata": {
        "id": "d8Zi0HljIBTW"
      },
      "outputs": [],
      "source": [
        "#Concatena tercera_palabra y mi_numero_str\n",
        "tercera_palabra + mi_numero_str"
      ]
    },
    {
      "cell_type": "markdown",
      "metadata": {
        "id": "l8gt2qHHIBTW"
      },
      "source": [
        "- `int()` convierte a entero una variable o valor"
      ]
    },
    {
      "cell_type": "code",
      "execution_count": null,
      "metadata": {
        "id": "pS_4NoqzIBTW"
      },
      "outputs": [],
      "source": [
        "int(\"4\")"
      ]
    },
    {
      "cell_type": "code",
      "execution_count": null,
      "metadata": {
        "id": "r7BIAkemIBTW"
      },
      "outputs": [],
      "source": [
        "#Aplica la función int a mi_numero_str y multiplicalo por 5\n",
        "int(mi_numero_str) * 5"
      ]
    },
    {
      "cell_type": "markdown",
      "metadata": {
        "id": "Nnhv8RTBIBTX"
      },
      "source": [
        "Otras funciones similares son: [`float()`](https://docs.python.org/3/library/functions.html#float) y [`bool()`](https://docs.python.org/3/library/functions.html#bool)."
      ]
    },
    {
      "cell_type": "markdown",
      "metadata": {
        "id": "58oKXEo2IBTX"
      },
      "source": [
        "#### Inmutables"
      ]
    },
    {
      "cell_type": "markdown",
      "metadata": {
        "id": "S4-vLYcLIBTX"
      },
      "source": [
        "Todos los tipos de variables que vimos hasta ahora son **inmutables**. Esto significa que no pueden ser alteradas después de haber sido creadas."
      ]
    },
    {
      "cell_type": "code",
      "execution_count": null,
      "metadata": {
        "id": "Y0PS_eZ7IBTX",
        "colab": {
          "base_uri": "https://localhost:8080/",
          "height": 176
        },
        "outputId": "2f642c11-631d-41eb-ffeb-b9ccb9fc3a48"
      },
      "outputs": [
        {
          "output_type": "error",
          "ename": "TypeError",
          "evalue": "'str' object does not support item assignment",
          "traceback": [
            "\u001b[0;31m---------------------------------------------------------------------------\u001b[0m",
            "\u001b[0;31mTypeError\u001b[0m                                 Traceback (most recent call last)",
            "\u001b[0;32m<ipython-input-72-7951f226d429>\u001b[0m in \u001b[0;36m<cell line: 0>\u001b[0;34m()\u001b[0m\n\u001b[1;32m      1\u001b[0m \u001b[0;31m#Corre la siguiente linea y observa que occurre\u001b[0m\u001b[0;34m\u001b[0m\u001b[0;34m\u001b[0m\u001b[0m\n\u001b[1;32m      2\u001b[0m \u001b[0mvariable_inmutable\u001b[0m \u001b[0;34m=\u001b[0m \u001b[0;34m\"Los strings son inmutables en Python\"\u001b[0m\u001b[0;34m\u001b[0m\u001b[0;34m\u001b[0m\u001b[0m\n\u001b[0;32m----> 3\u001b[0;31m \u001b[0mvariable_inmutable\u001b[0m\u001b[0;34m[\u001b[0m\u001b[0;36m8\u001b[0m\u001b[0;34m]\u001b[0m \u001b[0;34m=\u001b[0m \u001b[0;34m\"f\"\u001b[0m\u001b[0;34m\u001b[0m\u001b[0;34m\u001b[0m\u001b[0m\n\u001b[0m",
            "\u001b[0;31mTypeError\u001b[0m: 'str' object does not support item assignment"
          ]
        }
      ],
      "source": [
        "#Corre la siguiente linea y observa que occurre\n",
        "variable_inmutable = \"Los strings son inmutables en Python\"\n",
        "variable_inmutable[8] = \"f\""
      ]
    },
    {
      "cell_type": "code",
      "execution_count": null,
      "metadata": {
        "id": "j2zdu_k9IBTX"
      },
      "outputs": [],
      "source": [
        "from datetime import datetime"
      ]
    },
    {
      "cell_type": "code",
      "execution_count": null,
      "metadata": {
        "id": "Mt1uAcXKIBTX"
      },
      "outputs": [],
      "source": [
        "mi_fecha = '2021-2-23'"
      ]
    },
    {
      "cell_type": "code",
      "execution_count": null,
      "metadata": {
        "id": "W5nkwHxiIBTX",
        "colab": {
          "base_uri": "https://localhost:8080/",
          "height": 141
        },
        "outputId": "9272c314-cacb-49da-8042-c4d442a49c94"
      },
      "outputs": [
        {
          "output_type": "error",
          "ename": "TypeError",
          "evalue": "'str' object cannot be interpreted as an integer",
          "traceback": [
            "\u001b[0;31m---------------------------------------------------------------------------\u001b[0m",
            "\u001b[0;31mTypeError\u001b[0m                                 Traceback (most recent call last)",
            "\u001b[0;32m<ipython-input-75-2fa31008da34>\u001b[0m in \u001b[0;36m<cell line: 0>\u001b[0;34m()\u001b[0m\n\u001b[0;32m----> 1\u001b[0;31m \u001b[0mdatetime\u001b[0m\u001b[0;34m(\u001b[0m\u001b[0mmi_fecha\u001b[0m\u001b[0;34m)\u001b[0m\u001b[0;34m\u001b[0m\u001b[0;34m\u001b[0m\u001b[0m\n\u001b[0m",
            "\u001b[0;31mTypeError\u001b[0m: 'str' object cannot be interpreted as an integer"
          ]
        }
      ],
      "source": [
        "datetime(mi_fecha)"
      ]
    },
    {
      "cell_type": "markdown",
      "metadata": {
        "id": "6obgxdlRIBTX"
      },
      "source": [
        "Lo que nos dice el error, es que una vez asignada una variable, no puedo cambiar parte de ella."
      ]
    },
    {
      "cell_type": "markdown",
      "metadata": {
        "id": "HjuwQ9AAIBTY"
      },
      "source": [
        "Además de los mencionados hasta ahora, Python nos ofrece otras estructura de datos que son más flexibles y permiten agrupar varios valores. Además muchas de ellas son mutables, es decir, permiten que asignemos o alteremos valores una vez definidas."
      ]
    },
    {
      "cell_type": "markdown",
      "metadata": {
        "id": "v_vhEv3VIBTY"
      },
      "source": [
        "### LISTAS"
      ]
    },
    {
      "cell_type": "markdown",
      "metadata": {
        "id": "YdsmqISjIBTY"
      },
      "source": [
        "Una lista es una collección **mutable** de elementos **ORDENADOS**, que pueden ser de distinto tipo. Las listas se crean utilizando corchetes como en el ejemplo."
      ]
    },
    {
      "cell_type": "code",
      "execution_count": null,
      "metadata": {
        "id": "rdOeMv3uIBTY",
        "colab": {
          "base_uri": "https://localhost:8080/"
        },
        "outputId": "94ee701e-fa73-45aa-9d8d-42e8b115adea"
      },
      "outputs": [
        {
          "output_type": "stream",
          "name": "stdout",
          "text": [
            "['mi', 'lista', 3, 4.5, True]\n",
            "<class 'list'>\n"
          ]
        }
      ],
      "source": [
        "#Corre la siguiente linea para declarar la lista mi_lista\n",
        "mi_lista = [\"mi\", \"lista\", 3, 4.5, True]\n",
        "\n",
        "#Muestra el contenido de la variable mi_lista\n",
        "print(mi_lista)\n",
        "\n",
        "#Chequea el tipo de variable de mi_lista\n",
        "print(type(mi_lista))"
      ]
    },
    {
      "cell_type": "code",
      "execution_count": null,
      "metadata": {
        "id": "M9dpSh0KIBTY"
      },
      "outputs": [],
      "source": [
        "print(mi_lista)"
      ]
    },
    {
      "cell_type": "code",
      "execution_count": null,
      "metadata": {
        "id": "3STwc44kIBTY"
      },
      "outputs": [],
      "source": [
        "#Define una lista que contenga 10 elementos y asignaselos a la variable primer_lista\n",
        "primer_lista = [3, 4, 5, 14, \"hola\", \"chau\", \"rojo\", False, \"AZUL\", True]"
      ]
    },
    {
      "cell_type": "markdown",
      "metadata": {
        "id": "MKAQxAumIBTY"
      },
      "source": [
        "Para poder acceder a un elemento en una lista, vamos a usar indices al igual que lo hicimos con los strings. También podemos obtener parte de la lista usando la notación `lista[n:m]` como lo hicimos en los strings.  \n",
        "Algo que no dijimos es que si omito el primer indice, `lista[:m]`, esto indica que mi substring comienza con el indice 0, y si omito el segundo indice `lista[n:]` indica que mi substring va hasta el final de la lista."
      ]
    },
    {
      "cell_type": "code",
      "execution_count": null,
      "metadata": {
        "id": "32wu0OtvIBTZ",
        "colab": {
          "base_uri": "https://localhost:8080/"
        },
        "outputId": "e2c9c8c9-32a3-465f-f7cc-d44fd03fb884"
      },
      "outputs": [
        {
          "output_type": "stream",
          "name": "stdout",
          "text": [
            "14\n"
          ]
        }
      ],
      "source": [
        "#Imprime el cuarto elemento de la lista primer_lista\n",
        "print(primer_lista[3])"
      ]
    },
    {
      "cell_type": "code",
      "execution_count": null,
      "metadata": {
        "id": "KTya2MHeIBTZ",
        "colab": {
          "base_uri": "https://localhost:8080/"
        },
        "outputId": "a304bccd-d0b7-4523-a51e-56c0df2ebe6f"
      },
      "outputs": [
        {
          "output_type": "stream",
          "name": "stdout",
          "text": [
            "6\n"
          ]
        }
      ],
      "source": [
        "#Imprime el resultado de sumar los numeros 2 y 4 contenidos en la siguiente lista\n",
        "mis_numeros = [3, 5, 6, 4, 21, 2, 5]\n",
        "\n",
        "print(mis_numeros[3]+mis_numeros[5])"
      ]
    },
    {
      "cell_type": "code",
      "execution_count": null,
      "metadata": {
        "id": "kA-3X2TAIBTZ"
      },
      "outputs": [],
      "source": [
        "primer_lista[5] = 4"
      ]
    },
    {
      "cell_type": "code",
      "execution_count": null,
      "metadata": {
        "id": "1Nj70aSVIBTZ",
        "colab": {
          "base_uri": "https://localhost:8080/"
        },
        "outputId": "d56464da-5fa5-4cde-c2de-4ec3c15efbc9"
      },
      "outputs": [
        {
          "output_type": "stream",
          "name": "stdout",
          "text": [
            "[3, 4, 5, 14, 'hola', 4, 'rojo', False, 'AZUL', True]\n"
          ]
        }
      ],
      "source": [
        "print(primer_lista)"
      ]
    },
    {
      "cell_type": "markdown",
      "metadata": {
        "id": "mpz6p5j1IBTZ"
      },
      "source": [
        "Hasta ahora vimos solo como acceder utilizando indices positivos, pero también podemos acceder usando **indices negativos**. El último caracter tendra el indice -1, el anteultimo -2 y así sucesivamente."
      ]
    },
    {
      "cell_type": "code",
      "execution_count": null,
      "metadata": {
        "id": "HUyx-8CGIBTZ",
        "colab": {
          "base_uri": "https://localhost:8080/"
        },
        "outputId": "474282f7-5e3b-44c2-fb7b-a8206318cc3f"
      },
      "outputs": [
        {
          "output_type": "execute_result",
          "data": {
            "text/plain": [
              "True"
            ]
          },
          "metadata": {},
          "execution_count": 82
        }
      ],
      "source": [
        "#Imprime el ultimo elemento de la lista primer_lista\n",
        "primer_lista[-1]"
      ]
    },
    {
      "cell_type": "code",
      "execution_count": null,
      "metadata": {
        "id": "Ih9bthW6IBTZ",
        "colab": {
          "base_uri": "https://localhost:8080/"
        },
        "outputId": "83b1be94-6738-4602-dab5-395289c7cb75"
      },
      "outputs": [
        {
          "output_type": "execute_result",
          "data": {
            "text/plain": [
              "[14, 'hola', 4]"
            ]
          },
          "metadata": {},
          "execution_count": 83
        }
      ],
      "source": [
        "#Imprime la sublista que va desde el cuarto elemento hasta el sexto elemento inclusive de la lista primer_lista\n",
        "primer_lista[3:6]"
      ]
    },
    {
      "cell_type": "code",
      "execution_count": null,
      "metadata": {
        "id": "7fzCCROQIBTa",
        "colab": {
          "base_uri": "https://localhost:8080/"
        },
        "outputId": "829d25e9-a4ef-492e-8e02-5f85bb379162"
      },
      "outputs": [
        {
          "output_type": "stream",
          "name": "stdout",
          "text": [
            "[3, 4, 5, 14, 'hola']\n",
            "[4, 'rojo', False, 'AZUL', True]\n"
          ]
        }
      ],
      "source": [
        "#Imprime la sublista que contenga los primeros cinco elementos de primer_lista\n",
        "print(primer_lista[:5])\n",
        "\n",
        "#Imprime la sublista que contenga los últimos cinco elementos de primer_lista\n",
        "print(primer_lista[-5:])"
      ]
    },
    {
      "cell_type": "markdown",
      "metadata": {
        "id": "Yculi1vPIBTa"
      },
      "source": [
        "La función `len()` nos permite saber cuantos elementos hay en una lista."
      ]
    },
    {
      "cell_type": "code",
      "execution_count": null,
      "metadata": {
        "id": "7HKXyXgnIBTa",
        "colab": {
          "base_uri": "https://localhost:8080/"
        },
        "outputId": "c832472a-b621-4dce-8f40-057a4896d0eb"
      },
      "outputs": [
        {
          "output_type": "execute_result",
          "data": {
            "text/plain": [
              "22"
            ]
          },
          "metadata": {},
          "execution_count": 85
        }
      ],
      "source": [
        "#¿Cuantos elementos hay en la siguiente lista?\n",
        "elementos_listas = [12, 241, 141, 5151, \"hola\", \"python\", 41, 141, \"data science\", \"mujeres\", True, 343.98,\n",
        "                    \"hallway\", 11.25, \"kitchen\", 18.0,\n",
        "                    \"living room\", 20.0, \"bedroom\", 10.75, \"bathroom\", 9.50]\n",
        "\n",
        "#Numero elementos en lista\n",
        "len(elementos_listas)"
      ]
    },
    {
      "cell_type": "markdown",
      "metadata": {
        "id": "BDKUyHxGIBTa"
      },
      "source": [
        "El operador `in` nos permite saber si un elemento esta en una lista."
      ]
    },
    {
      "cell_type": "code",
      "execution_count": null,
      "metadata": {
        "id": "kZfggC4_IBTa",
        "colab": {
          "base_uri": "https://localhost:8080/"
        },
        "outputId": "e2883c1b-b023-4f57-bd77-56986c3dc59a"
      },
      "outputs": [
        {
          "output_type": "execute_result",
          "data": {
            "text/plain": [
              "False"
            ]
          },
          "metadata": {},
          "execution_count": 91
        }
      ],
      "source": [
        "#Chequea si False esta en elementos_lista\n",
        "False in elementos_listas\n"
      ]
    },
    {
      "cell_type": "markdown",
      "source": [],
      "metadata": {
        "id": "MdXQ2QTMfFnz"
      }
    },
    {
      "cell_type": "code",
      "source": [
        "1 in elementos_listas #como True == 1, es verdadero que 1 está en la lista"
      ],
      "metadata": {
        "colab": {
          "base_uri": "https://localhost:8080/"
        },
        "id": "N4V6KKX5eJfN",
        "outputId": "f85c6167-029c-488d-9314-5dfd4b17bab5"
      },
      "execution_count": null,
      "outputs": [
        {
          "output_type": "execute_result",
          "data": {
            "text/plain": [
              "True"
            ]
          },
          "metadata": {},
          "execution_count": 104
        }
      ]
    },
    {
      "cell_type": "markdown",
      "metadata": {
        "id": "ukCu6uUYIBTa"
      },
      "source": [
        "Dijimos que las listas son estructuras de datos que pueden alterarse, o son mutables. Eso significa que podemos reasignar valores una vez definida la lista. Para esto especificamos usando el indice que elemento(s) queremos redefinir y le asignamos un nuevo valor."
      ]
    },
    {
      "cell_type": "code",
      "execution_count": null,
      "metadata": {
        "id": "p3P1OQwpIBTa",
        "colab": {
          "base_uri": "https://localhost:8080/",
          "height": 35
        },
        "outputId": "7833625e-d009-4b49-e600-5136ca01e912"
      },
      "outputs": [
        {
          "output_type": "execute_result",
          "data": {
            "text/plain": [
              "'hola'"
            ],
            "application/vnd.google.colaboratory.intrinsic+json": {
              "type": "string"
            }
          },
          "metadata": {},
          "execution_count": 87
        }
      ],
      "source": [
        "#Imprime el quinto elemento presente en elementos_lista\n",
        "elementos_listas[4]"
      ]
    },
    {
      "cell_type": "code",
      "execution_count": null,
      "metadata": {
        "id": "GPlQD3HRIBTb"
      },
      "outputs": [],
      "source": [
        "#Asigna ahora el valor \"chau\" al quinto elemento de elementos_lista\n",
        "elementos_listas[4] = 'chau'"
      ]
    },
    {
      "cell_type": "code",
      "execution_count": null,
      "metadata": {
        "id": "F0Fa1NBmIBTb",
        "colab": {
          "base_uri": "https://localhost:8080/"
        },
        "outputId": "71bd3f08-980b-4d17-a421-d8563b1184bd"
      },
      "outputs": [
        {
          "output_type": "stream",
          "name": "stdout",
          "text": [
            "[12, 241, 141, 5151, 'hola', 'python', 41, 141, 'data science', 'mujeres', True, 343.98, 'hallway', 11.25, 'kitchen', 18.0, 'living room', 20.0, 'bedroom', 10.75, 'bathroom', 9.5]\n"
          ]
        }
      ],
      "source": [
        "#Imprime la lista elementos_lista\n",
        "print(elementos_listas)"
      ]
    },
    {
      "cell_type": "markdown",
      "metadata": {
        "id": "Ttzy9a_bIBTb"
      },
      "source": [
        "Las listas también se pueden concatenar utilizando el operador `+`."
      ]
    },
    {
      "cell_type": "code",
      "execution_count": null,
      "metadata": {
        "id": "0szEB-XUIBTb"
      },
      "outputs": [],
      "source": [
        "#Concatena las listas elementos_listas y primer_lista. Asignaselo a la variable nueva_lista\n",
        "nueva_lista = elementos_listas + primer_lista\n",
        "\n",
        "#Imprime nueva_lista\n",
        "print(nueva_lista)"
      ]
    },
    {
      "cell_type": "markdown",
      "metadata": {
        "id": "oWR5iUJWIBTb"
      },
      "source": [
        "### Diccionarios"
      ]
    },
    {
      "cell_type": "markdown",
      "metadata": {
        "id": "Zx3ilPX6IBTb"
      },
      "source": [
        "Otra estructura de datos muy útil son los diccionarios. Los diccionarios en Python son un tipo de estructuras de datos que permite guardar un conjunto **no ordenado** de pares **clave-valor**, siendo las claves únicas dentro de un mismo diccionario (es decir que no pueden existir dos elementos con una misma clave).\n",
        "\n",
        "En Python, los diccionarios se definen utilizando llaves `{}` y cada uno de los elementos estan separados por comas. Cada elemento lo definimos con su par clave:valor, pudiendo ser la clave y el valor de cualquier tipo (`int`, `float`, `string`, `bool`)."
      ]
    },
    {
      "cell_type": "code",
      "execution_count": null,
      "metadata": {
        "id": "rbunhNRiIBTb"
      },
      "outputs": [],
      "source": [
        "diccionario = {\n",
        "    #clave : valor\n",
        "    'Alberto' : [10, 87, True],\n",
        "    'John' : False,\n",
        "    'Juan' : 12,\n",
        "    'Amanda' : [43, 5],\n",
        "    'Maria': 45\n",
        "}"
      ]
    },
    {
      "cell_type": "code",
      "source": [],
      "metadata": {
        "id": "cJkrI-ZkT1k2"
      },
      "execution_count": null,
      "outputs": []
    },
    {
      "cell_type": "code",
      "execution_count": null,
      "metadata": {
        "id": "-zzJm4TVIBTc"
      },
      "outputs": [],
      "source": [
        "dictionary = {\n",
        "    9 : 'hola'\n",
        "}"
      ]
    },
    {
      "cell_type": "code",
      "execution_count": null,
      "metadata": {
        "id": "6fLfth-gIBTc"
      },
      "outputs": [],
      "source": [
        "dictionary[9]"
      ]
    },
    {
      "cell_type": "code",
      "execution_count": null,
      "metadata": {
        "id": "TpJzkG_yIBTc"
      },
      "outputs": [],
      "source": [
        "#Corre la siguiente linea y observa el resultado\n",
        "diccionario.keys()"
      ]
    },
    {
      "cell_type": "markdown",
      "metadata": {
        "id": "7T-_Ie0wIBTc"
      },
      "source": [
        "Para acceder a los valores, se hace mediante la clave utilizando también corchetes."
      ]
    },
    {
      "cell_type": "code",
      "execution_count": null,
      "metadata": {
        "id": "BhMXJsggIBTc"
      },
      "outputs": [],
      "source": [
        "#Imprime los valores asociados con la clave 'Alberto'\n",
        "print(diccionario['Alberto'])"
      ]
    },
    {
      "cell_type": "code",
      "execution_count": null,
      "metadata": {
        "id": "pVIR3PPfIBTc"
      },
      "outputs": [],
      "source": [
        "#Corre la siguiente linea y observa el resultado\n",
        "diccionario.values()"
      ]
    },
    {
      "cell_type": "markdown",
      "metadata": {
        "id": "ElGKFrOUIBTc"
      },
      "source": [
        "## Operadores Aritmeticos"
      ]
    },
    {
      "cell_type": "markdown",
      "metadata": {
        "id": "LX6vFGUeIBTd"
      },
      "source": [
        "Python puede usarse para hacer calculos básicos. Veamos alguna de las funciones que pueden ser utilizadas en Python."
      ]
    },
    {
      "cell_type": "code",
      "execution_count": null,
      "metadata": {
        "id": "hR4ZBssNIBTd"
      },
      "outputs": [],
      "source": [
        "#Suma\n",
        "print(4 + 3)\n",
        "#Resta\n",
        "print(5 - 2)\n",
        "#Multiplicacion\n",
        "print(3 * 5)\n",
        "#División\n",
        "print(10 / 2)"
      ]
    },
    {
      "cell_type": "code",
      "execution_count": null,
      "metadata": {
        "id": "jOFITeRbIBTd"
      },
      "outputs": [],
      "source": [
        "#Corre las siguientes celdas y descubre que funciones se utilizan\n",
        "print(4 ** 2)\n",
        "print(18 % 7)\n",
        "print(7//2)"
      ]
    },
    {
      "cell_type": "markdown",
      "metadata": {
        "id": "xztoOazpIBTd"
      },
      "source": [
        "### EXPLICACION\n",
        "**La primera funcion es la potenciación esto es $4^2$**\n",
        "\n",
        "**El operador % devuelve el resto de la division, en este caso entre 18 y 7**\n",
        "\n",
        "**El operador // devuelve el cociente de la division entre 7 y 3**"
      ]
    },
    {
      "cell_type": "markdown",
      "metadata": {
        "id": "JSNVpm39IBTd"
      },
      "source": [
        "Supongamos que tenemos \\$100, que podemos invertir obteniendo el 10\\% de interes cada año. Luego del primer año, tendremos 100\\*1.1, luego de dos años tendremos 100\\*1.1\\*1.1.\n",
        "**¿Cuanto tendrás luego de 7 años?**"
      ]
    },
    {
      "cell_type": "markdown",
      "metadata": {
        "id": "24TQ2DxdIBTd"
      },
      "source": [
        "Veremos tipos de operadores que nos permiten realizar comparaciones entre variables o valores."
      ]
    },
    {
      "cell_type": "markdown",
      "metadata": {
        "id": "rYxxQBO1IBTd"
      },
      "source": [
        "### Operadores de comparación"
      ]
    },
    {
      "cell_type": "markdown",
      "metadata": {
        "id": "XjRGmK60IBTe"
      },
      "source": [
        "Hay varios operadores en Python que nos permiten comparar variables o estructura de datos. Observemos la siguiente lista:"
      ]
    },
    {
      "cell_type": "markdown",
      "metadata": {
        "id": "LZvCLmKvIBTe"
      },
      "source": [
        "`==` : los valores son iguales (**OJO!** Es común confundirse y usar `=`, pero acordate que este es usado para asignar variables)  \n",
        "`!=` : los valores no son iguales  \n",
        "`<` : el valor a la izquierda es menor que el valor a la derecha  \n",
        "`>` : el valor a la izquierda es mayor que el valor a la derecha  \n",
        "`<=` : el valor a la izquierda es menor o igual que el valor a la derecha  \n",
        "`>=` : el valor a la izquierda es mayor o igual que el valor a la derecha  "
      ]
    },
    {
      "cell_type": "code",
      "execution_count": null,
      "metadata": {
        "id": "4HplLmBBIBTe"
      },
      "outputs": [],
      "source": [
        "print(mi_bool)"
      ]
    },
    {
      "cell_type": "code",
      "execution_count": null,
      "metadata": {
        "id": "PNMNXOpZIBTe"
      },
      "outputs": [],
      "source": [
        "print(otra_bool)"
      ]
    },
    {
      "cell_type": "code",
      "execution_count": null,
      "metadata": {
        "id": "x-yxh0l8IBTe"
      },
      "outputs": [],
      "source": [
        "#Chequea si las variables mi_bool y otra_bool que definiste mas arriba son iguales\n",
        "mi_bool == otra_bool"
      ]
    },
    {
      "cell_type": "code",
      "execution_count": null,
      "metadata": {
        "id": "0hDJV61IIBTe"
      },
      "outputs": [],
      "source": [
        "mi_bool and otra_bool"
      ]
    },
    {
      "cell_type": "code",
      "execution_count": null,
      "metadata": {
        "id": "lLyl2WY-IBTf"
      },
      "outputs": [],
      "source": [
        "mi_bool or otra_bool"
      ]
    },
    {
      "cell_type": "code",
      "execution_count": null,
      "metadata": {
        "id": "7EWvXphhIBTf"
      },
      "outputs": [],
      "source": [
        "print(float_numero)"
      ]
    },
    {
      "cell_type": "code",
      "execution_count": null,
      "metadata": {
        "id": "A2Fc48JeIBTf"
      },
      "outputs": [],
      "source": [
        "#Chequea si la variable float_numero es mayor a 4\n",
        "float_numero > 4"
      ]
    },
    {
      "cell_type": "code",
      "execution_count": null,
      "metadata": {
        "id": "Q4Ej49lJIBTf"
      },
      "outputs": [],
      "source": [
        "#Chequea si la longitud de la variable primer_lista es mayor o igual que la longitud de elementos_listas\n",
        "len(primer_lista) >= len(elementos_listas)"
      ]
    },
    {
      "cell_type": "code",
      "execution_count": null,
      "metadata": {
        "id": "C8rfForKIBTf"
      },
      "outputs": [],
      "source": [
        "#Chequea si el cuarto elemento de elementos_listas es menor o igual a multiplicar mi_numero por el segundo valor\n",
        "#asociado a la clave Alberto de diccionario\n",
        "elementos_listas[3] <= mi_numero * diccionario['Alberto'][1]"
      ]
    },
    {
      "cell_type": "code",
      "execution_count": null,
      "metadata": {
        "id": "Yd3XHH95IBTf"
      },
      "outputs": [],
      "source": []
    }
  ],
  "metadata": {
    "kernelspec": {
      "display_name": "Python 3",
      "language": "python",
      "name": "python3"
    },
    "language_info": {
      "codemirror_mode": {
        "name": "ipython",
        "version": 3
      },
      "file_extension": ".py",
      "mimetype": "text/x-python",
      "name": "python",
      "nbconvert_exporter": "python",
      "pygments_lexer": "ipython3",
      "version": "3.7.8"
    },
    "colab": {
      "provenance": [],
      "include_colab_link": true
    }
  },
  "nbformat": 4,
  "nbformat_minor": 0
}